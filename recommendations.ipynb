{
 "cells": [
  {
   "cell_type": "markdown",
   "id": "f4095ae4-7294-4b28-853e-88d235002c97",
   "metadata": {},
   "source": [
    "# Инициализация"
   ]
  },
  {
   "cell_type": "markdown",
   "id": "2f2318d2-9df8-4911-915e-15b725c44f8a",
   "metadata": {},
   "source": [
    "Загружаем библиотеки необходимые для выполнения кода ноутбука."
   ]
  },
  {
   "cell_type": "code",
   "execution_count": 60,
   "id": "662d04e7-1b0b-4e4a-9ddf-4526d7fef119",
   "metadata": {},
   "outputs": [],
   "source": [
    "import logging\n",
    "import os\n",
    "import matplotlib.pyplot as plt\n",
    "import numpy as np\n",
    "import pandas as pd\n",
    "import scipy\n",
    "import sys\n",
    "import sklearn.preprocessing\n",
    "import sklearn.metrics\n",
    "import boto3\n",
    "\n",
    "from dotenv import load_dotenv\n",
    "from implicit.als import AlternatingLeastSquares\n",
    "from pandas.tseries.offsets import MonthEnd\n",
    "from sklearn.metrics import mean_squared_error, mean_absolute_error\n",
    "from surprise import Dataset, Reader\n",
    "from surprise import SVD\n",
    "from surprise import accuracy\n",
    "from surprise import NormalPredictor\n",
    "from sklearn.metrics.pairwise import cosine_similarity\n",
    "from catboost import CatBoostClassifier, Pool"
   ]
  },
  {
   "cell_type": "code",
   "execution_count": 2,
   "id": "d80edcf7",
   "metadata": {},
   "outputs": [],
   "source": [
    "%matplotlib inline\n",
    "%config InlineBackend.figure_format = 'png'\n",
    "%config InlineBackend.figure_format = 'retina'"
   ]
  },
  {
   "cell_type": "code",
   "execution_count": 61,
   "id": "f3cf92e0",
   "metadata": {},
   "outputs": [],
   "source": [
    "session = boto3.session.Session()\n",
    "s3_client = session.client(\n",
    "    service_name='s3',\n",
    "    endpoint_url='https://storage.yandexcloud.net'\n",
    ")"
   ]
  },
  {
   "cell_type": "code",
   "execution_count": 58,
   "id": "c9d66825",
   "metadata": {},
   "outputs": [],
   "source": [
    "load_dotenv()\n",
    "S3_BUCKET_NAME = os.getenv(\"S3_BUCKET_NAME\")"
   ]
  },
  {
   "cell_type": "markdown",
   "id": "bf80fbc5-b660-4fac-8fbb-a5cae77313b3",
   "metadata": {},
   "source": [
    "# === ЭТАП 1 ==="
   ]
  },
  {
   "cell_type": "markdown",
   "id": "5263a8b3-fe99-4204-8a2e-105182792c11",
   "metadata": {},
   "source": [
    "# Загрузка первичных данных"
   ]
  },
  {
   "cell_type": "markdown",
   "id": "1b54a6a5-1656-4e3c-99d1-49dc39451d33",
   "metadata": {},
   "source": [
    "Загружаем первичные данные из файлов:\n",
    "- tracks.parquet\n",
    "- catalog_names.parquet\n",
    "- interactions.parquet"
   ]
  },
  {
   "cell_type": "code",
   "execution_count": null,
   "id": "5d4b8961-3f35-4e58-9d6b-3e2dbd2c4224",
   "metadata": {},
   "outputs": [],
   "source": [
    "tracks = pd.read_parquet(\"./recsys/initial/tracks.parquet\")\n",
    "tracks.info()"
   ]
  },
  {
   "cell_type": "code",
   "execution_count": null,
   "id": "77a7f23e",
   "metadata": {},
   "outputs": [],
   "source": [
    "catalog_names = pd.read_parquet(\"./recsys/initial/catalog_names.parquet\")\n",
    "catalog_names.info()"
   ]
  },
  {
   "cell_type": "code",
   "execution_count": null,
   "id": "8c6b50c9",
   "metadata": {},
   "outputs": [],
   "source": [
    "interactions = pd.read_parquet(\"./recsys/initial/interactions.parquet\")\n",
    "interactions.info()"
   ]
  },
  {
   "cell_type": "markdown",
   "id": "e8f2a1f7-a05f-4f39-af90-5f4018aa6f9d",
   "metadata": {},
   "source": [
    "# Обзор данных"
   ]
  },
  {
   "cell_type": "markdown",
   "id": "46a85307-896c-4fac-9fcf-f0dffa90889e",
   "metadata": {},
   "source": [
    "Проверяем данные, есть ли с ними явные проблемы."
   ]
  },
  {
   "cell_type": "code",
   "execution_count": null,
   "id": "c9f8f17e-9b56-4f5a-a463-f694a993effb",
   "metadata": {},
   "outputs": [],
   "source": [
    "tracks.sample(3).T"
   ]
  },
  {
   "cell_type": "code",
   "execution_count": null,
   "id": "f6beaa86",
   "metadata": {},
   "outputs": [],
   "source": [
    "tracks['track_id'].nunique()"
   ]
  },
  {
   "cell_type": "code",
   "execution_count": null,
   "id": "efd2e2eb-3bec-4ce1-87ac-232bab8bc0d0",
   "metadata": {},
   "outputs": [],
   "source": [
    "catalog_names.sample(3).T"
   ]
  },
  {
   "cell_type": "code",
   "execution_count": null,
   "id": "a54bdf46",
   "metadata": {},
   "outputs": [],
   "source": [
    "catalog_names['id'].nunique()"
   ]
  },
  {
   "cell_type": "code",
   "execution_count": null,
   "id": "2b879ec5",
   "metadata": {},
   "outputs": [],
   "source": [
    "catalog_names['type'].value_counts()"
   ]
  },
  {
   "cell_type": "code",
   "execution_count": null,
   "id": "2572a5b1",
   "metadata": {},
   "outputs": [],
   "source": [
    "interactions.sample(3).T"
   ]
  },
  {
   "cell_type": "code",
   "execution_count": null,
   "id": "5064d5ca",
   "metadata": {},
   "outputs": [],
   "source": [
    "interactions['user_id'].value_counts()"
   ]
  },
  {
   "cell_type": "code",
   "execution_count": null,
   "id": "dd7ab4fa",
   "metadata": {},
   "outputs": [],
   "source": [
    "interactions[\"started_at\"].dt.to_period('M').value_counts()"
   ]
  },
  {
   "cell_type": "code",
   "execution_count": null,
   "id": "47153d05",
   "metadata": {},
   "outputs": [],
   "source": [
    "interactions[\"started_at\"].dt.to_period('Y').value_counts()"
   ]
  },
  {
   "cell_type": "markdown",
   "id": "318b573a-9e2d-4808-95db-60cfb8bbdb73",
   "metadata": {
    "editable": true,
    "slideshow": {
     "slide_type": ""
    },
    "tags": []
   },
   "source": [
    "# Выводы"
   ]
  },
  {
   "cell_type": "markdown",
   "id": "caa96e12-36a8-4401-8f11-98627a49ae9d",
   "metadata": {},
   "source": [
    "Приведём выводы по первому знакомству с данными:\n",
    "- есть ли с данными явные проблемы,\n",
    "- какие корректирующие действия (в целом) были предприняты."
   ]
  },
  {
   "cell_type": "markdown",
   "id": "d25ab735",
   "metadata": {},
   "source": [
    "1. Необходимо удалить пользователей с 5 или меньше событиями  \n",
    "2. Для сокращения размера лучше оставить информацию за последние 2 месяца\n",
    "3. Необходимо объединить информацию о треках с треками"
   ]
  },
  {
   "cell_type": "code",
   "execution_count": null,
   "id": "f58cd010-c2fa-475f-b7e9-767965cd4f55",
   "metadata": {},
   "outputs": [],
   "source": [
    "interactions = interactions[interactions.groupby(['user_id']).transform('size') > 5]\n",
    "interactions['user_id'].value_counts()"
   ]
  },
  {
   "cell_type": "code",
   "execution_count": null,
   "id": "ef390eff",
   "metadata": {},
   "outputs": [],
   "source": [
    "interactions.info()"
   ]
  },
  {
   "cell_type": "code",
   "execution_count": null,
   "id": "3ecc350a",
   "metadata": {},
   "outputs": [],
   "source": [
    "event_cutoff_date = pd.to_datetime(\"2022-11-01\").date()\n",
    "interactions = interactions.query(\"started_at > @event_cutoff_date\").copy()"
   ]
  },
  {
   "cell_type": "code",
   "execution_count": null,
   "id": "d0c8ac72",
   "metadata": {},
   "outputs": [],
   "source": [
    "interactions.info()"
   ]
  },
  {
   "cell_type": "code",
   "execution_count": null,
   "id": "fde091a4",
   "metadata": {},
   "outputs": [],
   "source": [
    "catalog_names['type'].value_counts()"
   ]
  },
  {
   "cell_type": "code",
   "execution_count": null,
   "id": "857a0f32",
   "metadata": {},
   "outputs": [],
   "source": [
    "track_names = catalog_names.loc[catalog_names['type'] == \"track\"]\n",
    "track_names = track_names.drop(columns=[\"type\"])\n",
    "track_names.info()"
   ]
  },
  {
   "cell_type": "code",
   "execution_count": null,
   "id": "854b986e",
   "metadata": {},
   "outputs": [],
   "source": [
    "album_names = catalog_names.loc[catalog_names['type'] == \"album\"]\n",
    "album_names = album_names.drop(columns=[\"type\"])\n",
    "album_names = album_names.rename(columns={\"name\": \"album_name\"})\n",
    "album_names.info()"
   ]
  },
  {
   "cell_type": "code",
   "execution_count": null,
   "id": "856c35e9",
   "metadata": {},
   "outputs": [],
   "source": [
    "album_names['id'].nunique()"
   ]
  },
  {
   "cell_type": "code",
   "execution_count": null,
   "id": "4e0b35eb",
   "metadata": {},
   "outputs": [],
   "source": [
    "artist_names = catalog_names.loc[catalog_names['type'] == \"artist\"]\n",
    "artist_names = artist_names.drop(columns=[\"type\"])\n",
    "artist_names = artist_names.rename(columns={\"name\": \"artist_name\"})\n",
    "artist_names.info()"
   ]
  },
  {
   "cell_type": "code",
   "execution_count": null,
   "id": "04e56af5",
   "metadata": {},
   "outputs": [],
   "source": [
    "genre_names = catalog_names.loc[catalog_names['type'] == \"genre\"]\n",
    "genre_names = genre_names.drop(columns=[\"type\"])\n",
    "genre_names = genre_names.rename(columns={\"name\": \"genre_name\"})\n",
    "genre_names.info()"
   ]
  },
  {
   "cell_type": "code",
   "execution_count": null,
   "id": "7bc2d285",
   "metadata": {},
   "outputs": [],
   "source": [
    "tracks = tracks.merge(track_names, left_on='track_id', right_on='id')\n",
    "tracks.head()"
   ]
  },
  {
   "cell_type": "code",
   "execution_count": 25,
   "id": "b419b021",
   "metadata": {},
   "outputs": [],
   "source": [
    "genre_names = genre_names.set_index(\"id\")"
   ]
  },
  {
   "cell_type": "code",
   "execution_count": 26,
   "id": "0b009166",
   "metadata": {},
   "outputs": [],
   "source": [
    "tracks['genre_names'] = np.NAN"
   ]
  },
  {
   "cell_type": "code",
   "execution_count": null,
   "id": "5e3e3be9",
   "metadata": {},
   "outputs": [],
   "source": [
    "gnr = genre_names.T.to_dict('list')\n",
    "gnr"
   ]
  },
  {
   "cell_type": "code",
   "execution_count": null,
   "id": "68cddab3",
   "metadata": {},
   "outputs": [],
   "source": [
    "for k,item in tracks['genres'].items():\n",
    "    arr = []\n",
    "    for i in range(len(item)):\n",
    "        if item[i] in gnr.keys():\n",
    "            arr.append(gnr[item[i]][0])\n",
    "    tracks['genre_names'][k] = arr        "
   ]
  },
  {
   "cell_type": "code",
   "execution_count": null,
   "id": "d38ee365",
   "metadata": {},
   "outputs": [],
   "source": [
    "tracks.head(5)"
   ]
  },
  {
   "cell_type": "code",
   "execution_count": 49,
   "id": "be585fce",
   "metadata": {},
   "outputs": [],
   "source": [
    "artist_names = artist_names.set_index(\"id\")"
   ]
  },
  {
   "cell_type": "code",
   "execution_count": null,
   "id": "0fe51b62",
   "metadata": {},
   "outputs": [],
   "source": [
    "artists = artist_names.T.to_dict('list')\n",
    "artists"
   ]
  },
  {
   "cell_type": "code",
   "execution_count": null,
   "id": "988a70b9",
   "metadata": {},
   "outputs": [],
   "source": [
    "artist_names.head()"
   ]
  },
  {
   "cell_type": "code",
   "execution_count": null,
   "id": "3ded4e66",
   "metadata": {},
   "outputs": [],
   "source": [
    "tracks['artist_names'] = np.NAN\n",
    "for k,item in tracks['artists'].items():\n",
    "    arr = []\n",
    "    for i in range(len(item)):\n",
    "        for k_a, i_a in artist_names.items():\n",
    "            if item[i] in i_a.keys():\n",
    "                arr.append(i_a[item[i]])\n",
    "    tracks['artist_names'][k] = arr "
   ]
  },
  {
   "cell_type": "code",
   "execution_count": null,
   "id": "8bd6c13a",
   "metadata": {},
   "outputs": [],
   "source": [
    "tracks.head()"
   ]
  },
  {
   "cell_type": "code",
   "execution_count": 9,
   "id": "2e99eead",
   "metadata": {},
   "outputs": [],
   "source": [
    "album_names = album_names.set_index(\"id\")"
   ]
  },
  {
   "cell_type": "code",
   "execution_count": null,
   "id": "7effef24",
   "metadata": {},
   "outputs": [],
   "source": [
    "tracks['album_names'] = np.NAN\n",
    "for k,item in tracks['albums'].items():\n",
    "    arr = []\n",
    "    for i in range(len(item)):\n",
    "        for k_a, i_a in album_names.items():\n",
    "            if item[i] in i_a.keys():\n",
    "                arr.append(i_a[item[i]])\n",
    "    tracks['album_names'][k] = arr "
   ]
  },
  {
   "cell_type": "code",
   "execution_count": null,
   "id": "6c1e319f",
   "metadata": {},
   "outputs": [],
   "source": [
    "tracks.head(5)"
   ]
  },
  {
   "cell_type": "code",
   "execution_count": 34,
   "id": "19905df6",
   "metadata": {},
   "outputs": [],
   "source": [
    "tracks = tracks.drop(columns=[\"id\"])"
   ]
  },
  {
   "cell_type": "markdown",
   "id": "7bc3296b-eba6-4333-a78d-b9304aa87e3d",
   "metadata": {},
   "source": [
    "# === ЭТАП 2 ==="
   ]
  },
  {
   "cell_type": "markdown",
   "id": "68e73960-fd38-4e15-8db0-9a25c35dfd25",
   "metadata": {},
   "source": [
    "# EDA"
   ]
  },
  {
   "cell_type": "markdown",
   "id": "a30e823e-8e0f-4a76-a02e-8d1ba8bf0f8a",
   "metadata": {},
   "source": [
    "Распределение количества прослушанных треков."
   ]
  },
  {
   "cell_type": "code",
   "execution_count": 7,
   "id": "9bf5eaba-35f7-4da7-be59-9ab4a34b2423",
   "metadata": {},
   "outputs": [],
   "source": [
    "s1 = interactions \\\n",
    "    .groupby([\"track_id\"]).agg(popularity=(\"user_id\", \"nunique\"))"
   ]
  },
  {
   "cell_type": "code",
   "execution_count": null,
   "id": "f592d9a9",
   "metadata": {},
   "outputs": [],
   "source": [
    "s1.sort_values(by=\"popularity\",ascending=False).head(10)"
   ]
  },
  {
   "cell_type": "code",
   "execution_count": 14,
   "id": "0c142bd9",
   "metadata": {},
   "outputs": [],
   "source": [
    "tracks = tracks.merge(s1, how='left', on=['track_id'])"
   ]
  },
  {
   "cell_type": "code",
   "execution_count": 15,
   "id": "16480157",
   "metadata": {},
   "outputs": [],
   "source": [
    "tracks['popularity'] = tracks['popularity'].fillna(0)"
   ]
  },
  {
   "cell_type": "code",
   "execution_count": null,
   "id": "c54ce854",
   "metadata": {},
   "outputs": [],
   "source": [
    "tracks.head()"
   ]
  },
  {
   "cell_type": "code",
   "execution_count": null,
   "id": "497b75ab",
   "metadata": {},
   "outputs": [],
   "source": [
    "plt.subplots(figsize=(16, 6))\n",
    "plt.plot(tracks['track_id'], tracks['popularity'])"
   ]
  },
  {
   "cell_type": "markdown",
   "id": "d765519a-18dd-4d30-9e29-cc2d84cacd79",
   "metadata": {},
   "source": [
    "Наиболее популярные треки"
   ]
  },
  {
   "cell_type": "code",
   "execution_count": null,
   "id": "aecaf630-fde0-4860-b84a-42c933a9606e",
   "metadata": {},
   "outputs": [],
   "source": [
    "tracks.sort_values(by=\"popularity\",ascending=False).head()"
   ]
  },
  {
   "cell_type": "markdown",
   "id": "b1c32a5a-d3be-4f96-8dd9-f7860951020c",
   "metadata": {},
   "source": [
    "Наиболее популярные жанры"
   ]
  },
  {
   "cell_type": "code",
   "execution_count": 20,
   "id": "1bc50491-9235-4d3c-a6c2-297f7c05a959",
   "metadata": {},
   "outputs": [],
   "source": [
    "genre_pop = {}\n",
    "    \n",
    "    \n",
    "for k,item in tracks['genres'].items():\n",
    "    for i in range(len(item)):\n",
    "        if item[i] in genre_pop.keys():\n",
    "            genre_pop[item[i]] += tracks['popularity'][item[i]]\n",
    "        else:\n",
    "            genre_pop[item[i]] = tracks['popularity'][item[i]]\n"
   ]
  },
  {
   "cell_type": "code",
   "execution_count": null,
   "id": "0e986ea4",
   "metadata": {},
   "outputs": [],
   "source": [
    "genre_pop"
   ]
  },
  {
   "cell_type": "code",
   "execution_count": null,
   "id": "83a34e38",
   "metadata": {},
   "outputs": [],
   "source": [
    "genre_popularity = pd.DataFrame.from_dict(genre_pop, orient='index')\n",
    "genre_popularity"
   ]
  },
  {
   "cell_type": "code",
   "execution_count": null,
   "id": "c9a17010",
   "metadata": {},
   "outputs": [],
   "source": [
    "genre_popularity = genre_popularity.reset_index()\n",
    "genre_popularity"
   ]
  },
  {
   "cell_type": "code",
   "execution_count": null,
   "id": "251ad432",
   "metadata": {},
   "outputs": [],
   "source": [
    "genre_popularity = genre_popularity.merge(genre_names, how=\"right\", on=\"id\")\n",
    "genre_popularity"
   ]
  },
  {
   "cell_type": "code",
   "execution_count": null,
   "id": "b1900d1f",
   "metadata": {},
   "outputs": [],
   "source": [
    "genre_popularity = genre_popularity.rename(columns={0:\"genre_popularity\"})\n",
    "genre_popularity[\"genre_popularity\"] = genre_popularity[\"genre_popularity\"].fillna(0)\n",
    "genre_popularity.head()"
   ]
  },
  {
   "cell_type": "code",
   "execution_count": null,
   "id": "0442ba3e",
   "metadata": {},
   "outputs": [],
   "source": [
    "genre_popularity.sort_values(by='genre_popularity',ascending=False)"
   ]
  },
  {
   "cell_type": "markdown",
   "id": "15254e66-e80e-473b-ba24-abebea5ccac7",
   "metadata": {},
   "source": [
    "Треки, которые никто не прослушал"
   ]
  },
  {
   "cell_type": "code",
   "execution_count": null,
   "id": "50bc50c6-2d83-4c7e-97fa-3e7627978438",
   "metadata": {},
   "outputs": [],
   "source": [
    "not_list = tracks[~tracks['track_id'].isin(interactions['track_id'])]\n",
    "not_list"
   ]
  },
  {
   "cell_type": "markdown",
   "id": "0d850a07-ef1e-462f-891a-1cf89f2e24ef",
   "metadata": {},
   "source": [
    "# Преобразование данных"
   ]
  },
  {
   "cell_type": "markdown",
   "id": "fabcf8d2-1192-4df5-b20b-fbb84689f57a",
   "metadata": {},
   "source": [
    "Преобразуем данные в формат, более пригодный для дальнейшего использования в расчётах рекомендаций."
   ]
  },
  {
   "cell_type": "code",
   "execution_count": null,
   "id": "a425556a-9382-45ca-a04e-f1981a522126",
   "metadata": {},
   "outputs": [],
   "source": [
    "interactions['started_at'] = interactions['started_at'].dt.date\n",
    "interactions.head()"
   ]
  },
  {
   "cell_type": "code",
   "execution_count": null,
   "id": "bd3f9ab5",
   "metadata": {},
   "outputs": [],
   "source": [
    "interactions['rating'] = interactions.groupby(\"user_id\")['track_seq'].rank(method='dense', ascending=False)\n",
    "interactions.head()"
   ]
  },
  {
   "cell_type": "markdown",
   "id": "4d1be653-eed8-4fa0-a9c5-3811b080d71d",
   "metadata": {},
   "source": [
    "# Сохранение данных"
   ]
  },
  {
   "cell_type": "markdown",
   "id": "36f1314a-3af3-4faf-a0b1-3045173d1500",
   "metadata": {},
   "source": [
    "Сохраним данные в двух файлах в персональном S3-бакете по пути `recsys/data/`:\n",
    "- `items.parquet` — все данные о музыкальных треках,\n",
    "- `events.parquet` — все данные о взаимодействиях."
   ]
  },
  {
   "cell_type": "code",
   "execution_count": 32,
   "id": "9f77af17-7705-4fae-9aad-db579b39faad",
   "metadata": {},
   "outputs": [],
   "source": [
    "tracks.to_parquet(\"./recsys/data/items.parquet\")\n",
    "interactions.to_parquet(\"./recsys/data/events.parquet\")\n",
    "genre_popularity.to_parquet(\"./recsys/data/genre_popularity.parquet\")"
   ]
  },
  {
   "cell_type": "code",
   "execution_count": 62,
   "id": "1a0e47fa",
   "metadata": {},
   "outputs": [],
   "source": [
    "s3_client.upload_file('./recsys/data/items.parquet', S3_BUCKET_NAME, 'recsys/data/items.parquet')"
   ]
  },
  {
   "cell_type": "code",
   "execution_count": 64,
   "id": "f5903c1b",
   "metadata": {},
   "outputs": [],
   "source": [
    "s3_client.upload_file('./recsys/data/events.parquet', S3_BUCKET_NAME, 'recsys/data/events.parquet')"
   ]
  },
  {
   "cell_type": "markdown",
   "id": "72ecbbed-c560-44d9-9c14-86c7dc76f399",
   "metadata": {},
   "source": [
    "# Очистка памяти"
   ]
  },
  {
   "cell_type": "markdown",
   "id": "b5358ede-ba6e-4c4f-bd73-5b9344f0ba79",
   "metadata": {},
   "source": [
    "Здесь, может понадобится очистка памяти для высвобождения ресурсов для выполнения кода ниже. \n",
    "\n",
    "Приведите соответствующие код, комментарии, например:\n",
    "- код для удаление более ненужных переменных,\n",
    "- комментарий, что следует перезапустить kernel, выполнить такие-то начальные секции и продолжить с этапа 3."
   ]
  },
  {
   "cell_type": "code",
   "execution_count": null,
   "id": "767fe920-e12e-4ad8-b04e-56e8091fac9f",
   "metadata": {},
   "outputs": [],
   "source": []
  },
  {
   "cell_type": "markdown",
   "id": "708503df-ee89-4cf3-8489-093dc478e2a8",
   "metadata": {},
   "source": [
    "# === ЭТАП 3 ==="
   ]
  },
  {
   "cell_type": "markdown",
   "id": "fd77de22-e10f-4b42-85c1-8fb6f805fe68",
   "metadata": {},
   "source": [
    "# Загрузка данных"
   ]
  },
  {
   "cell_type": "markdown",
   "id": "780a4241-1ecd-4a3e-bbb3-fc2f6ca94f68",
   "metadata": {},
   "source": [
    "Если необходимо, то загружаем items.parquet, events.parquet."
   ]
  },
  {
   "cell_type": "code",
   "execution_count": 13,
   "id": "f19fc8a5-bd2c-40d7-864a-ee75aca6d512",
   "metadata": {},
   "outputs": [
    {
     "name": "stdout",
     "output_type": "stream",
     "text": [
      "<class 'pandas.core.frame.DataFrame'>\n",
      "RangeIndex: 1000000 entries, 0 to 999999\n",
      "Data columns (total 9 columns):\n",
      " #   Column        Non-Null Count    Dtype  \n",
      "---  ------        --------------    -----  \n",
      " 0   track_id      1000000 non-null  int64  \n",
      " 1   albums        1000000 non-null  object \n",
      " 2   artists       1000000 non-null  object \n",
      " 3   genres        1000000 non-null  object \n",
      " 4   name          1000000 non-null  object \n",
      " 5   genre_names   1000000 non-null  object \n",
      " 6   artist_names  1000000 non-null  object \n",
      " 7   album_names   1000000 non-null  object \n",
      " 8   popularity    1000000 non-null  float64\n",
      "dtypes: float64(1), int64(1), object(7)\n",
      "memory usage: 68.7+ MB\n"
     ]
    }
   ],
   "source": [
    "items = pd.read_parquet(\"./recsys/data/items.parquet\")\n",
    "items.info()"
   ]
  },
  {
   "cell_type": "code",
   "execution_count": 3,
   "id": "b6d48f6a",
   "metadata": {},
   "outputs": [
    {
     "name": "stdout",
     "output_type": "stream",
     "text": [
      "<class 'pandas.core.frame.DataFrame'>\n",
      "Index: 63918740 entries, 31 to 291\n",
      "Data columns (total 5 columns):\n",
      " #   Column      Dtype  \n",
      "---  ------      -----  \n",
      " 0   user_id     int32  \n",
      " 1   track_id    int32  \n",
      " 2   track_seq   int16  \n",
      " 3   started_at  object \n",
      " 4   rating      float64\n",
      "dtypes: float64(1), int16(1), int32(2), object(1)\n",
      "memory usage: 2.0+ GB\n"
     ]
    }
   ],
   "source": [
    "events = pd.read_parquet(\"./recsys/data/events.parquet\")\n",
    "events.info()"
   ]
  },
  {
   "cell_type": "code",
   "execution_count": null,
   "id": "5db1e801-5845-4ce3-86f2-c2fa30f68cc5",
   "metadata": {},
   "outputs": [],
   "source": [
    "genre_popularity = pd.read_parquet(\"./recsys/data/genre_popularity.parquet\")\n",
    "genre_popularity.info()"
   ]
  },
  {
   "cell_type": "markdown",
   "id": "a694c023-6477-490b-939d-1cfa6f5f1b72",
   "metadata": {},
   "source": [
    "# Разбиение данных"
   ]
  },
  {
   "cell_type": "markdown",
   "id": "fbd5f6e0-54e7-4428-8678-eabce505d82c",
   "metadata": {},
   "source": [
    "Разбиваем данные на тренировочную, тестовую выборки."
   ]
  },
  {
   "cell_type": "code",
   "execution_count": 4,
   "id": "00c2dfa5-d8a2-47d1-922e-6eefee2c62d1",
   "metadata": {},
   "outputs": [
    {
     "name": "stdout",
     "output_type": "stream",
     "text": [
      "1140855 781881 743264\n"
     ]
    }
   ],
   "source": [
    "train_test_global_time_split_date = pd.to_datetime(\"2022-12-16\").date()\n",
    "train_test_global_time_split_idx = events[\"started_at\"] < train_test_global_time_split_date\n",
    "\n",
    "events_train = events[train_test_global_time_split_idx]\n",
    "events_test = events[~train_test_global_time_split_idx]\n",
    "\n",
    "users_train = events_train[\"user_id\"].drop_duplicates()\n",
    "users_test = events_test[\"user_id\"].drop_duplicates()\n",
    "\n",
    "common_users = list(set(users_train) & set(users_test))\n",
    "print(len(users_train), len(users_test), len(common_users)) "
   ]
  },
  {
   "cell_type": "code",
   "execution_count": 5,
   "id": "26fe3e3c-8c5f-4437-bf13-9191adef08bb",
   "metadata": {},
   "outputs": [
    {
     "name": "stdout",
     "output_type": "stream",
     "text": [
      "38617\n"
     ]
    }
   ],
   "source": [
    "cold_users = list(set(users_test) - set(common_users))\n",
    "print(len(cold_users)) "
   ]
  },
  {
   "cell_type": "markdown",
   "id": "9131c7e6-8852-4556-b510-51f7253cc299",
   "metadata": {},
   "source": [
    "# Топ популярных"
   ]
  },
  {
   "cell_type": "markdown",
   "id": "dd70d43a-88cc-4719-b291-feaed7136f30",
   "metadata": {},
   "source": [
    "Рассчитаем рекомендации как топ популярных."
   ]
  },
  {
   "cell_type": "code",
   "execution_count": null,
   "id": "ee45e200-b7d6-4f56-9077-aad431689b96",
   "metadata": {},
   "outputs": [],
   "source": [
    "items['score'] = (items['popularity']/items['popularity'].sum())*1000\n",
    "items.sort_values(by=\"score\",ascending=False).head(5) "
   ]
  },
  {
   "cell_type": "code",
   "execution_count": null,
   "id": "7690c86f-7aa9-46ed-bba5-2c837626411e",
   "metadata": {},
   "outputs": [],
   "source": [
    "top_popular = items.sort_values(by=\"score\",ascending=False).head(100).reset_index(drop=True)\n",
    "top_popular.head(5) "
   ]
  },
  {
   "cell_type": "code",
   "execution_count": 10,
   "id": "7d5bf1ca",
   "metadata": {},
   "outputs": [],
   "source": [
    "top_popular.to_parquet(\"./recsys/recommendations/top_popular.parquet\")"
   ]
  },
  {
   "cell_type": "markdown",
   "id": "2ad231f2-6158-421a-b7fa-01d8bc3ed572",
   "metadata": {},
   "source": [
    "# Персональные"
   ]
  },
  {
   "cell_type": "markdown",
   "id": "86159460-cd9d-4b63-8248-604ea3c9aebf",
   "metadata": {},
   "source": [
    "Рассчитаем персональные рекомендации."
   ]
  },
  {
   "cell_type": "code",
   "execution_count": null,
   "id": "d2944822-569c-4f9b-82dc-70a7fa2d542e",
   "metadata": {},
   "outputs": [],
   "source": [
    "user_encoder = sklearn.preprocessing.LabelEncoder()\n",
    "user_encoder.fit(events[\"user_id\"])\n",
    "events_train[\"user_id_enc\"] = user_encoder.transform(events_train[\"user_id\"])\n",
    "events_test[\"user_id_enc\"] = user_encoder.transform(events_test[\"user_id\"])\n",
    "\n",
    "item_encoder = sklearn.preprocessing.LabelEncoder()\n",
    "item_encoder.fit(items[\"track_id\"])\n",
    "items[\"track_id_enc\"] = item_encoder.transform(items[\"track_id\"])\n",
    "events_train[\"track_id_enc\"] = item_encoder.transform(events_train[\"track_id\"])\n",
    "events_test[\"track_id_enc\"] = item_encoder.transform(events_test[\"track_id\"])"
   ]
  },
  {
   "cell_type": "code",
   "execution_count": null,
   "id": "1df7e018",
   "metadata": {},
   "outputs": [],
   "source": [
    "events_train.head()"
   ]
  },
  {
   "cell_type": "code",
   "execution_count": 13,
   "id": "1e8cdb58-3a8c-45ad-8e5f-7f950314aa56",
   "metadata": {},
   "outputs": [],
   "source": [
    "user_item_matrix_train = scipy.sparse.csr_matrix((\n",
    "    events_train[\"rating\"],\n",
    "    (events_train['user_id_enc'], events_train['track_id_enc'])),\n",
    "    dtype=np.int8)"
   ]
  },
  {
   "cell_type": "code",
   "execution_count": null,
   "id": "3a1e25d6",
   "metadata": {},
   "outputs": [],
   "source": [
    "als_model = AlternatingLeastSquares(factors=50, iterations=50, regularization=0.05, random_state=0)\n",
    "als_model.fit(user_item_matrix_train) "
   ]
  },
  {
   "cell_type": "code",
   "execution_count": 16,
   "id": "2f3da726",
   "metadata": {},
   "outputs": [],
   "source": [
    "user_ids_encoded = range(len(user_encoder.classes_))\n",
    "\n",
    "als_recommendations = als_model.recommend(\n",
    "    user_ids_encoded, \n",
    "    user_item_matrix_train[user_ids_encoded], \n",
    "    filter_already_liked_items=False, N=50)"
   ]
  },
  {
   "cell_type": "code",
   "execution_count": null,
   "id": "bfb916fe",
   "metadata": {},
   "outputs": [],
   "source": [
    "item_ids_enc = als_recommendations[0]\n",
    "als_scores = als_recommendations[1]\n",
    "\n",
    "als_recommendations = pd.DataFrame({\n",
    "    \"user_id_enc\": user_ids_encoded,\n",
    "    \"track_id_enc\": item_ids_enc.tolist(), \n",
    "    \"score\": als_scores.tolist()})\n",
    "als_recommendations = als_recommendations.explode([\"track_id_enc\", \"score\"], ignore_index=True)\n",
    "\n",
    "als_recommendations[\"track_id_enc\"] = als_recommendations[\"track_id_enc\"].astype(\"int\")\n",
    "als_recommendations[\"score\"] = als_recommendations[\"score\"].astype(\"float\")\n",
    "\n",
    "als_recommendations[\"user_id\"] = user_encoder.inverse_transform(als_recommendations[\"user_id_enc\"])\n",
    "als_recommendations[\"item_id\"] = item_encoder.inverse_transform(als_recommendations[\"track_id_enc\"])\n",
    "als_recommendations = als_recommendations.drop(columns=[\"user_id_enc\", \"track_id_enc\"])"
   ]
  },
  {
   "cell_type": "code",
   "execution_count": null,
   "id": "97d9d3dd",
   "metadata": {},
   "outputs": [],
   "source": [
    "als_recommendations = als_recommendations[[\"user_id\", \"item_id\", \"score\"]]\n",
    "als_recommendations.head(5)"
   ]
  },
  {
   "cell_type": "code",
   "execution_count": null,
   "id": "a413a67e",
   "metadata": {},
   "outputs": [],
   "source": [
    "als_recommendations = als_recommendations.rename(columns = {\"item_id\":\"track_id\"})\n",
    "als_recommendations.head(5)"
   ]
  },
  {
   "cell_type": "code",
   "execution_count": 23,
   "id": "8a1f6e33",
   "metadata": {},
   "outputs": [],
   "source": [
    "als_recommendations.to_parquet(\"./recsys/recommendations/personal_als.parquet\")"
   ]
  },
  {
   "cell_type": "code",
   "execution_count": 20,
   "id": "c7fd9308",
   "metadata": {},
   "outputs": [],
   "source": [
    "user_item_matrix_test = scipy.sparse.csr_matrix((\n",
    "    events_test[\"rating\"],\n",
    "    (events_test['user_id_enc'], events_test['track_id_enc'])),\n",
    "    dtype=np.int8)"
   ]
  },
  {
   "cell_type": "code",
   "execution_count": null,
   "id": "97b357dd",
   "metadata": {},
   "outputs": [],
   "source": [
    "als_model = AlternatingLeastSquares(factors=50, iterations=50, regularization=0.05, random_state=0)\n",
    "als_model.fit(user_item_matrix_test) "
   ]
  },
  {
   "cell_type": "code",
   "execution_count": 22,
   "id": "ef67f059",
   "metadata": {},
   "outputs": [],
   "source": [
    "user_ids_encoded = range(len(user_encoder.classes_))\n",
    "\n",
    "als_recommendations_test = als_model.recommend(\n",
    "    user_ids_encoded, \n",
    "    user_item_matrix_test[user_ids_encoded], \n",
    "    filter_already_liked_items=False, N=50)"
   ]
  },
  {
   "cell_type": "code",
   "execution_count": 23,
   "id": "5802cb4a",
   "metadata": {},
   "outputs": [],
   "source": [
    "item_ids_enc = als_recommendations_test[0]\n",
    "als_scores = als_recommendations_test[1]\n",
    "\n",
    "als_recommendations_test = pd.DataFrame({\n",
    "    \"user_id_enc\": user_ids_encoded,\n",
    "    \"track_id_enc\": item_ids_enc.tolist(), \n",
    "    \"score\": als_scores.tolist()})\n",
    "als_recommendations_test = als_recommendations_test.explode([\"track_id_enc\", \"score\"], ignore_index=True)\n",
    "\n",
    "als_recommendations_test[\"track_id_enc\"] = als_recommendations_test[\"track_id_enc\"].astype(\"int\")\n",
    "als_recommendations_test[\"score\"] = als_recommendations_test[\"score\"].astype(\"float\")\n",
    "\n",
    "als_recommendations_test[\"user_id\"] = user_encoder.inverse_transform(als_recommendations_test[\"user_id_enc\"])\n",
    "als_recommendations_test[\"track_id\"] = item_encoder.inverse_transform(als_recommendations_test[\"track_id_enc\"])\n",
    "als_recommendations_test = als_recommendations_test.drop(columns=[\"user_id_enc\", \"track_id_enc\"])"
   ]
  },
  {
   "cell_type": "code",
   "execution_count": null,
   "id": "006cce17",
   "metadata": {},
   "outputs": [],
   "source": [
    "als_recommendations_test = als_recommendations_test[[\"user_id\", \"track_id\", \"score\"]]\n",
    "als_recommendations_test.head(5)"
   ]
  },
  {
   "cell_type": "code",
   "execution_count": 25,
   "id": "0a128bd9",
   "metadata": {},
   "outputs": [],
   "source": [
    "als_recommendations_test.to_parquet(\"./recsys/recommendations/personal_als_test.parquet\")"
   ]
  },
  {
   "cell_type": "markdown",
   "id": "5f09dc7e-7c91-4355-860a-b9cfb9f33f15",
   "metadata": {},
   "source": [
    "# Похожие"
   ]
  },
  {
   "cell_type": "markdown",
   "id": "1dfcb683-b440-40a8-9975-894156a53872",
   "metadata": {},
   "source": [
    "Рассчитаем похожие, они позже пригодятся для онлайн-рекомендаций."
   ]
  },
  {
   "cell_type": "code",
   "execution_count": null,
   "id": "a75d07ee-4b12-4ce5-aa85-e45cb7a7a4f0",
   "metadata": {},
   "outputs": [],
   "source": [
    "train_item_ids_enc = events_train['track_id_enc'].unique()\n",
    "\n",
    "max_similar_items = 10\n",
    "\n",
    "similar_items = als_model.similar_items(train_item_ids_enc, N=max_similar_items+1)\n",
    "\n",
    "sim_item_item_ids_enc = similar_items[0]\n",
    "sim_item_scores = similar_items[1]\n",
    "\n",
    "similar_items = pd.DataFrame({\n",
    "    \"track_id_enc\": train_item_ids_enc,\n",
    "    \"sim_track_id_enc\": sim_item_item_ids_enc.tolist(), \n",
    "    \"score\": sim_item_scores.tolist()})\n",
    "similar_items"
   ]
  },
  {
   "cell_type": "code",
   "execution_count": null,
   "id": "ce370904-4c49-4152-8706-416074ea9b9a",
   "metadata": {},
   "outputs": [],
   "source": [
    "similar_items = similar_items.explode([\"sim_track_id_enc\", \"score\"], ignore_index=True)\n",
    "similar_items.head()"
   ]
  },
  {
   "cell_type": "code",
   "execution_count": null,
   "id": "cae5d4cc",
   "metadata": {},
   "outputs": [],
   "source": [
    "similar_items[\"sim_track_id_enc\"] = similar_items[\"sim_track_id_enc\"].astype(\"int\")\n",
    "similar_items[\"score\"] = similar_items[\"score\"].astype(\"float\")\n",
    "similar_items.head()"
   ]
  },
  {
   "cell_type": "code",
   "execution_count": null,
   "id": "a70bd185",
   "metadata": {},
   "outputs": [],
   "source": [
    "similar_items[\"track_id_1\"] = item_encoder.inverse_transform(similar_items[\"track_id_enc\"])\n",
    "similar_items[\"track_id_2\"] = item_encoder.inverse_transform(similar_items[\"sim_track_id_enc\"])\n",
    "similar_items = similar_items.drop(columns=[\"track_id_enc\", \"sim_track_id_enc\"])\n",
    "\n",
    "similar_items = similar_items.query(\"track_id_1 != track_id_2\")\n",
    "similar_items.head()"
   ]
  },
  {
   "cell_type": "code",
   "execution_count": 33,
   "id": "fffd6c81",
   "metadata": {},
   "outputs": [],
   "source": [
    "similar_items.to_parquet(\"./recsys/recommendations/similar.parquet\")"
   ]
  },
  {
   "cell_type": "code",
   "execution_count": 65,
   "id": "6cd24615",
   "metadata": {},
   "outputs": [],
   "source": [
    "s3_client.upload_file('./recsys/recommendations/top_popular.parquet', S3_BUCKET_NAME, 'recsys/recommendations/top_popular.parquet')\n",
    "s3_client.upload_file('./recsys/recommendations/personal_als_test.parquet', S3_BUCKET_NAME, 'recsys/recommendations/personal_als_test.parquet')\n",
    "s3_client.upload_file('./recsys/recommendations/similar.parquet', S3_BUCKET_NAME, 'recsys/recommendations/similar.parquet')"
   ]
  },
  {
   "cell_type": "markdown",
   "id": "0087a3e7-ca9f-42cd-944c-944222c1baef",
   "metadata": {},
   "source": [
    "# Построение признаков"
   ]
  },
  {
   "cell_type": "markdown",
   "id": "e82a32e1-b90b-4eaf-9439-fc8deab9f34b",
   "metadata": {},
   "source": [
    "Построим три признака, можно больше, для ранжирующей модели."
   ]
  },
  {
   "cell_type": "code",
   "execution_count": null,
   "id": "5e7e287c",
   "metadata": {},
   "outputs": [],
   "source": [
    "personal_als = pd.read_parquet(\"./recsys/recommendations/personal_als.parquet\")\n",
    "personal_als.info()"
   ]
  },
  {
   "cell_type": "code",
   "execution_count": null,
   "id": "d6d5a44f",
   "metadata": {},
   "outputs": [],
   "source": [
    "personal_als_test = pd.read_parquet(\"./recsys/recommendations/personal_als_test.parquet\")\n",
    "personal_als_test.info()"
   ]
  },
  {
   "cell_type": "code",
   "execution_count": null,
   "id": "00f84c35-f544-4c3d-ad53-9b1d2b684c75",
   "metadata": {},
   "outputs": [],
   "source": [
    "user_features = events_train.groupby(\"user_id\").agg(\n",
    "    count_tracks=(\"track_id\", \"count\"))\n",
    "user_features.head()"
   ]
  },
  {
   "cell_type": "code",
   "execution_count": null,
   "id": "9eff5c10",
   "metadata": {},
   "outputs": [],
   "source": [
    "user_features_test = events_test.groupby(\"user_id\").agg(\n",
    "    count_tracks=(\"track_id\", \"count\"))\n",
    "user_features_test.head()"
   ]
  },
  {
   "cell_type": "code",
   "execution_count": null,
   "id": "3631304c",
   "metadata": {},
   "outputs": [],
   "source": [
    "candidates_for_test = personal_als_test.merge(user_features_test, on=\"user_id\", how=\"left\")\n",
    "candidates_for_test.head()"
   ]
  },
  {
   "cell_type": "code",
   "execution_count": null,
   "id": "b5e1502b",
   "metadata": {},
   "outputs": [],
   "source": [
    "candidates_for_train = personal_als.merge(user_features, on=\"user_id\", how=\"left\")\n",
    "candidates_for_train.head()"
   ]
  },
  {
   "cell_type": "code",
   "execution_count": null,
   "id": "63d15a90",
   "metadata": {},
   "outputs": [],
   "source": [
    "genre_popularity['genre_rank'] = genre_popularity['genre_popularity'].rank(method='dense', ascending=True)\n",
    "genre_popularity.sort_values(by=\"genre_rank\",ascending=False)"
   ]
  },
  {
   "cell_type": "code",
   "execution_count": null,
   "id": "cf0b3482",
   "metadata": {},
   "outputs": [],
   "source": [
    "genre_features = genre_popularity.drop(columns=['id','genre_popularity','genre_name'])\n",
    "genre_features.head()"
   ]
  },
  {
   "cell_type": "code",
   "execution_count": null,
   "id": "3ff49a1f",
   "metadata": {},
   "outputs": [],
   "source": [
    "items['genre_rank'] = np.NAN\n",
    "for k,item in items['genres'].items():\n",
    "    pop = 0\n",
    "    for i in range(len(item)):\n",
    "        for k_a, i_a in genre_features.items():\n",
    "            if item[i] in i_a.keys():\n",
    "                if pop <= i_a[item[i]]:\n",
    "                    pop = i_a[item[i]]\n",
    "    items['genre_rank'][k] = pop "
   ]
  },
  {
   "cell_type": "code",
   "execution_count": null,
   "id": "d9afb52d",
   "metadata": {},
   "outputs": [],
   "source": [
    "candidates_for_train = candidates_for_train.merge(items[['track_id','genre_rank']], on=\"track_id\", how=\"left\")\n",
    "candidates_for_train.head()"
   ]
  },
  {
   "cell_type": "code",
   "execution_count": null,
   "id": "450a88c9",
   "metadata": {},
   "outputs": [],
   "source": [
    "candidates_for_test = candidates_for_test.merge(items[['track_id','genre_rank']], on=\"track_id\", how=\"left\")\n",
    "candidates_for_test.head()"
   ]
  },
  {
   "cell_type": "code",
   "execution_count": 20,
   "id": "a490a127",
   "metadata": {},
   "outputs": [],
   "source": [
    "candidates_for_test.to_parquet(\"./recsys/recommendations/candidates_for_test.parquet\")\n",
    "candidates_for_train.to_parquet(\"./recsys/recommendations/candidates_for_train.parquet\")"
   ]
  },
  {
   "cell_type": "code",
   "execution_count": 5,
   "id": "f01f9f5b",
   "metadata": {},
   "outputs": [],
   "source": [
    "candidates_for_train = pd.read_parquet(\"./recsys/recommendations/candidates_for_train.parquet\")"
   ]
  },
  {
   "cell_type": "markdown",
   "id": "36d4f818",
   "metadata": {},
   "source": [
    "Признаки: Количество прослушаных треков у пользователя, als_score и пополярность жанра (если у трека два жанра, то выбирается большая)"
   ]
  },
  {
   "cell_type": "markdown",
   "id": "47bcf88d-b236-46f0-a6f3-38ddd64895fe",
   "metadata": {},
   "source": [
    "# Ранжирование рекомендаций"
   ]
  },
  {
   "cell_type": "markdown",
   "id": "e8cd8223-3418-4493-8c87-1f76286ebda0",
   "metadata": {},
   "source": [
    "Построим ранжирующую модель, чтобы сделать рекомендации более точными. Отранжируем рекомендации."
   ]
  },
  {
   "cell_type": "code",
   "execution_count": null,
   "id": "79f1dd92-32a9-463d-827e-8bb9ee5bbb54",
   "metadata": {},
   "outputs": [],
   "source": [
    "events_train[\"target\"] = 1\n",
    "events_train.head()"
   ]
  },
  {
   "cell_type": "code",
   "execution_count": null,
   "id": "d6e38245",
   "metadata": {},
   "outputs": [],
   "source": [
    "candidates_for_train = candidates_for_train.merge(events_train[[\"user_id\", \"track_id\", \"target\"]],\n",
    "                              on=['user_id','track_id'], \n",
    "                              how=\"left\")\n",
    "candidates_for_train.head()"
   ]
  },
  {
   "cell_type": "code",
   "execution_count": 14,
   "id": "ede5cc05",
   "metadata": {},
   "outputs": [],
   "source": [
    "candidates_for_train[\"target\"] = candidates_for_train[\"target\"].fillna(0).astype(\"int\")"
   ]
  },
  {
   "cell_type": "code",
   "execution_count": 15,
   "id": "34b1c755",
   "metadata": {},
   "outputs": [],
   "source": [
    "candidates_for_train = candidates_for_train.groupby(\"user_id\").filter(lambda x: x[\"target\"].sum() > 0)"
   ]
  },
  {
   "cell_type": "code",
   "execution_count": 18,
   "id": "9189183d",
   "metadata": {},
   "outputs": [],
   "source": [
    "candidates_for_train.to_parquet(\"./recsys/recommendations/candidates_for_train.parquet\")"
   ]
  },
  {
   "cell_type": "code",
   "execution_count": 3,
   "id": "63523ee5",
   "metadata": {},
   "outputs": [
    {
     "name": "stdout",
     "output_type": "stream",
     "text": [
      "<class 'pandas.core.frame.DataFrame'>\n",
      "Index: 51213750 entries, 0 to 58973599\n",
      "Data columns (total 6 columns):\n",
      " #   Column        Dtype  \n",
      "---  ------        -----  \n",
      " 0   user_id       int32  \n",
      " 1   track_id      int64  \n",
      " 2   score         float64\n",
      " 3   count_tracks  float64\n",
      " 4   genre_rank    float64\n",
      " 5   target        int64  \n",
      "dtypes: float64(3), int32(1), int64(2)\n",
      "memory usage: 2.5 GB\n"
     ]
    }
   ],
   "source": [
    "candidates_for_train = pd.read_parquet(\"./recsys/recommendations/candidates_for_train.parquet\")\n",
    "candidates_for_train.info()"
   ]
  },
  {
   "cell_type": "code",
   "execution_count": 4,
   "id": "6dbe4db4-1ac5-44da-a13c-8e7f9768ab73",
   "metadata": {},
   "outputs": [
    {
     "name": "stdout",
     "output_type": "stream",
     "text": [
      "0:\tlearn: 0.5950044\ttotal: 4.37s\tremaining: 14m 29s\n",
      "100:\tlearn: 0.3219332\ttotal: 6m 9s\tremaining: 6m 1s\n",
      "199:\tlearn: 0.3215186\ttotal: 11m 57s\tremaining: 0us\n"
     ]
    },
    {
     "data": {
      "text/plain": [
       "<catboost.core.CatBoostClassifier at 0x7f246032a680>"
      ]
     },
     "execution_count": 4,
     "metadata": {},
     "output_type": "execute_result"
    }
   ],
   "source": [
    "features = ['score', 'count_tracks', 'genre_rank']\n",
    "target = 'target'\n",
    "\n",
    "train_data = Pool(\n",
    "    data=candidates_for_train[features], \n",
    "    label=candidates_for_train[target])\n",
    "\n",
    "cb_model = CatBoostClassifier(\n",
    "    iterations=200,\n",
    "    learning_rate=0.1,\n",
    "    depth=6,\n",
    "    loss_function='Logloss',\n",
    "    verbose=100,\n",
    "    random_seed=0,\n",
    ")\n",
    "\n",
    "cb_model.fit(train_data) "
   ]
  },
  {
   "cell_type": "code",
   "execution_count": 5,
   "id": "9fff442f",
   "metadata": {},
   "outputs": [],
   "source": [
    "candidates_for_test = pd.read_parquet(\"./recsys/recommendations/candidates_for_test.parquet\")"
   ]
  },
  {
   "cell_type": "code",
   "execution_count": 6,
   "id": "4e44ec95",
   "metadata": {},
   "outputs": [],
   "source": [
    "inference_data = Pool(data=candidates_for_test[features])\n",
    "predictions = cb_model.predict_proba(inference_data)\n",
    "\n",
    "candidates_for_test[\"cb_score\"] = predictions[:, 1]\n",
    "\n",
    "candidates_for_test = candidates_for_test.sort_values([\"user_id\", \"cb_score\"], ascending=[True, False])\n",
    "candidates_for_test[\"rank\"] = candidates_for_test.groupby(\"user_id\")['cb_score'].rank(method='dense', ascending=False)\n",
    "candidates_for_test['rank'] = np.where(candidates_for_test['rank'] > 100, 100, candidates_for_test['rank'])\n",
    "\n",
    "max_recommendations_per_user = 100\n",
    "final_recommendations = candidates_for_test\\\n",
    "        .groupby(\"user_id\") \\\n",
    "        .head(100)"
   ]
  },
  {
   "cell_type": "code",
   "execution_count": 7,
   "id": "a1eb24d9",
   "metadata": {},
   "outputs": [],
   "source": [
    "final_recommendations.to_parquet(\"./recsys/recommendations/recommendations.parquet\")"
   ]
  },
  {
   "cell_type": "code",
   "execution_count": 66,
   "id": "d046f692",
   "metadata": {},
   "outputs": [],
   "source": [
    "s3_client.upload_file('./recsys/recommendations/recommendations.parquet', S3_BUCKET_NAME, 'recsys/recommendations/recommendations.parquet')"
   ]
  },
  {
   "cell_type": "code",
   "execution_count": 8,
   "id": "16e4e942",
   "metadata": {},
   "outputs": [
    {
     "data": {
      "text/html": [
       "<div>\n",
       "<style scoped>\n",
       "    .dataframe tbody tr th:only-of-type {\n",
       "        vertical-align: middle;\n",
       "    }\n",
       "\n",
       "    .dataframe tbody tr th {\n",
       "        vertical-align: top;\n",
       "    }\n",
       "\n",
       "    .dataframe thead th {\n",
       "        text-align: right;\n",
       "    }\n",
       "</style>\n",
       "<table border=\"1\" class=\"dataframe\">\n",
       "  <thead>\n",
       "    <tr style=\"text-align: right;\">\n",
       "      <th></th>\n",
       "      <th>user_id</th>\n",
       "      <th>track_id</th>\n",
       "      <th>score</th>\n",
       "      <th>count_tracks</th>\n",
       "      <th>genre_rank</th>\n",
       "      <th>cb_score</th>\n",
       "      <th>rank</th>\n",
       "    </tr>\n",
       "  </thead>\n",
       "  <tbody>\n",
       "    <tr>\n",
       "      <th>0</th>\n",
       "      <td>3</td>\n",
       "      <td>78194999</td>\n",
       "      <td>0.008977</td>\n",
       "      <td>1.0</td>\n",
       "      <td>89.0</td>\n",
       "      <td>0.031185</td>\n",
       "      <td>1.0</td>\n",
       "    </tr>\n",
       "    <tr>\n",
       "      <th>4</th>\n",
       "      <td>3</td>\n",
       "      <td>75944934</td>\n",
       "      <td>0.007619</td>\n",
       "      <td>1.0</td>\n",
       "      <td>89.0</td>\n",
       "      <td>0.029039</td>\n",
       "      <td>2.0</td>\n",
       "    </tr>\n",
       "    <tr>\n",
       "      <th>7</th>\n",
       "      <td>3</td>\n",
       "      <td>84382282</td>\n",
       "      <td>0.007052</td>\n",
       "      <td>1.0</td>\n",
       "      <td>89.0</td>\n",
       "      <td>0.027700</td>\n",
       "      <td>3.0</td>\n",
       "    </tr>\n",
       "    <tr>\n",
       "      <th>13</th>\n",
       "      <td>3</td>\n",
       "      <td>78608850</td>\n",
       "      <td>0.006225</td>\n",
       "      <td>1.0</td>\n",
       "      <td>89.0</td>\n",
       "      <td>0.027700</td>\n",
       "      <td>3.0</td>\n",
       "    </tr>\n",
       "    <tr>\n",
       "      <th>16</th>\n",
       "      <td>3</td>\n",
       "      <td>75630144</td>\n",
       "      <td>0.006041</td>\n",
       "      <td>1.0</td>\n",
       "      <td>89.0</td>\n",
       "      <td>0.027700</td>\n",
       "      <td>3.0</td>\n",
       "    </tr>\n",
       "  </tbody>\n",
       "</table>\n",
       "</div>"
      ],
      "text/plain": [
       "    user_id  track_id     score  count_tracks  genre_rank  cb_score  rank\n",
       "0         3  78194999  0.008977           1.0        89.0  0.031185   1.0\n",
       "4         3  75944934  0.007619           1.0        89.0  0.029039   2.0\n",
       "7         3  84382282  0.007052           1.0        89.0  0.027700   3.0\n",
       "13        3  78608850  0.006225           1.0        89.0  0.027700   3.0\n",
       "16        3  75630144  0.006041           1.0        89.0  0.027700   3.0"
      ]
     },
     "execution_count": 8,
     "metadata": {},
     "output_type": "execute_result"
    }
   ],
   "source": [
    "final_recommendations.head()"
   ]
  },
  {
   "cell_type": "markdown",
   "id": "b3c84071-45b5-4a15-a683-e0ab034a3128",
   "metadata": {},
   "source": [
    "# Оценка качества"
   ]
  },
  {
   "cell_type": "markdown",
   "id": "1b107fe4-554e-42b1-87d9-c435a52bb77a",
   "metadata": {},
   "source": [
    "Проверим оценку качества трёх типов рекомендаций: \n",
    "\n",
    "- топ популярных,\n",
    "- персональных, полученных при помощи ALS,\n",
    "- итоговых\n",
    "  \n",
    "по четырем метрикам: recall, precision, coverage, novelty."
   ]
  },
  {
   "cell_type": "code",
   "execution_count": 9,
   "id": "f9e6e40c",
   "metadata": {},
   "outputs": [],
   "source": [
    "final_recommendations = pd.read_parquet(\"./recsys/recommendations/recommendations.parquet\")"
   ]
  },
  {
   "cell_type": "code",
   "execution_count": 11,
   "id": "04b0953d",
   "metadata": {},
   "outputs": [
    {
     "data": {
      "text/html": [
       "<div>\n",
       "<style scoped>\n",
       "    .dataframe tbody tr th:only-of-type {\n",
       "        vertical-align: middle;\n",
       "    }\n",
       "\n",
       "    .dataframe tbody tr th {\n",
       "        vertical-align: top;\n",
       "    }\n",
       "\n",
       "    .dataframe thead th {\n",
       "        text-align: right;\n",
       "    }\n",
       "</style>\n",
       "<table border=\"1\" class=\"dataframe\">\n",
       "  <thead>\n",
       "    <tr style=\"text-align: right;\">\n",
       "      <th></th>\n",
       "      <th>user_id</th>\n",
       "      <th>track_id</th>\n",
       "      <th>score</th>\n",
       "      <th>count_tracks</th>\n",
       "      <th>genre_rank</th>\n",
       "      <th>cb_score</th>\n",
       "      <th>rank</th>\n",
       "    </tr>\n",
       "  </thead>\n",
       "  <tbody>\n",
       "    <tr>\n",
       "      <th>0</th>\n",
       "      <td>3</td>\n",
       "      <td>78194999</td>\n",
       "      <td>0.008977</td>\n",
       "      <td>1.0</td>\n",
       "      <td>89.0</td>\n",
       "      <td>0.031185</td>\n",
       "      <td>1.0</td>\n",
       "    </tr>\n",
       "    <tr>\n",
       "      <th>4</th>\n",
       "      <td>3</td>\n",
       "      <td>75944934</td>\n",
       "      <td>0.007619</td>\n",
       "      <td>1.0</td>\n",
       "      <td>89.0</td>\n",
       "      <td>0.029039</td>\n",
       "      <td>2.0</td>\n",
       "    </tr>\n",
       "    <tr>\n",
       "      <th>7</th>\n",
       "      <td>3</td>\n",
       "      <td>84382282</td>\n",
       "      <td>0.007052</td>\n",
       "      <td>1.0</td>\n",
       "      <td>89.0</td>\n",
       "      <td>0.027700</td>\n",
       "      <td>3.0</td>\n",
       "    </tr>\n",
       "    <tr>\n",
       "      <th>13</th>\n",
       "      <td>3</td>\n",
       "      <td>78608850</td>\n",
       "      <td>0.006225</td>\n",
       "      <td>1.0</td>\n",
       "      <td>89.0</td>\n",
       "      <td>0.027700</td>\n",
       "      <td>3.0</td>\n",
       "    </tr>\n",
       "    <tr>\n",
       "      <th>16</th>\n",
       "      <td>3</td>\n",
       "      <td>75630144</td>\n",
       "      <td>0.006041</td>\n",
       "      <td>1.0</td>\n",
       "      <td>89.0</td>\n",
       "      <td>0.027700</td>\n",
       "      <td>3.0</td>\n",
       "    </tr>\n",
       "  </tbody>\n",
       "</table>\n",
       "</div>"
      ],
      "text/plain": [
       "    user_id  track_id     score  count_tracks  genre_rank  cb_score  rank\n",
       "0         3  78194999  0.008977           1.0        89.0  0.031185   1.0\n",
       "4         3  75944934  0.007619           1.0        89.0  0.029039   2.0\n",
       "7         3  84382282  0.007052           1.0        89.0  0.027700   3.0\n",
       "13        3  78608850  0.006225           1.0        89.0  0.027700   3.0\n",
       "16        3  75630144  0.006041           1.0        89.0  0.027700   3.0"
      ]
     },
     "execution_count": 11,
     "metadata": {},
     "output_type": "execute_result"
    }
   ],
   "source": [
    "final_recommendations.head()"
   ]
  },
  {
   "cell_type": "code",
   "execution_count": 6,
   "id": "94d6f388-aecb-443e-8647-14014e932d4d",
   "metadata": {},
   "outputs": [],
   "source": [
    "def process_events_recs_for_binary_metrics(events_train, events_test, recs, top_k=None):\n",
    "\n",
    "\n",
    "    events_test[\"gt\"] = True\n",
    "    common_users = set(events_test[\"user_id\"]) & set(recs[\"user_id\"])\n",
    "\n",
    "    \n",
    "    events_for_common_users = events_test[events_test[\"user_id\"].isin(common_users)].copy()\n",
    "    recs_for_common_users = recs[recs[\"user_id\"].isin(common_users)].copy()\n",
    "\n",
    "    recs_for_common_users = recs_for_common_users.sort_values([\"track_id\", \"cb_score\"], ascending=[True, False])\n",
    "    events_for_common_users = events_for_common_users[events_for_common_users[\"track_id\"].isin(events_train[\"track_id\"].unique())]\n",
    "\n",
    "    if top_k is not None:\n",
    "        recs_for_common_users = recs_for_common_users.groupby(\"user_id\").head(top_k)\n",
    "    \n",
    "    events_recs_common = events_for_common_users[[\"user_id\", \"track_id\", \"gt\"]].merge(\n",
    "        recs_for_common_users[[\"user_id\", \"track_id\", \"cb_score\"]], \n",
    "        on=[\"user_id\", \"track_id\"], how=\"outer\")    \n",
    "\n",
    "    events_recs_common[\"gt\"] = events_recs_common[\"gt\"].fillna(False)\n",
    "    events_recs_common[\"pr\"] = ~events_recs_common[\"cb_score\"].isnull()\n",
    "    \n",
    "    events_recs_common[\"tp\"] = events_recs_common[\"gt\"] & events_recs_common[\"pr\"]\n",
    "    events_recs_common[\"fp\"] = ~events_recs_common[\"gt\"] & events_recs_common[\"pr\"]\n",
    "    events_recs_common[\"fn\"] = events_recs_common[\"gt\"] & ~events_recs_common[\"pr\"]\n",
    "\n",
    "    return events_recs_common"
   ]
  },
  {
   "cell_type": "code",
   "execution_count": 7,
   "id": "26df411f-14c1-4848-8797-f37afe449cc6",
   "metadata": {},
   "outputs": [],
   "source": [
    "def compute_cls_metrics(events_recs_for_binary_metric):\n",
    "    \n",
    "    groupper = events_recs_for_binary_metric.groupby(\"user_id\")\n",
    "\n",
    "    # precision = tp / (tp + fp)\n",
    "    precision = groupper[\"tp\"].sum()/(groupper[\"tp\"].sum()+groupper[\"fp\"].sum())\n",
    "    precision = precision.fillna(0).mean()\n",
    "    \n",
    "    # recall = tp / (tp + fn)\n",
    "    recall = groupper[\"tp\"].sum()/(groupper[\"tp\"].sum()+groupper[\"fn\"].sum())# ваш код здесь #\n",
    "    recall = recall.fillna(0).mean()\n",
    "    return precision, recall"
   ]
  },
  {
   "cell_type": "code",
   "execution_count": 12,
   "id": "741a6510",
   "metadata": {},
   "outputs": [
    {
     "name": "stderr",
     "output_type": "stream",
     "text": [
      "/tmp/ipykernel_2183/612795073.py:4: SettingWithCopyWarning: \n",
      "A value is trying to be set on a copy of a slice from a DataFrame.\n",
      "Try using .loc[row_indexer,col_indexer] = value instead\n",
      "\n",
      "See the caveats in the documentation: https://pandas.pydata.org/pandas-docs/stable/user_guide/indexing.html#returning-a-view-versus-a-copy\n",
      "  events_test[\"gt\"] = True\n"
     ]
    },
    {
     "name": "stdout",
     "output_type": "stream",
     "text": [
      "precision: 0.041, recall: 0.006\n"
     ]
    }
   ],
   "source": [
    "cb_events_recs_for_binary_metrics_5 = process_events_recs_for_binary_metrics(\n",
    "    events_train,\n",
    "    events_test,\n",
    "    final_recommendations,\n",
    "    top_k=5)\n",
    "\n",
    "cb_precision_5, cb_recall_5 = compute_cls_metrics(cb_events_recs_for_binary_metrics_5)\n",
    "\n",
    "print(f\"precision: {cb_precision_5:.3f}, recall: {cb_recall_5:.3f}\")"
   ]
  },
  {
   "cell_type": "code",
   "execution_count": 44,
   "id": "5beb0cf1",
   "metadata": {},
   "outputs": [
    {
     "data": {
      "text/plain": [
       "18894"
      ]
     },
     "execution_count": 44,
     "metadata": {},
     "output_type": "execute_result"
    }
   ],
   "source": [
    "sm = final_recommendations['track_id'].nunique()\n",
    "sm\n"
   ]
  },
  {
   "cell_type": "code",
   "execution_count": 45,
   "id": "3b773aea",
   "metadata": {},
   "outputs": [
    {
     "name": "stdout",
     "output_type": "stream",
     "text": [
      "coverage: 0.02\n"
     ]
    }
   ],
   "source": [
    "cov_items = sm/items.shape[0]\n",
    "print(f\"coverage: {cov_items:.2f}\") "
   ]
  },
  {
   "cell_type": "code",
   "execution_count": null,
   "id": "f1e5b48c",
   "metadata": {},
   "outputs": [],
   "source": [
    "events_test[\"listened\"] = True\n",
    "final_recommendations = final_recommendations.merge(events_test[[\"user_id\", \"track_id\", \"listened\"]], on=[\"user_id\", \"track_id\"], how=\"left\")\n",
    "final_recommendations[\"listened\"] = final_recommendations[\"listened\"].fillna(False).astype(\"bool\")\n",
    "final_recommendations = final_recommendations.sort_values(by='cb_score', ascending=False)\n",
    "final_recommendations[\"rank\"] = final_recommendations.groupby(\"user_id\").cumcount() + 1"
   ]
  },
  {
   "cell_type": "code",
   "execution_count": 54,
   "id": "ff59cad1",
   "metadata": {},
   "outputs": [
    {
     "name": "stdout",
     "output_type": "stream",
     "text": [
      "novelty: 1.00\n"
     ]
    }
   ],
   "source": [
    "novelty_5 = (1-final_recommendations.query(\"rank <= 5\").groupby(\"user_id\")[\"listened\"].mean())\n",
    "print(f\"novelty: {novelty_5.mean():.2f}\") "
   ]
  },
  {
   "cell_type": "markdown",
   "id": "f1c8d38c-32b0-46a4-96f0-cd01dac708bc",
   "metadata": {},
   "source": [
    "# === Выводы, метрики ==="
   ]
  },
  {
   "cell_type": "markdown",
   "id": "f7d7d5d8-7d1e-4fdf-a6cd-83e5ce92c684",
   "metadata": {},
   "source": [
    "Основные выводы при работе над расчётом рекомендаций, рассчитанные метрики."
   ]
  },
  {
   "cell_type": "code",
   "execution_count": 55,
   "id": "6403097d-db36-46d9-8952-613c9bd51b05",
   "metadata": {},
   "outputs": [
    {
     "name": "stdout",
     "output_type": "stream",
     "text": [
      "precision: 0.041, recall: 0.006, coverage: 0.02, novelty: 1.00\n"
     ]
    }
   ],
   "source": [
    "print(f\"precision: {cb_precision_5:.3f}, recall: {cb_recall_5:.3f}, coverage: {cov_items:.2f}, novelty: {novelty_5.mean():.2f}\")"
   ]
  },
  {
   "cell_type": "markdown",
   "id": "269614a0",
   "metadata": {},
   "source": [
    "precision: 0.041, recall: 0.006, coverage: 0.02, novelty: 1.00  \n",
    "Вывод: Метрики слабые, на это повлияло сокращение events до двух месяцев, что показывает метрика покрытие. Сократил чтобы тратилось меньше времени на обработку рекомендаций, возможно стояло сокращать по количеству пользователей. Но из-за этого предлагаются новые треки, что показывает метрика новизны."
   ]
  }
 ],
 "metadata": {
  "kernelspec": {
   "display_name": ".venv_recsys_start",
   "language": "python",
   "name": "python3"
  },
  "language_info": {
   "codemirror_mode": {
    "name": "ipython",
    "version": 3
   },
   "file_extension": ".py",
   "mimetype": "text/x-python",
   "name": "python",
   "nbconvert_exporter": "python",
   "pygments_lexer": "ipython3",
   "version": "3.10.12"
  }
 },
 "nbformat": 4,
 "nbformat_minor": 5
}
