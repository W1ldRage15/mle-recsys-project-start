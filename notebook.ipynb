{
 "cells": [
  {
   "attachments": {},
   "cell_type": "markdown",
   "id": "c1bc859e",
   "metadata": {},
   "source": [
    "<div style=\"border-radius: 15px; border: 3px solid indigo; padding: 15px;\">\n",
    "<b> Комментарий ревьюера</b>\n",
    "    \n",
    "    \n",
    "Снова здравствуй! Меня зовут Даниил Вяжев, я буду снова проверять твой проект\n",
    "\n",
    "Сразу хочу обратить внимание на цветовую разметку:\n",
    "\n",
    "<div class=\"alert alert-success\" style=\"border-radius: 15px; box-shadow: 4px 4px 4px; border: 1px solid \">\n",
    "\n",
    "Зеленым с пометкой ✔️ отмечены отличные решения и идеи, которые можно и нужно использовать в будущем.\n",
    "</div>\n",
    "    \n",
    "<div class=\"alert alert-warning\" style=\"border-radius: 15px; box-shadow: 4px 4px 4px; border: 1px solid \">\n",
    "\n",
    "Желтым с пометкой ⚠️ отмечено то, что можно или нужно оптимизировать, в зависимости от контекста.</div>    \n",
    "    \n",
    "<div class=\"alert alert-danger\" style=\"border-radius: 15px; box-shadow: 4px 4px 4px; border: 1px solid \">\n",
    "\n",
    "Красным с пометкой ❌ обозначены пропущенные пункты задания и ошибки, которые обязательно надо будет исправить, чтобы результаты были верные.</div> \n",
    "    \n",
    "**Ответы на мои комментарии или доработки по моим рекомендациям попрошу выделить каким-нибудь цветом, кроме перечисленных.**\n",
    "Также я попрошу тебя **не менять, не передвигать и не удалять мои комментарии**, чтобы при последующей проверке мне было проще ориентироваться.\n",
    "        \n",
    "<hr>\n",
    "    \n",
    "<font color= 'dodgerblue'>**По проекту:**</font> \n",
    "\n",
    "Никита, ты проделал хорошо работу над созданием ранжирующей модели рекомендаций. Тебе удалось грамотно структурировать обработку данных, применить модель, а также проработать все этапы – от подготовки данных до расчетов метрик.\n",
    "\n",
    "Метрики оказались неоднозначными: высокая новизна говорит о предложении новых треков, но низкие значения precision и recall (0.041 и 0.006) сигнализируют о необходимости доработок. Ты также сделал верное замечание о сокращении объема данных по временным рамкам, чтобы снизить затраты времени, однако это привело к уменьшению покрытия. В будущем стоит попробовать сокращение по количеству пользователей, что, возможно, улучшит метрики покрытия и точности.\n",
    "\n",
    "В целом, твоя работа демонстрирует хорошие знания подходов к построению рекомендательных систем и дальнейшие перспективы для улучшения в оптимизации данных и параметров модели. Желаю тебе удачи в будущих спринтах!\n",
    "    \n",
    "    \n",
    "<hr style=\"border-top: 3px solid purple; \"></hr>\n",
    "Комментарии можешь оставлять с помощью такого кода в Markdown ячейке:\n",
    "    \n",
    "    \n",
    "    <div class=\"alert alert-info\">\n",
    "    <h2> Комментарий студента</h2>\n",
    "\n",
    "    Тут текст.\n",
    "    </div>\n",
    "    \n",
    "    \n",
    "    <font color='red'> Этот код позволяет менять цвет текста. </font>     \n",
    "\n",
    "\n",
    "  \n",
    "\n",
    "О том, как **форматировать текст** в Markdown ячейке или как добавлять ссылки, ты можешь узнать [тут](https://sqlbak.com/blog/jupyter-notebook-markdown-cheatsheet) и [вот тут](https://medium.com/analytics-vidhya/the-ultimate-markdown-guide-for-jupyter-notebook-d5e5abf728fd).\n",
    "\n",
    "\n",
    "\n",
    "Желаю удачи!\n",
    "\n",
    "<img src=\"https://user-images.githubusercontent.com/74038190/225813708-98b745f2-7d22-48cf-9150-083f1b00d6c9.gif\" width=\"500\">\n",
    "</div>    \n",
    "\n"
   ]
  },
  {
   "cell_type": "markdown",
   "id": "88af61b6",
   "metadata": {},
   "source": [
    "Даниил, привет!  \n",
    "С выводом мой косяк, я хотел почистить лишний вывод, чтобы ноутбук не так много весил и случайно все удалил. Иначе его нельзя было добавить."
   ]
  },
  {
   "cell_type": "markdown",
   "id": "f4095ae4-7294-4b28-853e-88d235002c97",
   "metadata": {},
   "source": [
    "# Инициализация"
   ]
  },
  {
   "cell_type": "markdown",
   "id": "2f2318d2-9df8-4911-915e-15b725c44f8a",
   "metadata": {},
   "source": [
    "Загружаем библиотеки необходимые для выполнения кода ноутбука."
   ]
  },
  {
   "cell_type": "code",
   "execution_count": 1,
   "id": "662d04e7-1b0b-4e4a-9ddf-4526d7fef119",
   "metadata": {},
   "outputs": [
    {
     "name": "stderr",
     "output_type": "stream",
     "text": [
      "/home/mle-user/mle_projects/mle-recsys-project-start/.venv_recsys_start/lib/python3.10/site-packages/tqdm/auto.py:21: TqdmWarning: IProgress not found. Please update jupyter and ipywidgets. See https://ipywidgets.readthedocs.io/en/stable/user_install.html\n",
      "  from .autonotebook import tqdm as notebook_tqdm\n"
     ]
    }
   ],
   "source": [
    "import logging\n",
    "import os\n",
    "import matplotlib.pyplot as plt\n",
    "import numpy as np\n",
    "import pandas as pd\n",
    "import scipy\n",
    "import sys\n",
    "import sklearn.preprocessing\n",
    "import sklearn.metrics\n",
    "import boto3\n",
    "\n",
    "from dotenv import load_dotenv\n",
    "from implicit.als import AlternatingLeastSquares\n",
    "from pandas.tseries.offsets import MonthEnd\n",
    "from sklearn.metrics import mean_squared_error, mean_absolute_error\n",
    "from surprise import Dataset, Reader\n",
    "from surprise import SVD\n",
    "from surprise import accuracy\n",
    "from surprise import NormalPredictor\n",
    "from sklearn.metrics.pairwise import cosine_similarity\n",
    "from catboost import CatBoostClassifier, Pool"
   ]
  },
  {
   "cell_type": "code",
   "execution_count": 2,
   "id": "d80edcf7",
   "metadata": {},
   "outputs": [],
   "source": [
    "%matplotlib inline\n",
    "%config InlineBackend.figure_format = 'png'\n",
    "%config InlineBackend.figure_format = 'retina'"
   ]
  },
  {
   "cell_type": "code",
   "execution_count": 3,
   "id": "f3cf92e0",
   "metadata": {},
   "outputs": [],
   "source": [
    "session = boto3.session.Session()\n",
    "s3_client = session.client(\n",
    "    service_name='s3',\n",
    "    endpoint_url='https://storage.yandexcloud.net'\n",
    ")"
   ]
  },
  {
   "cell_type": "code",
   "execution_count": 4,
   "id": "c9d66825",
   "metadata": {},
   "outputs": [],
   "source": [
    "load_dotenv()\n",
    "S3_BUCKET_NAME = os.getenv(\"S3_BUCKET_NAME\")"
   ]
  },
  {
   "cell_type": "markdown",
   "id": "bf80fbc5-b660-4fac-8fbb-a5cae77313b3",
   "metadata": {},
   "source": [
    "# === ЭТАП 1 ==="
   ]
  },
  {
   "cell_type": "markdown",
   "id": "5263a8b3-fe99-4204-8a2e-105182792c11",
   "metadata": {},
   "source": [
    "# Загрузка первичных данных"
   ]
  },
  {
   "cell_type": "markdown",
   "id": "1b54a6a5-1656-4e3c-99d1-49dc39451d33",
   "metadata": {},
   "source": [
    "Загружаем первичные данные из файлов:\n",
    "- tracks.parquet\n",
    "- catalog_names.parquet\n",
    "- interactions.parquet"
   ]
  },
  {
   "cell_type": "markdown",
   "id": "60309f60",
   "metadata": {},
   "source": [
    "<div class=\"alert alert-warning\" style=\"border-radius: 15px; box-shadow: 4px 4px 4px; border: 1px solid \">\n",
    "<b> Комментарий ревьюера  ⚠️</b>\n",
    "    \n",
    "Правильно, что импортировал всё в самом начале, но мне не хватило описания проекта и задачи, так проект бы выглядел презентабельнее и помог бы тебе вспомнить, когда ты к нему вернешься.\n",
    "</div>\n",
    "\n"
   ]
  },
  {
   "cell_type": "code",
   "execution_count": null,
   "id": "5d4b8961-3f35-4e58-9d6b-3e2dbd2c4224",
   "metadata": {},
   "outputs": [],
   "source": [
    "tracks = pd.read_parquet(\"./recsys/initial/tracks.parquet\")\n",
    "tracks.info()"
   ]
  },
  {
   "cell_type": "code",
   "execution_count": null,
   "id": "77a7f23e",
   "metadata": {},
   "outputs": [],
   "source": [
    "catalog_names = pd.read_parquet(\"./recsys/initial/catalog_names.parquet\")\n",
    "catalog_names.info()"
   ]
  },
  {
   "cell_type": "code",
   "execution_count": null,
   "id": "8c6b50c9",
   "metadata": {},
   "outputs": [],
   "source": [
    "interactions = pd.read_parquet(\"./recsys/initial/interactions.parquet\")\n",
    "interactions.info()"
   ]
  },
  {
   "cell_type": "markdown",
   "id": "e8f2a1f7-a05f-4f39-af90-5f4018aa6f9d",
   "metadata": {},
   "source": [
    "# Обзор данных"
   ]
  },
  {
   "cell_type": "markdown",
   "id": "46a85307-896c-4fac-9fcf-f0dffa90889e",
   "metadata": {},
   "source": [
    "Проверяем данные, есть ли с ними явные проблемы."
   ]
  },
  {
   "cell_type": "code",
   "execution_count": 83,
   "id": "c9f8f17e-9b56-4f5a-a463-f694a993effb",
   "metadata": {},
   "outputs": [
    {
     "data": {
      "text/html": [
       "<div>\n",
       "<style scoped>\n",
       "    .dataframe tbody tr th:only-of-type {\n",
       "        vertical-align: middle;\n",
       "    }\n",
       "\n",
       "    .dataframe tbody tr th {\n",
       "        vertical-align: top;\n",
       "    }\n",
       "\n",
       "    .dataframe thead th {\n",
       "        text-align: right;\n",
       "    }\n",
       "</style>\n",
       "<table border=\"1\" class=\"dataframe\">\n",
       "  <thead>\n",
       "    <tr style=\"text-align: right;\">\n",
       "      <th></th>\n",
       "      <th>128755</th>\n",
       "      <th>430585</th>\n",
       "      <th>593173</th>\n",
       "    </tr>\n",
       "  </thead>\n",
       "  <tbody>\n",
       "    <tr>\n",
       "      <th>track_id</th>\n",
       "      <td>2373296</td>\n",
       "      <td>29826434</td>\n",
       "      <td>41143944</td>\n",
       "    </tr>\n",
       "    <tr>\n",
       "      <th>albums</th>\n",
       "      <td>[233929, 650518]</td>\n",
       "      <td>[3595984]</td>\n",
       "      <td>[5372876]</td>\n",
       "    </tr>\n",
       "    <tr>\n",
       "      <th>artists</th>\n",
       "      <td>[15170, 477067, 517093]</td>\n",
       "      <td>[4476523]</td>\n",
       "      <td>[2395502]</td>\n",
       "    </tr>\n",
       "    <tr>\n",
       "      <th>genres</th>\n",
       "      <td>[11]</td>\n",
       "      <td>[68]</td>\n",
       "      <td>[21, 22]</td>\n",
       "    </tr>\n",
       "  </tbody>\n",
       "</table>\n",
       "</div>"
      ],
      "text/plain": [
       "                           128755     430585     593173\n",
       "track_id                  2373296   29826434   41143944\n",
       "albums           [233929, 650518]  [3595984]  [5372876]\n",
       "artists   [15170, 477067, 517093]  [4476523]  [2395502]\n",
       "genres                       [11]       [68]   [21, 22]"
      ]
     },
     "execution_count": 83,
     "metadata": {},
     "output_type": "execute_result"
    }
   ],
   "source": [
    "tracks.sample(3).T"
   ]
  },
  {
   "cell_type": "code",
   "execution_count": 84,
   "id": "f6beaa86",
   "metadata": {},
   "outputs": [
    {
     "data": {
      "text/plain": [
       "1000000"
      ]
     },
     "execution_count": 84,
     "metadata": {},
     "output_type": "execute_result"
    }
   ],
   "source": [
    "tracks['track_id'].nunique()"
   ]
  },
  {
   "cell_type": "code",
   "execution_count": 85,
   "id": "efd2e2eb-3bec-4ce1-87ac-232bab8bc0d0",
   "metadata": {},
   "outputs": [
    {
     "data": {
      "text/html": [
       "<div>\n",
       "<style scoped>\n",
       "    .dataframe tbody tr th:only-of-type {\n",
       "        vertical-align: middle;\n",
       "    }\n",
       "\n",
       "    .dataframe tbody tr th {\n",
       "        vertical-align: top;\n",
       "    }\n",
       "\n",
       "    .dataframe thead th {\n",
       "        text-align: right;\n",
       "    }\n",
       "</style>\n",
       "<table border=\"1\" class=\"dataframe\">\n",
       "  <thead>\n",
       "    <tr style=\"text-align: right;\">\n",
       "      <th></th>\n",
       "      <th>1547314</th>\n",
       "      <th>1279143</th>\n",
       "      <th>18818</th>\n",
       "    </tr>\n",
       "  </thead>\n",
       "  <tbody>\n",
       "    <tr>\n",
       "      <th>id</th>\n",
       "      <td>55121585</td>\n",
       "      <td>32483135</td>\n",
       "      <td>55926</td>\n",
       "    </tr>\n",
       "    <tr>\n",
       "      <th>type</th>\n",
       "      <td>track</td>\n",
       "      <td>track</td>\n",
       "      <td>album</td>\n",
       "    </tr>\n",
       "    <tr>\n",
       "      <th>name</th>\n",
       "      <td>Army of Angels</td>\n",
       "      <td>Mozart: Piano Concerto No. 21 in C Major, K. 4...</td>\n",
       "      <td>Noir Sur Blanc</td>\n",
       "    </tr>\n",
       "  </tbody>\n",
       "</table>\n",
       "</div>"
      ],
      "text/plain": [
       "             1547314                                            1279143  \\\n",
       "id          55121585                                           32483135   \n",
       "type           track                                              track   \n",
       "name  Army of Angels  Mozart: Piano Concerto No. 21 in C Major, K. 4...   \n",
       "\n",
       "             18818    \n",
       "id             55926  \n",
       "type           album  \n",
       "name  Noir Sur Blanc  "
      ]
     },
     "execution_count": 85,
     "metadata": {},
     "output_type": "execute_result"
    }
   ],
   "source": [
    "catalog_names.sample(3).T"
   ]
  },
  {
   "cell_type": "code",
   "execution_count": 86,
   "id": "a54bdf46",
   "metadata": {},
   "outputs": [
    {
     "data": {
      "text/plain": [
       "1776697"
      ]
     },
     "execution_count": 86,
     "metadata": {},
     "output_type": "execute_result"
    }
   ],
   "source": [
    "catalog_names['id'].nunique()"
   ]
  },
  {
   "cell_type": "code",
   "execution_count": 87,
   "id": "2b879ec5",
   "metadata": {},
   "outputs": [
    {
     "data": {
      "text/plain": [
       "type\n",
       "track     1000000\n",
       "album      658724\n",
       "artist     153581\n",
       "genre         166\n",
       "Name: count, dtype: int64"
      ]
     },
     "execution_count": 87,
     "metadata": {},
     "output_type": "execute_result"
    }
   ],
   "source": [
    "catalog_names['type'].value_counts()"
   ]
  },
  {
   "cell_type": "code",
   "execution_count": 88,
   "id": "2572a5b1",
   "metadata": {},
   "outputs": [
    {
     "data": {
      "text/html": [
       "<div>\n",
       "<style scoped>\n",
       "    .dataframe tbody tr th:only-of-type {\n",
       "        vertical-align: middle;\n",
       "    }\n",
       "\n",
       "    .dataframe tbody tr th {\n",
       "        vertical-align: top;\n",
       "    }\n",
       "\n",
       "    .dataframe thead th {\n",
       "        text-align: right;\n",
       "    }\n",
       "</style>\n",
       "<table border=\"1\" class=\"dataframe\">\n",
       "  <thead>\n",
       "    <tr style=\"text-align: right;\">\n",
       "      <th></th>\n",
       "      <th>266</th>\n",
       "      <th>1559</th>\n",
       "      <th>25</th>\n",
       "    </tr>\n",
       "  </thead>\n",
       "  <tbody>\n",
       "    <tr>\n",
       "      <th>user_id</th>\n",
       "      <td>535770</td>\n",
       "      <td>1040662</td>\n",
       "      <td>697806</td>\n",
       "    </tr>\n",
       "    <tr>\n",
       "      <th>track_id</th>\n",
       "      <td>76638251</td>\n",
       "      <td>63511059</td>\n",
       "      <td>20045347</td>\n",
       "    </tr>\n",
       "    <tr>\n",
       "      <th>track_seq</th>\n",
       "      <td>267</td>\n",
       "      <td>1560</td>\n",
       "      <td>26</td>\n",
       "    </tr>\n",
       "    <tr>\n",
       "      <th>started_at</th>\n",
       "      <td>2022-09-25 00:00:00</td>\n",
       "      <td>2022-11-21 00:00:00</td>\n",
       "      <td>2022-09-25 00:00:00</td>\n",
       "    </tr>\n",
       "  </tbody>\n",
       "</table>\n",
       "</div>"
      ],
      "text/plain": [
       "                           266                  1559                 25  \n",
       "user_id                  535770              1040662               697806\n",
       "track_id               76638251             63511059             20045347\n",
       "track_seq                   267                 1560                   26\n",
       "started_at  2022-09-25 00:00:00  2022-11-21 00:00:00  2022-09-25 00:00:00"
      ]
     },
     "execution_count": 88,
     "metadata": {},
     "output_type": "execute_result"
    }
   ],
   "source": [
    "interactions.sample(3).T"
   ]
  },
  {
   "cell_type": "code",
   "execution_count": 89,
   "id": "5064d5ca",
   "metadata": {},
   "outputs": [
    {
     "data": {
      "text/plain": [
       "user_id\n",
       "398979     16637\n",
       "1200889    15392\n",
       "590868     15136\n",
       "731216     13223\n",
       "339714     12768\n",
       "           ...  \n",
       "653874         1\n",
       "108229         1\n",
       "1019304        1\n",
       "357048         1\n",
       "73645          1\n",
       "Name: count, Length: 1373221, dtype: int64"
      ]
     },
     "execution_count": 89,
     "metadata": {},
     "output_type": "execute_result"
    }
   ],
   "source": [
    "interactions['user_id'].value_counts()"
   ]
  },
  {
   "cell_type": "code",
   "execution_count": 90,
   "id": "dd7ab4fa",
   "metadata": {},
   "outputs": [
    {
     "data": {
      "text/plain": [
       "started_at\n",
       "2022-11    33968803\n",
       "2022-10    31810464\n",
       "2022-12    31043735\n",
       "2022-09    26953965\n",
       "2022-08    23919641\n",
       "2022-07    20188819\n",
       "2022-06    16266558\n",
       "2022-05    13613489\n",
       "2022-04    10230295\n",
       "2022-03     7691225\n",
       "2022-02     4533363\n",
       "2022-01     2409541\n",
       "Freq: M, Name: count, dtype: int64"
      ]
     },
     "execution_count": 90,
     "metadata": {},
     "output_type": "execute_result"
    }
   ],
   "source": [
    "interactions[\"started_at\"].dt.to_period('M').value_counts()"
   ]
  },
  {
   "cell_type": "code",
   "execution_count": 91,
   "id": "47153d05",
   "metadata": {},
   "outputs": [
    {
     "data": {
      "text/plain": [
       "started_at\n",
       "2022    222629898\n",
       "Freq: A-DEC, Name: count, dtype: int64"
      ]
     },
     "execution_count": 91,
     "metadata": {},
     "output_type": "execute_result"
    }
   ],
   "source": [
    "interactions[\"started_at\"].dt.to_period('Y').value_counts()"
   ]
  },
  {
   "cell_type": "markdown",
   "id": "318b573a-9e2d-4808-95db-60cfb8bbdb73",
   "metadata": {
    "slideshow": {
     "slide_type": ""
    },
    "tags": []
   },
   "source": [
    "# Выводы"
   ]
  },
  {
   "cell_type": "markdown",
   "id": "caa96e12-36a8-4401-8f11-98627a49ae9d",
   "metadata": {},
   "source": [
    "Приведём выводы по первому знакомству с данными:\n",
    "- есть ли с данными явные проблемы,\n",
    "- какие корректирующие действия (в целом) были предприняты."
   ]
  },
  {
   "cell_type": "markdown",
   "id": "d25ab735",
   "metadata": {},
   "source": [
    "1. Необходимо удалить пользователей с 5 или меньше событиями  \n",
    "2. Для сокращения размера лучше оставить информацию за последние 2 месяца\n",
    "3. Необходимо объединить информацию о треках с треками"
   ]
  },
  {
   "cell_type": "code",
   "execution_count": 92,
   "id": "f58cd010-c2fa-475f-b7e9-767965cd4f55",
   "metadata": {},
   "outputs": [
    {
     "data": {
      "text/plain": [
       "user_id\n",
       "398979     16637\n",
       "1200889    15392\n",
       "590868     15136\n",
       "731216     13223\n",
       "339714     12768\n",
       "           ...  \n",
       "529972         6\n",
       "529309         6\n",
       "529278         6\n",
       "620598         6\n",
       "1294847        6\n",
       "Name: count, Length: 1369604, dtype: int64"
      ]
     },
     "execution_count": 92,
     "metadata": {},
     "output_type": "execute_result"
    }
   ],
   "source": [
    "interactions = interactions[interactions.groupby(['user_id']).transform('size') > 5]\n",
    "interactions['user_id'].value_counts()"
   ]
  },
  {
   "cell_type": "code",
   "execution_count": 93,
   "id": "ef390eff",
   "metadata": {},
   "outputs": [
    {
     "name": "stdout",
     "output_type": "stream",
     "text": [
      "<class 'pandas.core.frame.DataFrame'>\n",
      "Index: 222619423 entries, 0 to 291\n",
      "Data columns (total 4 columns):\n",
      " #   Column      Dtype         \n",
      "---  ------      -----         \n",
      " 0   user_id     int32         \n",
      " 1   track_id    int32         \n",
      " 2   track_seq   int16         \n",
      " 3   started_at  datetime64[ns]\n",
      "dtypes: datetime64[ns](1), int16(1), int32(2)\n",
      "memory usage: 5.4 GB\n"
     ]
    }
   ],
   "source": [
    "interactions.info()"
   ]
  },
  {
   "cell_type": "code",
   "execution_count": 94,
   "id": "3ecc350a",
   "metadata": {},
   "outputs": [],
   "source": [
    "event_cutoff_date = pd.to_datetime(\"2022-11-01\").date()\n",
    "interactions = interactions.query(\"started_at > @event_cutoff_date\").copy()"
   ]
  },
  {
   "cell_type": "code",
   "execution_count": 95,
   "id": "d0c8ac72",
   "metadata": {},
   "outputs": [
    {
     "name": "stdout",
     "output_type": "stream",
     "text": [
      "<class 'pandas.core.frame.DataFrame'>\n",
      "Index: 63918740 entries, 31 to 291\n",
      "Data columns (total 4 columns):\n",
      " #   Column      Dtype         \n",
      "---  ------      -----         \n",
      " 0   user_id     int32         \n",
      " 1   track_id    int32         \n",
      " 2   track_seq   int16         \n",
      " 3   started_at  datetime64[ns]\n",
      "dtypes: datetime64[ns](1), int16(1), int32(2)\n",
      "memory usage: 1.5 GB\n"
     ]
    }
   ],
   "source": [
    "interactions.info()"
   ]
  },
  {
   "cell_type": "code",
   "execution_count": 96,
   "id": "fde091a4",
   "metadata": {},
   "outputs": [
    {
     "data": {
      "text/plain": [
       "type\n",
       "track     1000000\n",
       "album      658724\n",
       "artist     153581\n",
       "genre         166\n",
       "Name: count, dtype: int64"
      ]
     },
     "execution_count": 96,
     "metadata": {},
     "output_type": "execute_result"
    }
   ],
   "source": [
    "catalog_names['type'].value_counts()"
   ]
  },
  {
   "cell_type": "code",
   "execution_count": 97,
   "id": "857a0f32",
   "metadata": {},
   "outputs": [
    {
     "name": "stdout",
     "output_type": "stream",
     "text": [
      "<class 'pandas.core.frame.DataFrame'>\n",
      "Index: 1000000 entries, 812471 to 1812470\n",
      "Data columns (total 2 columns):\n",
      " #   Column  Non-Null Count    Dtype \n",
      "---  ------  --------------    ----- \n",
      " 0   id      1000000 non-null  int64 \n",
      " 1   name    1000000 non-null  object\n",
      "dtypes: int64(1), object(1)\n",
      "memory usage: 22.9+ MB\n"
     ]
    }
   ],
   "source": [
    "track_names = catalog_names.loc[catalog_names['type'] == \"track\"]\n",
    "track_names = track_names.drop(columns=[\"type\"])\n",
    "track_names.info()"
   ]
  },
  {
   "cell_type": "code",
   "execution_count": 98,
   "id": "854b986e",
   "metadata": {},
   "outputs": [
    {
     "name": "stdout",
     "output_type": "stream",
     "text": [
      "<class 'pandas.core.frame.DataFrame'>\n",
      "Index: 658724 entries, 0 to 658723\n",
      "Data columns (total 2 columns):\n",
      " #   Column      Non-Null Count   Dtype \n",
      "---  ------      --------------   ----- \n",
      " 0   id          658724 non-null  int64 \n",
      " 1   album_name  658724 non-null  object\n",
      "dtypes: int64(1), object(1)\n",
      "memory usage: 15.1+ MB\n"
     ]
    }
   ],
   "source": [
    "album_names = catalog_names.loc[catalog_names['type'] == \"album\"]\n",
    "album_names = album_names.drop(columns=[\"type\"])\n",
    "album_names = album_names.rename(columns={\"name\": \"album_name\"})\n",
    "album_names.info()"
   ]
  },
  {
   "cell_type": "code",
   "execution_count": 99,
   "id": "856c35e9",
   "metadata": {},
   "outputs": [
    {
     "data": {
      "text/plain": [
       "658724"
      ]
     },
     "execution_count": 99,
     "metadata": {},
     "output_type": "execute_result"
    }
   ],
   "source": [
    "album_names['id'].nunique()"
   ]
  },
  {
   "cell_type": "code",
   "execution_count": 100,
   "id": "4e0b35eb",
   "metadata": {},
   "outputs": [
    {
     "name": "stdout",
     "output_type": "stream",
     "text": [
      "<class 'pandas.core.frame.DataFrame'>\n",
      "Index: 153581 entries, 658724 to 812304\n",
      "Data columns (total 2 columns):\n",
      " #   Column       Non-Null Count   Dtype \n",
      "---  ------       --------------   ----- \n",
      " 0   id           153581 non-null  int64 \n",
      " 1   artist_name  153581 non-null  object\n",
      "dtypes: int64(1), object(1)\n",
      "memory usage: 3.5+ MB\n"
     ]
    }
   ],
   "source": [
    "artist_names = catalog_names.loc[catalog_names['type'] == \"artist\"]\n",
    "artist_names = artist_names.drop(columns=[\"type\"])\n",
    "artist_names = artist_names.rename(columns={\"name\": \"artist_name\"})\n",
    "artist_names.info()"
   ]
  },
  {
   "cell_type": "code",
   "execution_count": 101,
   "id": "04e56af5",
   "metadata": {},
   "outputs": [
    {
     "name": "stdout",
     "output_type": "stream",
     "text": [
      "<class 'pandas.core.frame.DataFrame'>\n",
      "Index: 166 entries, 812305 to 812470\n",
      "Data columns (total 2 columns):\n",
      " #   Column      Non-Null Count  Dtype \n",
      "---  ------      --------------  ----- \n",
      " 0   id          166 non-null    int64 \n",
      " 1   genre_name  166 non-null    object\n",
      "dtypes: int64(1), object(1)\n",
      "memory usage: 3.9+ KB\n"
     ]
    }
   ],
   "source": [
    "genre_names = catalog_names.loc[catalog_names['type'] == \"genre\"]\n",
    "genre_names = genre_names.drop(columns=[\"type\"])\n",
    "genre_names = genre_names.rename(columns={\"name\": \"genre_name\"})\n",
    "genre_names.info()"
   ]
  },
  {
   "cell_type": "code",
   "execution_count": 102,
   "id": "7bc2d285",
   "metadata": {},
   "outputs": [
    {
     "data": {
      "text/html": [
       "<div>\n",
       "<style scoped>\n",
       "    .dataframe tbody tr th:only-of-type {\n",
       "        vertical-align: middle;\n",
       "    }\n",
       "\n",
       "    .dataframe tbody tr th {\n",
       "        vertical-align: top;\n",
       "    }\n",
       "\n",
       "    .dataframe thead th {\n",
       "        text-align: right;\n",
       "    }\n",
       "</style>\n",
       "<table border=\"1\" class=\"dataframe\">\n",
       "  <thead>\n",
       "    <tr style=\"text-align: right;\">\n",
       "      <th></th>\n",
       "      <th>track_id</th>\n",
       "      <th>albums</th>\n",
       "      <th>artists</th>\n",
       "      <th>genres</th>\n",
       "      <th>id</th>\n",
       "      <th>name</th>\n",
       "    </tr>\n",
       "  </thead>\n",
       "  <tbody>\n",
       "    <tr>\n",
       "      <th>0</th>\n",
       "      <td>26</td>\n",
       "      <td>[3, 2490753]</td>\n",
       "      <td>[16]</td>\n",
       "      <td>[11, 21]</td>\n",
       "      <td>26</td>\n",
       "      <td>Complimentary Me</td>\n",
       "    </tr>\n",
       "    <tr>\n",
       "      <th>1</th>\n",
       "      <td>38</td>\n",
       "      <td>[3, 2490753]</td>\n",
       "      <td>[16]</td>\n",
       "      <td>[11, 21]</td>\n",
       "      <td>38</td>\n",
       "      <td>Momma's Boy</td>\n",
       "    </tr>\n",
       "    <tr>\n",
       "      <th>2</th>\n",
       "      <td>135</td>\n",
       "      <td>[12, 214, 2490809]</td>\n",
       "      <td>[84]</td>\n",
       "      <td>[11]</td>\n",
       "      <td>135</td>\n",
       "      <td>Atticus</td>\n",
       "    </tr>\n",
       "    <tr>\n",
       "      <th>3</th>\n",
       "      <td>136</td>\n",
       "      <td>[12, 214, 2490809]</td>\n",
       "      <td>[84]</td>\n",
       "      <td>[11]</td>\n",
       "      <td>136</td>\n",
       "      <td>24 Hours</td>\n",
       "    </tr>\n",
       "    <tr>\n",
       "      <th>4</th>\n",
       "      <td>138</td>\n",
       "      <td>[12, 214, 322, 72275, 72292, 91199, 213505, 24...</td>\n",
       "      <td>[84]</td>\n",
       "      <td>[11]</td>\n",
       "      <td>138</td>\n",
       "      <td>Don't Upset The Rhythm (Go Baby Go)</td>\n",
       "    </tr>\n",
       "  </tbody>\n",
       "</table>\n",
       "</div>"
      ],
      "text/plain": [
       "   track_id                                             albums artists  \\\n",
       "0        26                                       [3, 2490753]    [16]   \n",
       "1        38                                       [3, 2490753]    [16]   \n",
       "2       135                                 [12, 214, 2490809]    [84]   \n",
       "3       136                                 [12, 214, 2490809]    [84]   \n",
       "4       138  [12, 214, 322, 72275, 72292, 91199, 213505, 24...    [84]   \n",
       "\n",
       "     genres   id                                 name  \n",
       "0  [11, 21]   26                     Complimentary Me  \n",
       "1  [11, 21]   38                          Momma's Boy  \n",
       "2      [11]  135                              Atticus  \n",
       "3      [11]  136                             24 Hours  \n",
       "4      [11]  138  Don't Upset The Rhythm (Go Baby Go)  "
      ]
     },
     "execution_count": 102,
     "metadata": {},
     "output_type": "execute_result"
    }
   ],
   "source": [
    "tracks = tracks.merge(track_names, left_on='track_id', right_on='id')\n",
    "tracks.head()"
   ]
  },
  {
   "cell_type": "code",
   "execution_count": 103,
   "id": "b419b021",
   "metadata": {},
   "outputs": [],
   "source": [
    "genre_names = genre_names.set_index(\"id\")"
   ]
  },
  {
   "cell_type": "code",
   "execution_count": 104,
   "id": "0b009166",
   "metadata": {},
   "outputs": [],
   "source": [
    "tracks['genre_names'] = np.NAN"
   ]
  },
  {
   "cell_type": "code",
   "execution_count": null,
   "id": "5e3e3be9",
   "metadata": {},
   "outputs": [],
   "source": [
    "gnr = genre_names.T.to_dict('list')\n",
    "gnr"
   ]
  },
  {
   "cell_type": "code",
   "execution_count": null,
   "id": "68cddab3",
   "metadata": {},
   "outputs": [],
   "source": [
    "for k,item in tracks['genres'].items():\n",
    "    arr = []\n",
    "    for i in range(len(item)):\n",
    "        if item[i] in gnr.keys():\n",
    "            arr.append(gnr[item[i]][0])\n",
    "    tracks['genre_names'][k] = arr        "
   ]
  },
  {
   "cell_type": "code",
   "execution_count": 107,
   "id": "d38ee365",
   "metadata": {},
   "outputs": [
    {
     "data": {
      "text/html": [
       "<div>\n",
       "<style scoped>\n",
       "    .dataframe tbody tr th:only-of-type {\n",
       "        vertical-align: middle;\n",
       "    }\n",
       "\n",
       "    .dataframe tbody tr th {\n",
       "        vertical-align: top;\n",
       "    }\n",
       "\n",
       "    .dataframe thead th {\n",
       "        text-align: right;\n",
       "    }\n",
       "</style>\n",
       "<table border=\"1\" class=\"dataframe\">\n",
       "  <thead>\n",
       "    <tr style=\"text-align: right;\">\n",
       "      <th></th>\n",
       "      <th>track_id</th>\n",
       "      <th>albums</th>\n",
       "      <th>artists</th>\n",
       "      <th>genres</th>\n",
       "      <th>id</th>\n",
       "      <th>name</th>\n",
       "      <th>genre_names</th>\n",
       "    </tr>\n",
       "  </thead>\n",
       "  <tbody>\n",
       "    <tr>\n",
       "      <th>0</th>\n",
       "      <td>26</td>\n",
       "      <td>[3, 2490753]</td>\n",
       "      <td>[16]</td>\n",
       "      <td>[11, 21]</td>\n",
       "      <td>26</td>\n",
       "      <td>Complimentary Me</td>\n",
       "      <td>[pop, folk]</td>\n",
       "    </tr>\n",
       "    <tr>\n",
       "      <th>1</th>\n",
       "      <td>38</td>\n",
       "      <td>[3, 2490753]</td>\n",
       "      <td>[16]</td>\n",
       "      <td>[11, 21]</td>\n",
       "      <td>38</td>\n",
       "      <td>Momma's Boy</td>\n",
       "      <td>[pop, folk]</td>\n",
       "    </tr>\n",
       "    <tr>\n",
       "      <th>2</th>\n",
       "      <td>135</td>\n",
       "      <td>[12, 214, 2490809]</td>\n",
       "      <td>[84]</td>\n",
       "      <td>[11]</td>\n",
       "      <td>135</td>\n",
       "      <td>Atticus</td>\n",
       "      <td>[pop]</td>\n",
       "    </tr>\n",
       "    <tr>\n",
       "      <th>3</th>\n",
       "      <td>136</td>\n",
       "      <td>[12, 214, 2490809]</td>\n",
       "      <td>[84]</td>\n",
       "      <td>[11]</td>\n",
       "      <td>136</td>\n",
       "      <td>24 Hours</td>\n",
       "      <td>[pop]</td>\n",
       "    </tr>\n",
       "    <tr>\n",
       "      <th>4</th>\n",
       "      <td>138</td>\n",
       "      <td>[12, 214, 322, 72275, 72292, 91199, 213505, 24...</td>\n",
       "      <td>[84]</td>\n",
       "      <td>[11]</td>\n",
       "      <td>138</td>\n",
       "      <td>Don't Upset The Rhythm (Go Baby Go)</td>\n",
       "      <td>[pop]</td>\n",
       "    </tr>\n",
       "  </tbody>\n",
       "</table>\n",
       "</div>"
      ],
      "text/plain": [
       "   track_id                                             albums artists  \\\n",
       "0        26                                       [3, 2490753]    [16]   \n",
       "1        38                                       [3, 2490753]    [16]   \n",
       "2       135                                 [12, 214, 2490809]    [84]   \n",
       "3       136                                 [12, 214, 2490809]    [84]   \n",
       "4       138  [12, 214, 322, 72275, 72292, 91199, 213505, 24...    [84]   \n",
       "\n",
       "     genres   id                                 name  genre_names  \n",
       "0  [11, 21]   26                     Complimentary Me  [pop, folk]  \n",
       "1  [11, 21]   38                          Momma's Boy  [pop, folk]  \n",
       "2      [11]  135                              Atticus        [pop]  \n",
       "3      [11]  136                             24 Hours        [pop]  \n",
       "4      [11]  138  Don't Upset The Rhythm (Go Baby Go)        [pop]  "
      ]
     },
     "execution_count": 107,
     "metadata": {},
     "output_type": "execute_result"
    }
   ],
   "source": [
    "tracks.head(5)"
   ]
  },
  {
   "cell_type": "code",
   "execution_count": 108,
   "id": "be585fce",
   "metadata": {},
   "outputs": [],
   "source": [
    "artist_names = artist_names.set_index(\"id\")"
   ]
  },
  {
   "cell_type": "code",
   "execution_count": 109,
   "id": "988a70b9",
   "metadata": {},
   "outputs": [
    {
     "data": {
      "text/html": [
       "<div>\n",
       "<style scoped>\n",
       "    .dataframe tbody tr th:only-of-type {\n",
       "        vertical-align: middle;\n",
       "    }\n",
       "\n",
       "    .dataframe tbody tr th {\n",
       "        vertical-align: top;\n",
       "    }\n",
       "\n",
       "    .dataframe thead th {\n",
       "        text-align: right;\n",
       "    }\n",
       "</style>\n",
       "<table border=\"1\" class=\"dataframe\">\n",
       "  <thead>\n",
       "    <tr style=\"text-align: right;\">\n",
       "      <th></th>\n",
       "      <th>artist_name</th>\n",
       "    </tr>\n",
       "    <tr>\n",
       "      <th>id</th>\n",
       "      <th></th>\n",
       "    </tr>\n",
       "  </thead>\n",
       "  <tbody>\n",
       "    <tr>\n",
       "      <th>4</th>\n",
       "      <td>Kenny Dorham</td>\n",
       "    </tr>\n",
       "    <tr>\n",
       "      <th>5</th>\n",
       "      <td>Max Roach</td>\n",
       "    </tr>\n",
       "    <tr>\n",
       "      <th>7</th>\n",
       "      <td>Francis Rossi</td>\n",
       "    </tr>\n",
       "    <tr>\n",
       "      <th>9</th>\n",
       "      <td>Status Quo</td>\n",
       "    </tr>\n",
       "    <tr>\n",
       "      <th>12</th>\n",
       "      <td>Phil Everly</td>\n",
       "    </tr>\n",
       "  </tbody>\n",
       "</table>\n",
       "</div>"
      ],
      "text/plain": [
       "      artist_name\n",
       "id               \n",
       "4    Kenny Dorham\n",
       "5       Max Roach\n",
       "7   Francis Rossi\n",
       "9      Status Quo\n",
       "12    Phil Everly"
      ]
     },
     "execution_count": 109,
     "metadata": {},
     "output_type": "execute_result"
    }
   ],
   "source": [
    "artist_names.head()"
   ]
  },
  {
   "cell_type": "code",
   "execution_count": null,
   "id": "3ded4e66",
   "metadata": {},
   "outputs": [],
   "source": [
    "tracks['artist_names'] = np.NAN\n",
    "for k,item in tracks['artists'].items():\n",
    "    arr = []\n",
    "    for i in range(len(item)):\n",
    "        for k_a, i_a in artist_names.items():\n",
    "            if item[i] in i_a.keys():\n",
    "                arr.append(i_a[item[i]])\n",
    "    tracks['artist_names'][k] = arr "
   ]
  },
  {
   "cell_type": "markdown",
   "id": "b8b5c5e1",
   "metadata": {},
   "source": [
    "\n",
    "<div class=\"alert alert-warning\" style=\"border-radius: 15px; box-shadow: 4px 4px 4px; border: 1px solid \">\n",
    "<b> Комментарий ревьюера  ⚠️</b>\n",
    "    \n",
    "В коде многократно используется цикл `for` с вложенными циклами для объединения информации из других таблиц. В Python это не оптимально для больших наборов данных:\n",
    "\n",
    "Лучше аменить вложенные циклы, где это возможно, на map или apply. Конкретно для колонок `genre_names`, `artist_names` и `album_names` можно использовать метод `apply(lambda x: [gnr[i] for i in x if i in gnr])`. Это улучшит производительность по сравнению с вложенными циклами и доступом по ключу словаря.</div>\n",
    "\n",
    "\n"
   ]
  },
  {
   "cell_type": "code",
   "execution_count": 111,
   "id": "8bd6c13a",
   "metadata": {},
   "outputs": [
    {
     "data": {
      "text/html": [
       "<div>\n",
       "<style scoped>\n",
       "    .dataframe tbody tr th:only-of-type {\n",
       "        vertical-align: middle;\n",
       "    }\n",
       "\n",
       "    .dataframe tbody tr th {\n",
       "        vertical-align: top;\n",
       "    }\n",
       "\n",
       "    .dataframe thead th {\n",
       "        text-align: right;\n",
       "    }\n",
       "</style>\n",
       "<table border=\"1\" class=\"dataframe\">\n",
       "  <thead>\n",
       "    <tr style=\"text-align: right;\">\n",
       "      <th></th>\n",
       "      <th>track_id</th>\n",
       "      <th>albums</th>\n",
       "      <th>artists</th>\n",
       "      <th>genres</th>\n",
       "      <th>id</th>\n",
       "      <th>name</th>\n",
       "      <th>genre_names</th>\n",
       "      <th>artist_names</th>\n",
       "    </tr>\n",
       "  </thead>\n",
       "  <tbody>\n",
       "    <tr>\n",
       "      <th>0</th>\n",
       "      <td>26</td>\n",
       "      <td>[3, 2490753]</td>\n",
       "      <td>[16]</td>\n",
       "      <td>[11, 21]</td>\n",
       "      <td>26</td>\n",
       "      <td>Complimentary Me</td>\n",
       "      <td>[pop, folk]</td>\n",
       "      <td>[Elizabeth &amp; the Catapult]</td>\n",
       "    </tr>\n",
       "    <tr>\n",
       "      <th>1</th>\n",
       "      <td>38</td>\n",
       "      <td>[3, 2490753]</td>\n",
       "      <td>[16]</td>\n",
       "      <td>[11, 21]</td>\n",
       "      <td>38</td>\n",
       "      <td>Momma's Boy</td>\n",
       "      <td>[pop, folk]</td>\n",
       "      <td>[Elizabeth &amp; the Catapult]</td>\n",
       "    </tr>\n",
       "    <tr>\n",
       "      <th>2</th>\n",
       "      <td>135</td>\n",
       "      <td>[12, 214, 2490809]</td>\n",
       "      <td>[84]</td>\n",
       "      <td>[11]</td>\n",
       "      <td>135</td>\n",
       "      <td>Atticus</td>\n",
       "      <td>[pop]</td>\n",
       "      <td>[Noisettes]</td>\n",
       "    </tr>\n",
       "    <tr>\n",
       "      <th>3</th>\n",
       "      <td>136</td>\n",
       "      <td>[12, 214, 2490809]</td>\n",
       "      <td>[84]</td>\n",
       "      <td>[11]</td>\n",
       "      <td>136</td>\n",
       "      <td>24 Hours</td>\n",
       "      <td>[pop]</td>\n",
       "      <td>[Noisettes]</td>\n",
       "    </tr>\n",
       "    <tr>\n",
       "      <th>4</th>\n",
       "      <td>138</td>\n",
       "      <td>[12, 214, 322, 72275, 72292, 91199, 213505, 24...</td>\n",
       "      <td>[84]</td>\n",
       "      <td>[11]</td>\n",
       "      <td>138</td>\n",
       "      <td>Don't Upset The Rhythm (Go Baby Go)</td>\n",
       "      <td>[pop]</td>\n",
       "      <td>[Noisettes]</td>\n",
       "    </tr>\n",
       "  </tbody>\n",
       "</table>\n",
       "</div>"
      ],
      "text/plain": [
       "   track_id                                             albums artists  \\\n",
       "0        26                                       [3, 2490753]    [16]   \n",
       "1        38                                       [3, 2490753]    [16]   \n",
       "2       135                                 [12, 214, 2490809]    [84]   \n",
       "3       136                                 [12, 214, 2490809]    [84]   \n",
       "4       138  [12, 214, 322, 72275, 72292, 91199, 213505, 24...    [84]   \n",
       "\n",
       "     genres   id                                 name  genre_names  \\\n",
       "0  [11, 21]   26                     Complimentary Me  [pop, folk]   \n",
       "1  [11, 21]   38                          Momma's Boy  [pop, folk]   \n",
       "2      [11]  135                              Atticus        [pop]   \n",
       "3      [11]  136                             24 Hours        [pop]   \n",
       "4      [11]  138  Don't Upset The Rhythm (Go Baby Go)        [pop]   \n",
       "\n",
       "                 artist_names  \n",
       "0  [Elizabeth & the Catapult]  \n",
       "1  [Elizabeth & the Catapult]  \n",
       "2                 [Noisettes]  \n",
       "3                 [Noisettes]  \n",
       "4                 [Noisettes]  "
      ]
     },
     "execution_count": 111,
     "metadata": {},
     "output_type": "execute_result"
    }
   ],
   "source": [
    "tracks.head()"
   ]
  },
  {
   "cell_type": "code",
   "execution_count": 112,
   "id": "2e99eead",
   "metadata": {},
   "outputs": [],
   "source": [
    "album_names = album_names.set_index(\"id\")"
   ]
  },
  {
   "cell_type": "code",
   "execution_count": null,
   "id": "7effef24",
   "metadata": {},
   "outputs": [],
   "source": [
    "tracks['album_names'] = np.NAN\n",
    "for k,item in tracks['albums'].items():\n",
    "    arr = []\n",
    "    for i in range(len(item)):\n",
    "        for k_a, i_a in album_names.items():\n",
    "            if item[i] in i_a.keys():\n",
    "                arr.append(i_a[item[i]])\n",
    "    tracks['album_names'][k] = arr "
   ]
  },
  {
   "cell_type": "code",
   "execution_count": 114,
   "id": "6c1e319f",
   "metadata": {},
   "outputs": [
    {
     "data": {
      "text/html": [
       "<div>\n",
       "<style scoped>\n",
       "    .dataframe tbody tr th:only-of-type {\n",
       "        vertical-align: middle;\n",
       "    }\n",
       "\n",
       "    .dataframe tbody tr th {\n",
       "        vertical-align: top;\n",
       "    }\n",
       "\n",
       "    .dataframe thead th {\n",
       "        text-align: right;\n",
       "    }\n",
       "</style>\n",
       "<table border=\"1\" class=\"dataframe\">\n",
       "  <thead>\n",
       "    <tr style=\"text-align: right;\">\n",
       "      <th></th>\n",
       "      <th>track_id</th>\n",
       "      <th>albums</th>\n",
       "      <th>artists</th>\n",
       "      <th>genres</th>\n",
       "      <th>id</th>\n",
       "      <th>name</th>\n",
       "      <th>genre_names</th>\n",
       "      <th>artist_names</th>\n",
       "      <th>album_names</th>\n",
       "    </tr>\n",
       "  </thead>\n",
       "  <tbody>\n",
       "    <tr>\n",
       "      <th>0</th>\n",
       "      <td>26</td>\n",
       "      <td>[3, 2490753]</td>\n",
       "      <td>[16]</td>\n",
       "      <td>[11, 21]</td>\n",
       "      <td>26</td>\n",
       "      <td>Complimentary Me</td>\n",
       "      <td>[pop, folk]</td>\n",
       "      <td>[Elizabeth &amp; the Catapult]</td>\n",
       "      <td>[Taller Children, Taller Children]</td>\n",
       "    </tr>\n",
       "    <tr>\n",
       "      <th>1</th>\n",
       "      <td>38</td>\n",
       "      <td>[3, 2490753]</td>\n",
       "      <td>[16]</td>\n",
       "      <td>[11, 21]</td>\n",
       "      <td>38</td>\n",
       "      <td>Momma's Boy</td>\n",
       "      <td>[pop, folk]</td>\n",
       "      <td>[Elizabeth &amp; the Catapult]</td>\n",
       "      <td>[Taller Children, Taller Children]</td>\n",
       "    </tr>\n",
       "    <tr>\n",
       "      <th>2</th>\n",
       "      <td>135</td>\n",
       "      <td>[12, 214, 2490809]</td>\n",
       "      <td>[84]</td>\n",
       "      <td>[11]</td>\n",
       "      <td>135</td>\n",
       "      <td>Atticus</td>\n",
       "      <td>[pop]</td>\n",
       "      <td>[Noisettes]</td>\n",
       "      <td>[Wild Young Hearts, Wild Young Hearts, Wild Yo...</td>\n",
       "    </tr>\n",
       "    <tr>\n",
       "      <th>3</th>\n",
       "      <td>136</td>\n",
       "      <td>[12, 214, 2490809]</td>\n",
       "      <td>[84]</td>\n",
       "      <td>[11]</td>\n",
       "      <td>136</td>\n",
       "      <td>24 Hours</td>\n",
       "      <td>[pop]</td>\n",
       "      <td>[Noisettes]</td>\n",
       "      <td>[Wild Young Hearts, Wild Young Hearts, Wild Yo...</td>\n",
       "    </tr>\n",
       "    <tr>\n",
       "      <th>4</th>\n",
       "      <td>138</td>\n",
       "      <td>[12, 214, 322, 72275, 72292, 91199, 213505, 24...</td>\n",
       "      <td>[84]</td>\n",
       "      <td>[11]</td>\n",
       "      <td>138</td>\n",
       "      <td>Don't Upset The Rhythm (Go Baby Go)</td>\n",
       "      <td>[pop]</td>\n",
       "      <td>[Noisettes]</td>\n",
       "      <td>[Wild Young Hearts, Wild Young Hearts, Don't U...</td>\n",
       "    </tr>\n",
       "  </tbody>\n",
       "</table>\n",
       "</div>"
      ],
      "text/plain": [
       "   track_id                                             albums artists  \\\n",
       "0        26                                       [3, 2490753]    [16]   \n",
       "1        38                                       [3, 2490753]    [16]   \n",
       "2       135                                 [12, 214, 2490809]    [84]   \n",
       "3       136                                 [12, 214, 2490809]    [84]   \n",
       "4       138  [12, 214, 322, 72275, 72292, 91199, 213505, 24...    [84]   \n",
       "\n",
       "     genres   id                                 name  genre_names  \\\n",
       "0  [11, 21]   26                     Complimentary Me  [pop, folk]   \n",
       "1  [11, 21]   38                          Momma's Boy  [pop, folk]   \n",
       "2      [11]  135                              Atticus        [pop]   \n",
       "3      [11]  136                             24 Hours        [pop]   \n",
       "4      [11]  138  Don't Upset The Rhythm (Go Baby Go)        [pop]   \n",
       "\n",
       "                 artist_names  \\\n",
       "0  [Elizabeth & the Catapult]   \n",
       "1  [Elizabeth & the Catapult]   \n",
       "2                 [Noisettes]   \n",
       "3                 [Noisettes]   \n",
       "4                 [Noisettes]   \n",
       "\n",
       "                                         album_names  \n",
       "0                 [Taller Children, Taller Children]  \n",
       "1                 [Taller Children, Taller Children]  \n",
       "2  [Wild Young Hearts, Wild Young Hearts, Wild Yo...  \n",
       "3  [Wild Young Hearts, Wild Young Hearts, Wild Yo...  \n",
       "4  [Wild Young Hearts, Wild Young Hearts, Don't U...  "
      ]
     },
     "execution_count": 114,
     "metadata": {},
     "output_type": "execute_result"
    }
   ],
   "source": [
    "tracks.head(5)"
   ]
  },
  {
   "cell_type": "code",
   "execution_count": 115,
   "id": "19905df6",
   "metadata": {},
   "outputs": [],
   "source": [
    "tracks = tracks.drop(columns=[\"id\"])"
   ]
  },
  {
   "cell_type": "markdown",
   "id": "7bc3296b-eba6-4333-a78d-b9304aa87e3d",
   "metadata": {},
   "source": [
    "# === ЭТАП 2 ==="
   ]
  },
  {
   "cell_type": "markdown",
   "id": "68e73960-fd38-4e15-8db0-9a25c35dfd25",
   "metadata": {},
   "source": [
    "# EDA"
   ]
  },
  {
   "cell_type": "markdown",
   "id": "a30e823e-8e0f-4a76-a02e-8d1ba8bf0f8a",
   "metadata": {},
   "source": [
    "Распределение количества прослушанных треков."
   ]
  },
  {
   "cell_type": "code",
   "execution_count": 116,
   "id": "9bf5eaba-35f7-4da7-be59-9ab4a34b2423",
   "metadata": {},
   "outputs": [],
   "source": [
    "s1 = interactions \\\n",
    "    .groupby([\"track_id\"]).agg(popularity=(\"user_id\", \"nunique\"))"
   ]
  },
  {
   "cell_type": "code",
   "execution_count": 117,
   "id": "f592d9a9",
   "metadata": {},
   "outputs": [
    {
     "data": {
      "text/html": [
       "<div>\n",
       "<style scoped>\n",
       "    .dataframe tbody tr th:only-of-type {\n",
       "        vertical-align: middle;\n",
       "    }\n",
       "\n",
       "    .dataframe tbody tr th {\n",
       "        vertical-align: top;\n",
       "    }\n",
       "\n",
       "    .dataframe thead th {\n",
       "        text-align: right;\n",
       "    }\n",
       "</style>\n",
       "<table border=\"1\" class=\"dataframe\">\n",
       "  <thead>\n",
       "    <tr style=\"text-align: right;\">\n",
       "      <th></th>\n",
       "      <th>popularity</th>\n",
       "    </tr>\n",
       "    <tr>\n",
       "      <th>track_id</th>\n",
       "      <th></th>\n",
       "    </tr>\n",
       "  </thead>\n",
       "  <tbody>\n",
       "    <tr>\n",
       "      <th>83063895</th>\n",
       "      <td>45841</td>\n",
       "    </tr>\n",
       "    <tr>\n",
       "      <th>93126179</th>\n",
       "      <td>45334</td>\n",
       "    </tr>\n",
       "    <tr>\n",
       "      <th>81848875</th>\n",
       "      <td>44788</td>\n",
       "    </tr>\n",
       "    <tr>\n",
       "      <th>84382282</th>\n",
       "      <td>44403</td>\n",
       "    </tr>\n",
       "    <tr>\n",
       "      <th>65851540</th>\n",
       "      <td>42314</td>\n",
       "    </tr>\n",
       "    <tr>\n",
       "      <th>60292250</th>\n",
       "      <td>42063</td>\n",
       "    </tr>\n",
       "    <tr>\n",
       "      <th>78426489</th>\n",
       "      <td>41917</td>\n",
       "    </tr>\n",
       "    <tr>\n",
       "      <th>76434671</th>\n",
       "      <td>37228</td>\n",
       "    </tr>\n",
       "    <tr>\n",
       "      <th>75944934</th>\n",
       "      <td>36849</td>\n",
       "    </tr>\n",
       "    <tr>\n",
       "      <th>51516485</th>\n",
       "      <td>34844</td>\n",
       "    </tr>\n",
       "  </tbody>\n",
       "</table>\n",
       "</div>"
      ],
      "text/plain": [
       "          popularity\n",
       "track_id            \n",
       "83063895       45841\n",
       "93126179       45334\n",
       "81848875       44788\n",
       "84382282       44403\n",
       "65851540       42314\n",
       "60292250       42063\n",
       "78426489       41917\n",
       "76434671       37228\n",
       "75944934       36849\n",
       "51516485       34844"
      ]
     },
     "execution_count": 117,
     "metadata": {},
     "output_type": "execute_result"
    }
   ],
   "source": [
    "s1.sort_values(by=\"popularity\",ascending=False).head(10)"
   ]
  },
  {
   "cell_type": "code",
   "execution_count": 118,
   "id": "0c142bd9",
   "metadata": {},
   "outputs": [],
   "source": [
    "tracks = tracks.merge(s1, how='left', on=['track_id'])"
   ]
  },
  {
   "cell_type": "code",
   "execution_count": 119,
   "id": "16480157",
   "metadata": {},
   "outputs": [],
   "source": [
    "tracks['popularity'] = tracks['popularity'].fillna(0)"
   ]
  },
  {
   "cell_type": "code",
   "execution_count": 120,
   "id": "c54ce854",
   "metadata": {},
   "outputs": [
    {
     "data": {
      "text/html": [
       "<div>\n",
       "<style scoped>\n",
       "    .dataframe tbody tr th:only-of-type {\n",
       "        vertical-align: middle;\n",
       "    }\n",
       "\n",
       "    .dataframe tbody tr th {\n",
       "        vertical-align: top;\n",
       "    }\n",
       "\n",
       "    .dataframe thead th {\n",
       "        text-align: right;\n",
       "    }\n",
       "</style>\n",
       "<table border=\"1\" class=\"dataframe\">\n",
       "  <thead>\n",
       "    <tr style=\"text-align: right;\">\n",
       "      <th></th>\n",
       "      <th>track_id</th>\n",
       "      <th>albums</th>\n",
       "      <th>artists</th>\n",
       "      <th>genres</th>\n",
       "      <th>name</th>\n",
       "      <th>genre_names</th>\n",
       "      <th>artist_names</th>\n",
       "      <th>album_names</th>\n",
       "      <th>popularity</th>\n",
       "    </tr>\n",
       "  </thead>\n",
       "  <tbody>\n",
       "    <tr>\n",
       "      <th>0</th>\n",
       "      <td>26</td>\n",
       "      <td>[3, 2490753]</td>\n",
       "      <td>[16]</td>\n",
       "      <td>[11, 21]</td>\n",
       "      <td>Complimentary Me</td>\n",
       "      <td>[pop, folk]</td>\n",
       "      <td>[Elizabeth &amp; the Catapult]</td>\n",
       "      <td>[Taller Children, Taller Children]</td>\n",
       "      <td>0.0</td>\n",
       "    </tr>\n",
       "    <tr>\n",
       "      <th>1</th>\n",
       "      <td>38</td>\n",
       "      <td>[3, 2490753]</td>\n",
       "      <td>[16]</td>\n",
       "      <td>[11, 21]</td>\n",
       "      <td>Momma's Boy</td>\n",
       "      <td>[pop, folk]</td>\n",
       "      <td>[Elizabeth &amp; the Catapult]</td>\n",
       "      <td>[Taller Children, Taller Children]</td>\n",
       "      <td>0.0</td>\n",
       "    </tr>\n",
       "    <tr>\n",
       "      <th>2</th>\n",
       "      <td>135</td>\n",
       "      <td>[12, 214, 2490809]</td>\n",
       "      <td>[84]</td>\n",
       "      <td>[11]</td>\n",
       "      <td>Atticus</td>\n",
       "      <td>[pop]</td>\n",
       "      <td>[Noisettes]</td>\n",
       "      <td>[Wild Young Hearts, Wild Young Hearts, Wild Yo...</td>\n",
       "      <td>0.0</td>\n",
       "    </tr>\n",
       "    <tr>\n",
       "      <th>3</th>\n",
       "      <td>136</td>\n",
       "      <td>[12, 214, 2490809]</td>\n",
       "      <td>[84]</td>\n",
       "      <td>[11]</td>\n",
       "      <td>24 Hours</td>\n",
       "      <td>[pop]</td>\n",
       "      <td>[Noisettes]</td>\n",
       "      <td>[Wild Young Hearts, Wild Young Hearts, Wild Yo...</td>\n",
       "      <td>0.0</td>\n",
       "    </tr>\n",
       "    <tr>\n",
       "      <th>4</th>\n",
       "      <td>138</td>\n",
       "      <td>[12, 214, 322, 72275, 72292, 91199, 213505, 24...</td>\n",
       "      <td>[84]</td>\n",
       "      <td>[11]</td>\n",
       "      <td>Don't Upset The Rhythm (Go Baby Go)</td>\n",
       "      <td>[pop]</td>\n",
       "      <td>[Noisettes]</td>\n",
       "      <td>[Wild Young Hearts, Wild Young Hearts, Don't U...</td>\n",
       "      <td>0.0</td>\n",
       "    </tr>\n",
       "  </tbody>\n",
       "</table>\n",
       "</div>"
      ],
      "text/plain": [
       "   track_id                                             albums artists  \\\n",
       "0        26                                       [3, 2490753]    [16]   \n",
       "1        38                                       [3, 2490753]    [16]   \n",
       "2       135                                 [12, 214, 2490809]    [84]   \n",
       "3       136                                 [12, 214, 2490809]    [84]   \n",
       "4       138  [12, 214, 322, 72275, 72292, 91199, 213505, 24...    [84]   \n",
       "\n",
       "     genres                                 name  genre_names  \\\n",
       "0  [11, 21]                     Complimentary Me  [pop, folk]   \n",
       "1  [11, 21]                          Momma's Boy  [pop, folk]   \n",
       "2      [11]                              Atticus        [pop]   \n",
       "3      [11]                             24 Hours        [pop]   \n",
       "4      [11]  Don't Upset The Rhythm (Go Baby Go)        [pop]   \n",
       "\n",
       "                 artist_names  \\\n",
       "0  [Elizabeth & the Catapult]   \n",
       "1  [Elizabeth & the Catapult]   \n",
       "2                 [Noisettes]   \n",
       "3                 [Noisettes]   \n",
       "4                 [Noisettes]   \n",
       "\n",
       "                                         album_names  popularity  \n",
       "0                 [Taller Children, Taller Children]         0.0  \n",
       "1                 [Taller Children, Taller Children]         0.0  \n",
       "2  [Wild Young Hearts, Wild Young Hearts, Wild Yo...         0.0  \n",
       "3  [Wild Young Hearts, Wild Young Hearts, Wild Yo...         0.0  \n",
       "4  [Wild Young Hearts, Wild Young Hearts, Don't U...         0.0  "
      ]
     },
     "execution_count": 120,
     "metadata": {},
     "output_type": "execute_result"
    }
   ],
   "source": [
    "tracks.head()"
   ]
  },
  {
   "cell_type": "code",
   "execution_count": 121,
   "id": "497b75ab",
   "metadata": {},
   "outputs": [
    {
     "data": {
      "text/plain": [
       "[<matplotlib.lines.Line2D at 0x7f01fa356b30>]"
      ]
     },
     "execution_count": 121,
     "metadata": {},
     "output_type": "execute_result"
    },
    {
     "data": {
      "image/png": "[encoded data removed]",
      "text/plain": [
       "<Figure size 1600x600 with 1 Axes>"
      ]
     },
     "metadata": {
      "image/png": {
       "height": 523,
       "width": 1314
      }
     },
     "output_type": "display_data"
    }
   ],
   "source": [
    "plt.subplots(figsize=(16, 6))\n",
    "plt.plot(tracks['track_id'], tracks['popularity'])"
   ]
  },
  {
   "cell_type": "markdown",
   "id": "d765519a-18dd-4d30-9e29-cc2d84cacd79",
   "metadata": {},
   "source": [
    "Наиболее популярные треки"
   ]
  },
  {
   "cell_type": "code",
   "execution_count": 122,
   "id": "aecaf630-fde0-4860-b84a-42c933a9606e",
   "metadata": {},
   "outputs": [
    {
     "data": {
      "text/html": [
       "<div>\n",
       "<style scoped>\n",
       "    .dataframe tbody tr th:only-of-type {\n",
       "        vertical-align: middle;\n",
       "    }\n",
       "\n",
       "    .dataframe tbody tr th {\n",
       "        vertical-align: top;\n",
       "    }\n",
       "\n",
       "    .dataframe thead th {\n",
       "        text-align: right;\n",
       "    }\n",
       "</style>\n",
       "<table border=\"1\" class=\"dataframe\">\n",
       "  <thead>\n",
       "    <tr style=\"text-align: right;\">\n",
       "      <th></th>\n",
       "      <th>track_id</th>\n",
       "      <th>albums</th>\n",
       "      <th>artists</th>\n",
       "      <th>genres</th>\n",
       "      <th>name</th>\n",
       "      <th>genre_names</th>\n",
       "      <th>artist_names</th>\n",
       "      <th>album_names</th>\n",
       "      <th>popularity</th>\n",
       "    </tr>\n",
       "  </thead>\n",
       "  <tbody>\n",
       "    <tr>\n",
       "      <th>940964</th>\n",
       "      <td>83063895</td>\n",
       "      <td>[15598104]</td>\n",
       "      <td>[5129397]</td>\n",
       "      <td>[11, 20]</td>\n",
       "      <td>Птичка</td>\n",
       "      <td>[pop, ruspop]</td>\n",
       "      <td>[HammAli &amp; Navai]</td>\n",
       "      <td>[Птичка]</td>\n",
       "      <td>45841.0</td>\n",
       "    </tr>\n",
       "    <tr>\n",
       "      <th>980395</th>\n",
       "      <td>93126179</td>\n",
       "      <td>[18729695]</td>\n",
       "      <td>[4664209]</td>\n",
       "      <td>[11, 20]</td>\n",
       "      <td>Солнце Монако</td>\n",
       "      <td>[pop, ruspop]</td>\n",
       "      <td>[Люся Чеботина]</td>\n",
       "      <td>[The End]</td>\n",
       "      <td>45334.0</td>\n",
       "    </tr>\n",
       "    <tr>\n",
       "      <th>935913</th>\n",
       "      <td>81848875</td>\n",
       "      <td>[15213275]</td>\n",
       "      <td>[10318860]</td>\n",
       "      <td>[11, 20]</td>\n",
       "      <td>Федерико Феллини</td>\n",
       "      <td>[pop, ruspop]</td>\n",
       "      <td>[Galibri &amp; Mavik]</td>\n",
       "      <td>[Федерико Феллини]</td>\n",
       "      <td>44788.0</td>\n",
       "    </tr>\n",
       "    <tr>\n",
       "      <th>946020</th>\n",
       "      <td>84382282</td>\n",
       "      <td>[15985737]</td>\n",
       "      <td>[5056591, 2938031]</td>\n",
       "      <td>[3, 75]</td>\n",
       "      <td>Я в моменте</td>\n",
       "      <td>[rusrap, rap]</td>\n",
       "      <td>[Джарахов, Markul]</td>\n",
       "      <td>[Я в моменте]</td>\n",
       "      <td>44403.0</td>\n",
       "    </tr>\n",
       "    <tr>\n",
       "      <th>829320</th>\n",
       "      <td>65851540</td>\n",
       "      <td>[10692414]</td>\n",
       "      <td>[1554548]</td>\n",
       "      <td>[11, 20]</td>\n",
       "      <td>Юность</td>\n",
       "      <td>[pop, ruspop]</td>\n",
       "      <td>[Dabro]</td>\n",
       "      <td>[Юность]</td>\n",
       "      <td>42314.0</td>\n",
       "    </tr>\n",
       "  </tbody>\n",
       "</table>\n",
       "</div>"
      ],
      "text/plain": [
       "        track_id      albums             artists    genres              name  \\\n",
       "940964  83063895  [15598104]           [5129397]  [11, 20]            Птичка   \n",
       "980395  93126179  [18729695]           [4664209]  [11, 20]     Солнце Монако   \n",
       "935913  81848875  [15213275]          [10318860]  [11, 20]  Федерико Феллини   \n",
       "946020  84382282  [15985737]  [5056591, 2938031]   [3, 75]       Я в моменте   \n",
       "829320  65851540  [10692414]           [1554548]  [11, 20]            Юность   \n",
       "\n",
       "          genre_names        artist_names         album_names  popularity  \n",
       "940964  [pop, ruspop]   [HammAli & Navai]            [Птичка]     45841.0  \n",
       "980395  [pop, ruspop]     [Люся Чеботина]           [The End]     45334.0  \n",
       "935913  [pop, ruspop]   [Galibri & Mavik]  [Федерико Феллини]     44788.0  \n",
       "946020  [rusrap, rap]  [Джарахов, Markul]       [Я в моменте]     44403.0  \n",
       "829320  [pop, ruspop]             [Dabro]            [Юность]     42314.0  "
      ]
     },
     "execution_count": 122,
     "metadata": {},
     "output_type": "execute_result"
    }
   ],
   "source": [
    "tracks.sort_values(by=\"popularity\",ascending=False).head()"
   ]
  },
  {
   "cell_type": "markdown",
   "id": "b1c32a5a-d3be-4f96-8dd9-f7860951020c",
   "metadata": {},
   "source": [
    "Наиболее популярные жанры"
   ]
  },
  {
   "cell_type": "code",
   "execution_count": 123,
   "id": "1bc50491-9235-4d3c-a6c2-297f7c05a959",
   "metadata": {},
   "outputs": [],
   "source": [
    "genre_pop = {}\n",
    "    \n",
    "    \n",
    "for k,item in tracks['genres'].items():\n",
    "    for i in range(len(item)):\n",
    "        if item[i] in genre_pop.keys():\n",
    "            genre_pop[item[i]] += tracks['popularity'][item[i]]\n",
    "        else:\n",
    "            genre_pop[item[i]] = tracks['popularity'][item[i]]\n"
   ]
  },
  {
   "cell_type": "code",
   "execution_count": 125,
   "id": "83a34e38",
   "metadata": {},
   "outputs": [
    {
     "data": {
      "text/html": [
       "<div>\n",
       "<style scoped>\n",
       "    .dataframe tbody tr th:only-of-type {\n",
       "        vertical-align: middle;\n",
       "    }\n",
       "\n",
       "    .dataframe tbody tr th {\n",
       "        vertical-align: top;\n",
       "    }\n",
       "\n",
       "    .dataframe thead th {\n",
       "        text-align: right;\n",
       "    }\n",
       "</style>\n",
       "<table border=\"1\" class=\"dataframe\">\n",
       "  <thead>\n",
       "    <tr style=\"text-align: right;\">\n",
       "      <th></th>\n",
       "      <th>0</th>\n",
       "    </tr>\n",
       "  </thead>\n",
       "  <tbody>\n",
       "    <tr>\n",
       "      <th>11</th>\n",
       "      <td>498855.0</td>\n",
       "    </tr>\n",
       "    <tr>\n",
       "      <th>21</th>\n",
       "      <td>0.0</td>\n",
       "    </tr>\n",
       "    <tr>\n",
       "      <th>59</th>\n",
       "      <td>0.0</td>\n",
       "    </tr>\n",
       "    <tr>\n",
       "      <th>102</th>\n",
       "      <td>11969409.0</td>\n",
       "    </tr>\n",
       "    <tr>\n",
       "      <th>14</th>\n",
       "      <td>55177.0</td>\n",
       "    </tr>\n",
       "    <tr>\n",
       "      <th>...</th>\n",
       "      <td>...</td>\n",
       "    </tr>\n",
       "    <tr>\n",
       "      <th>105</th>\n",
       "      <td>2670.0</td>\n",
       "    </tr>\n",
       "    <tr>\n",
       "      <th>108</th>\n",
       "      <td>15708.0</td>\n",
       "    </tr>\n",
       "    <tr>\n",
       "      <th>107</th>\n",
       "      <td>2480.0</td>\n",
       "    </tr>\n",
       "    <tr>\n",
       "      <th>106</th>\n",
       "      <td>60.0</td>\n",
       "    </tr>\n",
       "    <tr>\n",
       "      <th>148</th>\n",
       "      <td>4.0</td>\n",
       "    </tr>\n",
       "  </tbody>\n",
       "</table>\n",
       "<p>173 rows × 1 columns</p>\n",
       "</div>"
      ],
      "text/plain": [
       "              0\n",
       "11     498855.0\n",
       "21          0.0\n",
       "59          0.0\n",
       "102  11969409.0\n",
       "14      55177.0\n",
       "..          ...\n",
       "105      2670.0\n",
       "108     15708.0\n",
       "107      2480.0\n",
       "106        60.0\n",
       "148         4.0\n",
       "\n",
       "[173 rows x 1 columns]"
      ]
     },
     "execution_count": 125,
     "metadata": {},
     "output_type": "execute_result"
    }
   ],
   "source": [
    "genre_popularity = pd.DataFrame.from_dict(genre_pop, orient='index')\n",
    "genre_popularity"
   ]
  },
  {
   "cell_type": "code",
   "execution_count": 126,
   "id": "c9a17010",
   "metadata": {},
   "outputs": [
    {
     "data": {
      "text/html": [
       "<div>\n",
       "<style scoped>\n",
       "    .dataframe tbody tr th:only-of-type {\n",
       "        vertical-align: middle;\n",
       "    }\n",
       "\n",
       "    .dataframe tbody tr th {\n",
       "        vertical-align: top;\n",
       "    }\n",
       "\n",
       "    .dataframe thead th {\n",
       "        text-align: right;\n",
       "    }\n",
       "</style>\n",
       "<table border=\"1\" class=\"dataframe\">\n",
       "  <thead>\n",
       "    <tr style=\"text-align: right;\">\n",
       "      <th></th>\n",
       "      <th>index</th>\n",
       "      <th>0</th>\n",
       "    </tr>\n",
       "  </thead>\n",
       "  <tbody>\n",
       "    <tr>\n",
       "      <th>0</th>\n",
       "      <td>11</td>\n",
       "      <td>498855.0</td>\n",
       "    </tr>\n",
       "    <tr>\n",
       "      <th>1</th>\n",
       "      <td>21</td>\n",
       "      <td>0.0</td>\n",
       "    </tr>\n",
       "    <tr>\n",
       "      <th>2</th>\n",
       "      <td>59</td>\n",
       "      <td>0.0</td>\n",
       "    </tr>\n",
       "    <tr>\n",
       "      <th>3</th>\n",
       "      <td>102</td>\n",
       "      <td>11969409.0</td>\n",
       "    </tr>\n",
       "    <tr>\n",
       "      <th>4</th>\n",
       "      <td>14</td>\n",
       "      <td>55177.0</td>\n",
       "    </tr>\n",
       "    <tr>\n",
       "      <th>...</th>\n",
       "      <td>...</td>\n",
       "      <td>...</td>\n",
       "    </tr>\n",
       "    <tr>\n",
       "      <th>168</th>\n",
       "      <td>105</td>\n",
       "      <td>2670.0</td>\n",
       "    </tr>\n",
       "    <tr>\n",
       "      <th>169</th>\n",
       "      <td>108</td>\n",
       "      <td>15708.0</td>\n",
       "    </tr>\n",
       "    <tr>\n",
       "      <th>170</th>\n",
       "      <td>107</td>\n",
       "      <td>2480.0</td>\n",
       "    </tr>\n",
       "    <tr>\n",
       "      <th>171</th>\n",
       "      <td>106</td>\n",
       "      <td>60.0</td>\n",
       "    </tr>\n",
       "    <tr>\n",
       "      <th>172</th>\n",
       "      <td>148</td>\n",
       "      <td>4.0</td>\n",
       "    </tr>\n",
       "  </tbody>\n",
       "</table>\n",
       "<p>173 rows × 2 columns</p>\n",
       "</div>"
      ],
      "text/plain": [
       "     index           0\n",
       "0       11    498855.0\n",
       "1       21         0.0\n",
       "2       59         0.0\n",
       "3      102  11969409.0\n",
       "4       14     55177.0\n",
       "..     ...         ...\n",
       "168    105      2670.0\n",
       "169    108     15708.0\n",
       "170    107      2480.0\n",
       "171    106        60.0\n",
       "172    148         4.0\n",
       "\n",
       "[173 rows x 2 columns]"
      ]
     },
     "execution_count": 126,
     "metadata": {},
     "output_type": "execute_result"
    }
   ],
   "source": [
    "genre_popularity = genre_popularity.reset_index()\n",
    "genre_popularity"
   ]
  },
  {
   "cell_type": "code",
   "execution_count": 136,
   "id": "e31f68c1",
   "metadata": {},
   "outputs": [],
   "source": [
    "genre_popularity = genre_popularity.rename(columns={'index':\"id\"})"
   ]
  },
  {
   "cell_type": "code",
   "execution_count": 137,
   "id": "251ad432",
   "metadata": {},
   "outputs": [
    {
     "data": {
      "text/html": [
       "<div>\n",
       "<style scoped>\n",
       "    .dataframe tbody tr th:only-of-type {\n",
       "        vertical-align: middle;\n",
       "    }\n",
       "\n",
       "    .dataframe tbody tr th {\n",
       "        vertical-align: top;\n",
       "    }\n",
       "\n",
       "    .dataframe thead th {\n",
       "        text-align: right;\n",
       "    }\n",
       "</style>\n",
       "<table border=\"1\" class=\"dataframe\">\n",
       "  <thead>\n",
       "    <tr style=\"text-align: right;\">\n",
       "      <th></th>\n",
       "      <th>id</th>\n",
       "      <th>0</th>\n",
       "      <th>genre_name</th>\n",
       "    </tr>\n",
       "  </thead>\n",
       "  <tbody>\n",
       "    <tr>\n",
       "      <th>0</th>\n",
       "      <td>0</td>\n",
       "      <td>NaN</td>\n",
       "      <td>all</td>\n",
       "    </tr>\n",
       "    <tr>\n",
       "      <th>1</th>\n",
       "      <td>1</td>\n",
       "      <td>0.0</td>\n",
       "      <td>eastern</td>\n",
       "    </tr>\n",
       "    <tr>\n",
       "      <th>2</th>\n",
       "      <td>2</td>\n",
       "      <td>0.0</td>\n",
       "      <td>rusrock</td>\n",
       "    </tr>\n",
       "    <tr>\n",
       "      <th>3</th>\n",
       "      <td>3</td>\n",
       "      <td>0.0</td>\n",
       "      <td>rusrap</td>\n",
       "    </tr>\n",
       "    <tr>\n",
       "      <th>4</th>\n",
       "      <td>4</td>\n",
       "      <td>0.0</td>\n",
       "      <td>postrock</td>\n",
       "    </tr>\n",
       "    <tr>\n",
       "      <th>...</th>\n",
       "      <td>...</td>\n",
       "      <td>...</td>\n",
       "      <td>...</td>\n",
       "    </tr>\n",
       "    <tr>\n",
       "      <th>161</th>\n",
       "      <td>1182</td>\n",
       "      <td>454.0</td>\n",
       "      <td>balkan</td>\n",
       "    </tr>\n",
       "    <tr>\n",
       "      <th>162</th>\n",
       "      <td>1197</td>\n",
       "      <td>0.0</td>\n",
       "      <td>experimental</td>\n",
       "    </tr>\n",
       "    <tr>\n",
       "      <th>163</th>\n",
       "      <td>1370</td>\n",
       "      <td>NaN</td>\n",
       "      <td>europop</td>\n",
       "    </tr>\n",
       "    <tr>\n",
       "      <th>164</th>\n",
       "      <td>1484</td>\n",
       "      <td>1606.0</td>\n",
       "      <td>meditation</td>\n",
       "    </tr>\n",
       "    <tr>\n",
       "      <th>165</th>\n",
       "      <td>1542</td>\n",
       "      <td>6688.0</td>\n",
       "      <td>asiapop</td>\n",
       "    </tr>\n",
       "  </tbody>\n",
       "</table>\n",
       "<p>166 rows × 3 columns</p>\n",
       "</div>"
      ],
      "text/plain": [
       "       id       0    genre_name\n",
       "0       0     NaN           all\n",
       "1       1     0.0       eastern\n",
       "2       2     0.0       rusrock\n",
       "3       3     0.0        rusrap\n",
       "4       4     0.0      postrock\n",
       "..    ...     ...           ...\n",
       "161  1182   454.0        balkan\n",
       "162  1197     0.0  experimental\n",
       "163  1370     NaN       europop\n",
       "164  1484  1606.0    meditation\n",
       "165  1542  6688.0       asiapop\n",
       "\n",
       "[166 rows x 3 columns]"
      ]
     },
     "execution_count": 137,
     "metadata": {},
     "output_type": "execute_result"
    }
   ],
   "source": [
    "genre_popularity = genre_popularity.merge(genre_names, how=\"right\", on='id')\n",
    "genre_popularity"
   ]
  },
  {
   "cell_type": "code",
   "execution_count": 138,
   "id": "b1900d1f",
   "metadata": {},
   "outputs": [
    {
     "data": {
      "text/html": [
       "<div>\n",
       "<style scoped>\n",
       "    .dataframe tbody tr th:only-of-type {\n",
       "        vertical-align: middle;\n",
       "    }\n",
       "\n",
       "    .dataframe tbody tr th {\n",
       "        vertical-align: top;\n",
       "    }\n",
       "\n",
       "    .dataframe thead th {\n",
       "        text-align: right;\n",
       "    }\n",
       "</style>\n",
       "<table border=\"1\" class=\"dataframe\">\n",
       "  <thead>\n",
       "    <tr style=\"text-align: right;\">\n",
       "      <th></th>\n",
       "      <th>id</th>\n",
       "      <th>genre_popularity</th>\n",
       "      <th>genre_name</th>\n",
       "    </tr>\n",
       "  </thead>\n",
       "  <tbody>\n",
       "    <tr>\n",
       "      <th>0</th>\n",
       "      <td>0</td>\n",
       "      <td>0.0</td>\n",
       "      <td>all</td>\n",
       "    </tr>\n",
       "    <tr>\n",
       "      <th>1</th>\n",
       "      <td>1</td>\n",
       "      <td>0.0</td>\n",
       "      <td>eastern</td>\n",
       "    </tr>\n",
       "    <tr>\n",
       "      <th>2</th>\n",
       "      <td>2</td>\n",
       "      <td>0.0</td>\n",
       "      <td>rusrock</td>\n",
       "    </tr>\n",
       "    <tr>\n",
       "      <th>3</th>\n",
       "      <td>3</td>\n",
       "      <td>0.0</td>\n",
       "      <td>rusrap</td>\n",
       "    </tr>\n",
       "    <tr>\n",
       "      <th>4</th>\n",
       "      <td>4</td>\n",
       "      <td>0.0</td>\n",
       "      <td>postrock</td>\n",
       "    </tr>\n",
       "  </tbody>\n",
       "</table>\n",
       "</div>"
      ],
      "text/plain": [
       "   id  genre_popularity genre_name\n",
       "0   0               0.0        all\n",
       "1   1               0.0    eastern\n",
       "2   2               0.0    rusrock\n",
       "3   3               0.0     rusrap\n",
       "4   4               0.0   postrock"
      ]
     },
     "execution_count": 138,
     "metadata": {},
     "output_type": "execute_result"
    }
   ],
   "source": [
    "genre_popularity = genre_popularity.rename(columns={0:\"genre_popularity\"})\n",
    "genre_popularity[\"genre_popularity\"] = genre_popularity[\"genre_popularity\"].fillna(0)\n",
    "genre_popularity.head()"
   ]
  },
  {
   "cell_type": "code",
   "execution_count": 139,
   "id": "0442ba3e",
   "metadata": {},
   "outputs": [
    {
     "data": {
      "text/html": [
       "<div>\n",
       "<style scoped>\n",
       "    .dataframe tbody tr th:only-of-type {\n",
       "        vertical-align: middle;\n",
       "    }\n",
       "\n",
       "    .dataframe tbody tr th {\n",
       "        vertical-align: top;\n",
       "    }\n",
       "\n",
       "    .dataframe thead th {\n",
       "        text-align: right;\n",
       "    }\n",
       "</style>\n",
       "<table border=\"1\" class=\"dataframe\">\n",
       "  <thead>\n",
       "    <tr style=\"text-align: right;\">\n",
       "      <th></th>\n",
       "      <th>id</th>\n",
       "      <th>genre_popularity</th>\n",
       "      <th>genre_name</th>\n",
       "    </tr>\n",
       "  </thead>\n",
       "  <tbody>\n",
       "    <tr>\n",
       "      <th>102</th>\n",
       "      <td>102</td>\n",
       "      <td>11969409.0</td>\n",
       "      <td>allrock</td>\n",
       "    </tr>\n",
       "    <tr>\n",
       "      <th>75</th>\n",
       "      <td>75</td>\n",
       "      <td>5128480.0</td>\n",
       "      <td>rap</td>\n",
       "    </tr>\n",
       "    <tr>\n",
       "      <th>54</th>\n",
       "      <td>54</td>\n",
       "      <td>2659230.0</td>\n",
       "      <td>posthardcore</td>\n",
       "    </tr>\n",
       "    <tr>\n",
       "      <th>77</th>\n",
       "      <td>77</td>\n",
       "      <td>1181875.0</td>\n",
       "      <td>education</td>\n",
       "    </tr>\n",
       "    <tr>\n",
       "      <th>50</th>\n",
       "      <td>50</td>\n",
       "      <td>1128816.0</td>\n",
       "      <td>punk</td>\n",
       "    </tr>\n",
       "    <tr>\n",
       "      <th>...</th>\n",
       "      <td>...</td>\n",
       "      <td>...</td>\n",
       "      <td>...</td>\n",
       "    </tr>\n",
       "    <tr>\n",
       "      <th>72</th>\n",
       "      <td>72</td>\n",
       "      <td>0.0</td>\n",
       "      <td>business</td>\n",
       "    </tr>\n",
       "    <tr>\n",
       "      <th>71</th>\n",
       "      <td>71</td>\n",
       "      <td>0.0</td>\n",
       "      <td>arts</td>\n",
       "    </tr>\n",
       "    <tr>\n",
       "      <th>70</th>\n",
       "      <td>70</td>\n",
       "      <td>0.0</td>\n",
       "      <td>indie</td>\n",
       "    </tr>\n",
       "    <tr>\n",
       "      <th>69</th>\n",
       "      <td>69</td>\n",
       "      <td>0.0</td>\n",
       "      <td>classicalmusic</td>\n",
       "    </tr>\n",
       "    <tr>\n",
       "      <th>57</th>\n",
       "      <td>57</td>\n",
       "      <td>0.0</td>\n",
       "      <td>argentinetango</td>\n",
       "    </tr>\n",
       "  </tbody>\n",
       "</table>\n",
       "<p>166 rows × 3 columns</p>\n",
       "</div>"
      ],
      "text/plain": [
       "      id  genre_popularity      genre_name\n",
       "102  102        11969409.0         allrock\n",
       "75    75         5128480.0             rap\n",
       "54    54         2659230.0    posthardcore\n",
       "77    77         1181875.0       education\n",
       "50    50         1128816.0            punk\n",
       "..   ...               ...             ...\n",
       "72    72               0.0        business\n",
       "71    71               0.0            arts\n",
       "70    70               0.0           indie\n",
       "69    69               0.0  classicalmusic\n",
       "57    57               0.0  argentinetango\n",
       "\n",
       "[166 rows x 3 columns]"
      ]
     },
     "execution_count": 139,
     "metadata": {},
     "output_type": "execute_result"
    }
   ],
   "source": [
    "genre_popularity.sort_values(by='genre_popularity',ascending=False)"
   ]
  },
  {
   "cell_type": "markdown",
   "id": "15254e66-e80e-473b-ba24-abebea5ccac7",
   "metadata": {},
   "source": [
    "Треки, которые никто не прослушал"
   ]
  },
  {
   "cell_type": "code",
   "execution_count": 140,
   "id": "50bc50c6-2d83-4c7e-97fa-3e7627978438",
   "metadata": {},
   "outputs": [
    {
     "data": {
      "text/html": [
       "<div>\n",
       "<style scoped>\n",
       "    .dataframe tbody tr th:only-of-type {\n",
       "        vertical-align: middle;\n",
       "    }\n",
       "\n",
       "    .dataframe tbody tr th {\n",
       "        vertical-align: top;\n",
       "    }\n",
       "\n",
       "    .dataframe thead th {\n",
       "        text-align: right;\n",
       "    }\n",
       "</style>\n",
       "<table border=\"1\" class=\"dataframe\">\n",
       "  <thead>\n",
       "    <tr style=\"text-align: right;\">\n",
       "      <th></th>\n",
       "      <th>track_id</th>\n",
       "      <th>albums</th>\n",
       "      <th>artists</th>\n",
       "      <th>genres</th>\n",
       "      <th>name</th>\n",
       "      <th>genre_names</th>\n",
       "      <th>artist_names</th>\n",
       "      <th>album_names</th>\n",
       "      <th>popularity</th>\n",
       "    </tr>\n",
       "  </thead>\n",
       "  <tbody>\n",
       "    <tr>\n",
       "      <th>0</th>\n",
       "      <td>26</td>\n",
       "      <td>[3, 2490753]</td>\n",
       "      <td>[16]</td>\n",
       "      <td>[11, 21]</td>\n",
       "      <td>Complimentary Me</td>\n",
       "      <td>[pop, folk]</td>\n",
       "      <td>[Elizabeth &amp; the Catapult]</td>\n",
       "      <td>[Taller Children, Taller Children]</td>\n",
       "      <td>0.0</td>\n",
       "    </tr>\n",
       "    <tr>\n",
       "      <th>1</th>\n",
       "      <td>38</td>\n",
       "      <td>[3, 2490753]</td>\n",
       "      <td>[16]</td>\n",
       "      <td>[11, 21]</td>\n",
       "      <td>Momma's Boy</td>\n",
       "      <td>[pop, folk]</td>\n",
       "      <td>[Elizabeth &amp; the Catapult]</td>\n",
       "      <td>[Taller Children, Taller Children]</td>\n",
       "      <td>0.0</td>\n",
       "    </tr>\n",
       "    <tr>\n",
       "      <th>2</th>\n",
       "      <td>135</td>\n",
       "      <td>[12, 214, 2490809]</td>\n",
       "      <td>[84]</td>\n",
       "      <td>[11]</td>\n",
       "      <td>Atticus</td>\n",
       "      <td>[pop]</td>\n",
       "      <td>[Noisettes]</td>\n",
       "      <td>[Wild Young Hearts, Wild Young Hearts, Wild Yo...</td>\n",
       "      <td>0.0</td>\n",
       "    </tr>\n",
       "    <tr>\n",
       "      <th>3</th>\n",
       "      <td>136</td>\n",
       "      <td>[12, 214, 2490809]</td>\n",
       "      <td>[84]</td>\n",
       "      <td>[11]</td>\n",
       "      <td>24 Hours</td>\n",
       "      <td>[pop]</td>\n",
       "      <td>[Noisettes]</td>\n",
       "      <td>[Wild Young Hearts, Wild Young Hearts, Wild Yo...</td>\n",
       "      <td>0.0</td>\n",
       "    </tr>\n",
       "    <tr>\n",
       "      <th>4</th>\n",
       "      <td>138</td>\n",
       "      <td>[12, 214, 322, 72275, 72292, 91199, 213505, 24...</td>\n",
       "      <td>[84]</td>\n",
       "      <td>[11]</td>\n",
       "      <td>Don't Upset The Rhythm (Go Baby Go)</td>\n",
       "      <td>[pop]</td>\n",
       "      <td>[Noisettes]</td>\n",
       "      <td>[Wild Young Hearts, Wild Young Hearts, Don't U...</td>\n",
       "      <td>0.0</td>\n",
       "    </tr>\n",
       "    <tr>\n",
       "      <th>...</th>\n",
       "      <td>...</td>\n",
       "      <td>...</td>\n",
       "      <td>...</td>\n",
       "      <td>...</td>\n",
       "      <td>...</td>\n",
       "      <td>...</td>\n",
       "      <td>...</td>\n",
       "      <td>...</td>\n",
       "      <td>...</td>\n",
       "    </tr>\n",
       "    <tr>\n",
       "      <th>957865</th>\n",
       "      <td>87341742</td>\n",
       "      <td>[16871204]</td>\n",
       "      <td>[12541816]</td>\n",
       "      <td>[11, 20]</td>\n",
       "      <td>Гроза и муза</td>\n",
       "      <td>[pop, ruspop]</td>\n",
       "      <td>[Zina Bless]</td>\n",
       "      <td>[Гроза и муза]</td>\n",
       "      <td>0.0</td>\n",
       "    </tr>\n",
       "    <tr>\n",
       "      <th>958226</th>\n",
       "      <td>87434758</td>\n",
       "      <td>[11781223]</td>\n",
       "      <td>[]</td>\n",
       "      <td>[62, 72, 77]</td>\n",
       "      <td>Как развивать самодисциплину и личный бренд • ...</td>\n",
       "      <td>[podcasts, business, education]</td>\n",
       "      <td>[]</td>\n",
       "      <td>[Потом доделаю]</td>\n",
       "      <td>0.0</td>\n",
       "    </tr>\n",
       "    <tr>\n",
       "      <th>958675</th>\n",
       "      <td>87543206</td>\n",
       "      <td>[16934920]</td>\n",
       "      <td>[11873213]</td>\n",
       "      <td>[47]</td>\n",
       "      <td>Gospel</td>\n",
       "      <td>[metal]</td>\n",
       "      <td>[LongestSoloEver]</td>\n",
       "      <td>[Gospel]</td>\n",
       "      <td>0.0</td>\n",
       "    </tr>\n",
       "    <tr>\n",
       "      <th>966001</th>\n",
       "      <td>89472205</td>\n",
       "      <td>[17552246]</td>\n",
       "      <td>[11861149]</td>\n",
       "      <td>[11, 20]</td>\n",
       "      <td>Когда Ты Рядом</td>\n",
       "      <td>[pop, ruspop]</td>\n",
       "      <td>[Bolin &amp; Almarie]</td>\n",
       "      <td>[Когда Ты Рядом]</td>\n",
       "      <td>0.0</td>\n",
       "    </tr>\n",
       "    <tr>\n",
       "      <th>978967</th>\n",
       "      <td>92715590</td>\n",
       "      <td>[18608805]</td>\n",
       "      <td>[354163]</td>\n",
       "      <td>[11]</td>\n",
       "      <td>Quello che fa male</td>\n",
       "      <td>[pop]</td>\n",
       "      <td>[LDA]</td>\n",
       "      <td>[Quello che fa male]</td>\n",
       "      <td>0.0</td>\n",
       "    </tr>\n",
       "  </tbody>\n",
       "</table>\n",
       "<p>85823 rows × 9 columns</p>\n",
       "</div>"
      ],
      "text/plain": [
       "        track_id                                             albums  \\\n",
       "0             26                                       [3, 2490753]   \n",
       "1             38                                       [3, 2490753]   \n",
       "2            135                                 [12, 214, 2490809]   \n",
       "3            136                                 [12, 214, 2490809]   \n",
       "4            138  [12, 214, 322, 72275, 72292, 91199, 213505, 24...   \n",
       "...          ...                                                ...   \n",
       "957865  87341742                                         [16871204]   \n",
       "958226  87434758                                         [11781223]   \n",
       "958675  87543206                                         [16934920]   \n",
       "966001  89472205                                         [17552246]   \n",
       "978967  92715590                                         [18608805]   \n",
       "\n",
       "           artists        genres  \\\n",
       "0             [16]      [11, 21]   \n",
       "1             [16]      [11, 21]   \n",
       "2             [84]          [11]   \n",
       "3             [84]          [11]   \n",
       "4             [84]          [11]   \n",
       "...            ...           ...   \n",
       "957865  [12541816]      [11, 20]   \n",
       "958226          []  [62, 72, 77]   \n",
       "958675  [11873213]          [47]   \n",
       "966001  [11861149]      [11, 20]   \n",
       "978967    [354163]          [11]   \n",
       "\n",
       "                                                     name  \\\n",
       "0                                        Complimentary Me   \n",
       "1                                             Momma's Boy   \n",
       "2                                                 Atticus   \n",
       "3                                                24 Hours   \n",
       "4                     Don't Upset The Rhythm (Go Baby Go)   \n",
       "...                                                   ...   \n",
       "957865                                       Гроза и муза   \n",
       "958226  Как развивать самодисциплину и личный бренд • ...   \n",
       "958675                                             Gospel   \n",
       "966001                                     Когда Ты Рядом   \n",
       "978967                                 Quello che fa male   \n",
       "\n",
       "                            genre_names                artist_names  \\\n",
       "0                           [pop, folk]  [Elizabeth & the Catapult]   \n",
       "1                           [pop, folk]  [Elizabeth & the Catapult]   \n",
       "2                                 [pop]                 [Noisettes]   \n",
       "3                                 [pop]                 [Noisettes]   \n",
       "4                                 [pop]                 [Noisettes]   \n",
       "...                                 ...                         ...   \n",
       "957865                    [pop, ruspop]                [Zina Bless]   \n",
       "958226  [podcasts, business, education]                          []   \n",
       "958675                          [metal]           [LongestSoloEver]   \n",
       "966001                    [pop, ruspop]           [Bolin & Almarie]   \n",
       "978967                            [pop]                       [LDA]   \n",
       "\n",
       "                                              album_names  popularity  \n",
       "0                      [Taller Children, Taller Children]         0.0  \n",
       "1                      [Taller Children, Taller Children]         0.0  \n",
       "2       [Wild Young Hearts, Wild Young Hearts, Wild Yo...         0.0  \n",
       "3       [Wild Young Hearts, Wild Young Hearts, Wild Yo...         0.0  \n",
       "4       [Wild Young Hearts, Wild Young Hearts, Don't U...         0.0  \n",
       "...                                                   ...         ...  \n",
       "957865                                     [Гроза и муза]         0.0  \n",
       "958226                                    [Потом доделаю]         0.0  \n",
       "958675                                           [Gospel]         0.0  \n",
       "966001                                   [Когда Ты Рядом]         0.0  \n",
       "978967                               [Quello che fa male]         0.0  \n",
       "\n",
       "[85823 rows x 9 columns]"
      ]
     },
     "execution_count": 140,
     "metadata": {},
     "output_type": "execute_result"
    }
   ],
   "source": [
    "not_list = tracks[~tracks['track_id'].isin(interactions['track_id'])]\n",
    "not_list"
   ]
  },
  {
   "cell_type": "markdown",
   "id": "0d850a07-ef1e-462f-891a-1cf89f2e24ef",
   "metadata": {},
   "source": [
    "# Преобразование данных"
   ]
  },
  {
   "cell_type": "markdown",
   "id": "fabcf8d2-1192-4df5-b20b-fbb84689f57a",
   "metadata": {},
   "source": [
    "Преобразуем данные в формат, более пригодный для дальнейшего использования в расчётах рекомендаций."
   ]
  },
  {
   "cell_type": "code",
   "execution_count": 141,
   "id": "a425556a-9382-45ca-a04e-f1981a522126",
   "metadata": {},
   "outputs": [
    {
     "data": {
      "text/html": [
       "<div>\n",
       "<style scoped>\n",
       "    .dataframe tbody tr th:only-of-type {\n",
       "        vertical-align: middle;\n",
       "    }\n",
       "\n",
       "    .dataframe tbody tr th {\n",
       "        vertical-align: top;\n",
       "    }\n",
       "\n",
       "    .dataframe thead th {\n",
       "        text-align: right;\n",
       "    }\n",
       "</style>\n",
       "<table border=\"1\" class=\"dataframe\">\n",
       "  <thead>\n",
       "    <tr style=\"text-align: right;\">\n",
       "      <th></th>\n",
       "      <th>user_id</th>\n",
       "      <th>track_id</th>\n",
       "      <th>track_seq</th>\n",
       "      <th>started_at</th>\n",
       "    </tr>\n",
       "  </thead>\n",
       "  <tbody>\n",
       "    <tr>\n",
       "      <th>31</th>\n",
       "      <td>3</td>\n",
       "      <td>68348391</td>\n",
       "      <td>32</td>\n",
       "      <td>2022-12-14</td>\n",
       "    </tr>\n",
       "    <tr>\n",
       "      <th>32</th>\n",
       "      <td>3</td>\n",
       "      <td>78194999</td>\n",
       "      <td>33</td>\n",
       "      <td>2022-12-20</td>\n",
       "    </tr>\n",
       "    <tr>\n",
       "      <th>197</th>\n",
       "      <td>4</td>\n",
       "      <td>59535907</td>\n",
       "      <td>198</td>\n",
       "      <td>2022-11-03</td>\n",
       "    </tr>\n",
       "    <tr>\n",
       "      <th>198</th>\n",
       "      <td>4</td>\n",
       "      <td>60102026</td>\n",
       "      <td>199</td>\n",
       "      <td>2022-11-03</td>\n",
       "    </tr>\n",
       "    <tr>\n",
       "      <th>199</th>\n",
       "      <td>4</td>\n",
       "      <td>61424101</td>\n",
       "      <td>200</td>\n",
       "      <td>2022-11-03</td>\n",
       "    </tr>\n",
       "  </tbody>\n",
       "</table>\n",
       "</div>"
      ],
      "text/plain": [
       "     user_id  track_id  track_seq  started_at\n",
       "31         3  68348391         32  2022-12-14\n",
       "32         3  78194999         33  2022-12-20\n",
       "197        4  59535907        198  2022-11-03\n",
       "198        4  60102026        199  2022-11-03\n",
       "199        4  61424101        200  2022-11-03"
      ]
     },
     "execution_count": 141,
     "metadata": {},
     "output_type": "execute_result"
    }
   ],
   "source": [
    "interactions['started_at'] = interactions['started_at'].dt.date\n",
    "interactions.head()"
   ]
  },
  {
   "cell_type": "code",
   "execution_count": 142,
   "id": "bd3f9ab5",
   "metadata": {},
   "outputs": [
    {
     "data": {
      "text/html": [
       "<div>\n",
       "<style scoped>\n",
       "    .dataframe tbody tr th:only-of-type {\n",
       "        vertical-align: middle;\n",
       "    }\n",
       "\n",
       "    .dataframe tbody tr th {\n",
       "        vertical-align: top;\n",
       "    }\n",
       "\n",
       "    .dataframe thead th {\n",
       "        text-align: right;\n",
       "    }\n",
       "</style>\n",
       "<table border=\"1\" class=\"dataframe\">\n",
       "  <thead>\n",
       "    <tr style=\"text-align: right;\">\n",
       "      <th></th>\n",
       "      <th>user_id</th>\n",
       "      <th>track_id</th>\n",
       "      <th>track_seq</th>\n",
       "      <th>started_at</th>\n",
       "      <th>rating</th>\n",
       "    </tr>\n",
       "  </thead>\n",
       "  <tbody>\n",
       "    <tr>\n",
       "      <th>31</th>\n",
       "      <td>3</td>\n",
       "      <td>68348391</td>\n",
       "      <td>32</td>\n",
       "      <td>2022-12-14</td>\n",
       "      <td>2.0</td>\n",
       "    </tr>\n",
       "    <tr>\n",
       "      <th>32</th>\n",
       "      <td>3</td>\n",
       "      <td>78194999</td>\n",
       "      <td>33</td>\n",
       "      <td>2022-12-20</td>\n",
       "      <td>1.0</td>\n",
       "    </tr>\n",
       "    <tr>\n",
       "      <th>197</th>\n",
       "      <td>4</td>\n",
       "      <td>59535907</td>\n",
       "      <td>198</td>\n",
       "      <td>2022-11-03</td>\n",
       "      <td>59.0</td>\n",
       "    </tr>\n",
       "    <tr>\n",
       "      <th>198</th>\n",
       "      <td>4</td>\n",
       "      <td>60102026</td>\n",
       "      <td>199</td>\n",
       "      <td>2022-11-03</td>\n",
       "      <td>58.0</td>\n",
       "    </tr>\n",
       "    <tr>\n",
       "      <th>199</th>\n",
       "      <td>4</td>\n",
       "      <td>61424101</td>\n",
       "      <td>200</td>\n",
       "      <td>2022-11-03</td>\n",
       "      <td>57.0</td>\n",
       "    </tr>\n",
       "  </tbody>\n",
       "</table>\n",
       "</div>"
      ],
      "text/plain": [
       "     user_id  track_id  track_seq  started_at  rating\n",
       "31         3  68348391         32  2022-12-14     2.0\n",
       "32         3  78194999         33  2022-12-20     1.0\n",
       "197        4  59535907        198  2022-11-03    59.0\n",
       "198        4  60102026        199  2022-11-03    58.0\n",
       "199        4  61424101        200  2022-11-03    57.0"
      ]
     },
     "execution_count": 142,
     "metadata": {},
     "output_type": "execute_result"
    }
   ],
   "source": [
    "interactions['rating'] = interactions.groupby(\"user_id\")['track_seq'].rank(method='dense', ascending=False)\n",
    "interactions.head()"
   ]
  },
  {
   "cell_type": "markdown",
   "id": "4d1be653-eed8-4fa0-a9c5-3811b080d71d",
   "metadata": {},
   "source": [
    "# Сохранение данных"
   ]
  },
  {
   "cell_type": "markdown",
   "id": "36f1314a-3af3-4faf-a0b1-3045173d1500",
   "metadata": {},
   "source": [
    "Сохраним данные в двух файлах в персональном S3-бакете по пути `recsys/data/`:\n",
    "- `items.parquet` — все данные о музыкальных треках,\n",
    "- `events.parquet` — все данные о взаимодействиях."
   ]
  },
  {
   "cell_type": "code",
   "execution_count": 143,
   "id": "9f77af17-7705-4fae-9aad-db579b39faad",
   "metadata": {},
   "outputs": [],
   "source": [
    "tracks.to_parquet(\"./recsys/data/items.parquet\")\n",
    "interactions.to_parquet(\"./recsys/data/events.parquet\")\n",
    "genre_popularity.to_parquet(\"./recsys/data/genre_popularity.parquet\")"
   ]
  },
  {
   "cell_type": "code",
   "execution_count": 144,
   "id": "1a0e47fa",
   "metadata": {},
   "outputs": [],
   "source": [
    "s3_client.upload_file('./recsys/data/items.parquet', S3_BUCKET_NAME, 'recsys/data/items.parquet')"
   ]
  },
  {
   "cell_type": "code",
   "execution_count": 145,
   "id": "f5903c1b",
   "metadata": {},
   "outputs": [],
   "source": [
    "s3_client.upload_file('./recsys/data/events.parquet', S3_BUCKET_NAME, 'recsys/data/events.parquet')"
   ]
  },
  {
   "cell_type": "markdown",
   "id": "72ecbbed-c560-44d9-9c14-86c7dc76f399",
   "metadata": {},
   "source": [
    "# Очистка памяти"
   ]
  },
  {
   "cell_type": "markdown",
   "id": "b5358ede-ba6e-4c4f-bd73-5b9344f0ba79",
   "metadata": {},
   "source": [
    "Здесь, может понадобится очистка памяти для высвобождения ресурсов для выполнения кода ниже. \n",
    "\n",
    "Приведите соответствующие код, комментарии, например:\n",
    "- код для удаление более ненужных переменных,\n",
    "- комментарий, что следует перезапустить kernel, выполнить такие-то начальные секции и продолжить с этапа 3."
   ]
  },
  {
   "cell_type": "markdown",
   "id": "c70ac636",
   "metadata": {},
   "source": [
    "<div class=\"alert alert-success\" style=\"border-radius: 15px; box-shadow: 4px 4px 4px; border: 1px solid \">\n",
    "<b> Комментарий ревьюера  ✔️</b>\n",
    "    \n",
    "В целом, общий обзор кода показывает, что он структурирован и выполняет задачи обработки данных, загрузки и объединения информации, что является хорошей основой для дальнейших этапов проекта, но мне не хватило выводов и комментариев по ходу всего анализа. </div>\n"
   ]
  },
  {
   "cell_type": "markdown",
   "id": "708503df-ee89-4cf3-8489-093dc478e2a8",
   "metadata": {},
   "source": [
    "# === ЭТАП 3 ==="
   ]
  },
  {
   "cell_type": "markdown",
   "id": "fd77de22-e10f-4b42-85c1-8fb6f805fe68",
   "metadata": {},
   "source": [
    "# Загрузка данных"
   ]
  },
  {
   "cell_type": "markdown",
   "id": "780a4241-1ecd-4a3e-bbb3-fc2f6ca94f68",
   "metadata": {},
   "source": [
    "Если необходимо, то загружаем items.parquet, events.parquet."
   ]
  },
  {
   "cell_type": "code",
   "execution_count": 5,
   "id": "f19fc8a5-bd2c-40d7-864a-ee75aca6d512",
   "metadata": {},
   "outputs": [
    {
     "name": "stdout",
     "output_type": "stream",
     "text": [
      "<class 'pandas.core.frame.DataFrame'>\n",
      "RangeIndex: 1000000 entries, 0 to 999999\n",
      "Data columns (total 9 columns):\n",
      " #   Column        Non-Null Count    Dtype  \n",
      "---  ------        --------------    -----  \n",
      " 0   track_id      1000000 non-null  int64  \n",
      " 1   albums        1000000 non-null  object \n",
      " 2   artists       1000000 non-null  object \n",
      " 3   genres        1000000 non-null  object \n",
      " 4   name          1000000 non-null  object \n",
      " 5   genre_names   1000000 non-null  object \n",
      " 6   artist_names  1000000 non-null  object \n",
      " 7   album_names   1000000 non-null  object \n",
      " 8   popularity    1000000 non-null  float64\n",
      "dtypes: float64(1), int64(1), object(7)\n",
      "memory usage: 68.7+ MB\n"
     ]
    }
   ],
   "source": [
    "items = pd.read_parquet(\"./recsys/data/items.parquet\")\n",
    "items.info()"
   ]
  },
  {
   "cell_type": "code",
   "execution_count": 3,
   "id": "b6d48f6a",
   "metadata": {},
   "outputs": [
    {
     "name": "stdout",
     "output_type": "stream",
     "text": [
      "<class 'pandas.core.frame.DataFrame'>\n",
      "Index: 63918740 entries, 31 to 291\n",
      "Data columns (total 5 columns):\n",
      " #   Column      Dtype  \n",
      "---  ------      -----  \n",
      " 0   user_id     int32  \n",
      " 1   track_id    int32  \n",
      " 2   track_seq   int16  \n",
      " 3   started_at  object \n",
      " 4   rating      float64\n",
      "dtypes: float64(1), int16(1), int32(2), object(1)\n",
      "memory usage: 2.0+ GB\n"
     ]
    }
   ],
   "source": [
    "events = pd.read_parquet(\"./recsys/data/events.parquet\")\n",
    "events.info()"
   ]
  },
  {
   "cell_type": "code",
   "execution_count": 7,
   "id": "5db1e801-5845-4ce3-86f2-c2fa30f68cc5",
   "metadata": {},
   "outputs": [
    {
     "name": "stdout",
     "output_type": "stream",
     "text": [
      "<class 'pandas.core.frame.DataFrame'>\n",
      "RangeIndex: 166 entries, 0 to 165\n",
      "Data columns (total 3 columns):\n",
      " #   Column            Non-Null Count  Dtype  \n",
      "---  ------            --------------  -----  \n",
      " 0   id                166 non-null    int64  \n",
      " 1   genre_popularity  166 non-null    float64\n",
      " 2   genre_name        166 non-null    object \n",
      "dtypes: float64(1), int64(1), object(1)\n",
      "memory usage: 4.0+ KB\n"
     ]
    }
   ],
   "source": [
    "genre_popularity = pd.read_parquet(\"./recsys/data/genre_popularity.parquet\")\n",
    "genre_popularity.info()"
   ]
  },
  {
   "cell_type": "markdown",
   "id": "a694c023-6477-490b-939d-1cfa6f5f1b72",
   "metadata": {},
   "source": [
    "# Разбиение данных"
   ]
  },
  {
   "cell_type": "markdown",
   "id": "fbd5f6e0-54e7-4428-8678-eabce505d82c",
   "metadata": {},
   "source": [
    "Разбиваем данные на тренировочную, тестовую выборки."
   ]
  },
  {
   "cell_type": "code",
   "execution_count": 4,
   "id": "00c2dfa5-d8a2-47d1-922e-6eefee2c62d1",
   "metadata": {},
   "outputs": [
    {
     "name": "stdout",
     "output_type": "stream",
     "text": [
      "1140855 781881 743264\n"
     ]
    }
   ],
   "source": [
    "train_test_global_time_split_date = pd.to_datetime(\"2022-12-16\").date()\n",
    "train_test_global_time_split_idx = events[\"started_at\"] < train_test_global_time_split_date\n",
    "\n",
    "events_train = events[train_test_global_time_split_idx]\n",
    "events_test = events[~train_test_global_time_split_idx]\n",
    "\n",
    "users_train = events_train[\"user_id\"].drop_duplicates()\n",
    "users_test = events_test[\"user_id\"].drop_duplicates()\n",
    "\n",
    "common_users = list(set(users_train) & set(users_test))\n",
    "print(len(users_train), len(users_test), len(common_users)) "
   ]
  },
  {
   "cell_type": "markdown",
   "id": "03ec105c",
   "metadata": {},
   "source": [
    "<div class=\"alert alert-success\" style=\"border-radius: 15px; box-shadow: 4px 4px 4px; border: 1px solid \">\n",
    "<b> Комментарий ревьюера  ✔️</b>\n",
    "    \n",
    "Логика разделения данных по времени для формирования тренировочной и тестовой выборок выполнена корректно. Этот</div>\n",
    "\n",
    "\n"
   ]
  },
  {
   "cell_type": "code",
   "execution_count": 5,
   "id": "26fe3e3c-8c5f-4437-bf13-9191adef08bb",
   "metadata": {},
   "outputs": [
    {
     "name": "stdout",
     "output_type": "stream",
     "text": [
      "38617\n"
     ]
    }
   ],
   "source": [
    "cold_users = list(set(users_test) - set(common_users))\n",
    "print(len(cold_users)) "
   ]
  },
  {
   "cell_type": "markdown",
   "id": "9131c7e6-8852-4556-b510-51f7253cc299",
   "metadata": {},
   "source": [
    "# Топ популярных"
   ]
  },
  {
   "cell_type": "markdown",
   "id": "dd70d43a-88cc-4719-b291-feaed7136f30",
   "metadata": {},
   "source": [
    "Рассчитаем рекомендации как топ популярных."
   ]
  },
  {
   "cell_type": "code",
   "execution_count": 10,
   "id": "ee45e200-b7d6-4f56-9077-aad431689b96",
   "metadata": {},
   "outputs": [
    {
     "data": {
      "text/html": [
       "<div>\n",
       "<style scoped>\n",
       "    .dataframe tbody tr th:only-of-type {\n",
       "        vertical-align: middle;\n",
       "    }\n",
       "\n",
       "    .dataframe tbody tr th {\n",
       "        vertical-align: top;\n",
       "    }\n",
       "\n",
       "    .dataframe thead th {\n",
       "        text-align: right;\n",
       "    }\n",
       "</style>\n",
       "<table border=\"1\" class=\"dataframe\">\n",
       "  <thead>\n",
       "    <tr style=\"text-align: right;\">\n",
       "      <th></th>\n",
       "      <th>track_id</th>\n",
       "      <th>albums</th>\n",
       "      <th>artists</th>\n",
       "      <th>genres</th>\n",
       "      <th>name</th>\n",
       "      <th>genre_names</th>\n",
       "      <th>artist_names</th>\n",
       "      <th>album_names</th>\n",
       "      <th>popularity</th>\n",
       "      <th>score</th>\n",
       "    </tr>\n",
       "  </thead>\n",
       "  <tbody>\n",
       "    <tr>\n",
       "      <th>940964</th>\n",
       "      <td>83063895</td>\n",
       "      <td>[15598104]</td>\n",
       "      <td>[5129397]</td>\n",
       "      <td>[11, 20]</td>\n",
       "      <td>Птичка</td>\n",
       "      <td>[pop, ruspop]</td>\n",
       "      <td>[HammAli &amp; Navai]</td>\n",
       "      <td>[Птичка]</td>\n",
       "      <td>45841.0</td>\n",
       "      <td>0.717176</td>\n",
       "    </tr>\n",
       "    <tr>\n",
       "      <th>980395</th>\n",
       "      <td>93126179</td>\n",
       "      <td>[18729695]</td>\n",
       "      <td>[4664209]</td>\n",
       "      <td>[11, 20]</td>\n",
       "      <td>Солнце Монако</td>\n",
       "      <td>[pop, ruspop]</td>\n",
       "      <td>[Люся Чеботина]</td>\n",
       "      <td>[The End]</td>\n",
       "      <td>45334.0</td>\n",
       "      <td>0.709244</td>\n",
       "    </tr>\n",
       "    <tr>\n",
       "      <th>935913</th>\n",
       "      <td>81848875</td>\n",
       "      <td>[15213275]</td>\n",
       "      <td>[10318860]</td>\n",
       "      <td>[11, 20]</td>\n",
       "      <td>Федерико Феллини</td>\n",
       "      <td>[pop, ruspop]</td>\n",
       "      <td>[Galibri &amp; Mavik]</td>\n",
       "      <td>[Федерико Феллини]</td>\n",
       "      <td>44788.0</td>\n",
       "      <td>0.700702</td>\n",
       "    </tr>\n",
       "    <tr>\n",
       "      <th>946020</th>\n",
       "      <td>84382282</td>\n",
       "      <td>[15985737]</td>\n",
       "      <td>[5056591, 2938031]</td>\n",
       "      <td>[3, 75]</td>\n",
       "      <td>Я в моменте</td>\n",
       "      <td>[rusrap, rap]</td>\n",
       "      <td>[Джарахов, Markul]</td>\n",
       "      <td>[Я в моменте]</td>\n",
       "      <td>44403.0</td>\n",
       "      <td>0.694679</td>\n",
       "    </tr>\n",
       "    <tr>\n",
       "      <th>829320</th>\n",
       "      <td>65851540</td>\n",
       "      <td>[10692414]</td>\n",
       "      <td>[1554548]</td>\n",
       "      <td>[11, 20]</td>\n",
       "      <td>Юность</td>\n",
       "      <td>[pop, ruspop]</td>\n",
       "      <td>[Dabro]</td>\n",
       "      <td>[Юность]</td>\n",
       "      <td>42314.0</td>\n",
       "      <td>0.661997</td>\n",
       "    </tr>\n",
       "  </tbody>\n",
       "</table>\n",
       "</div>"
      ],
      "text/plain": [
       "        track_id      albums             artists    genres              name  \\\n",
       "940964  83063895  [15598104]           [5129397]  [11, 20]            Птичка   \n",
       "980395  93126179  [18729695]           [4664209]  [11, 20]     Солнце Монако   \n",
       "935913  81848875  [15213275]          [10318860]  [11, 20]  Федерико Феллини   \n",
       "946020  84382282  [15985737]  [5056591, 2938031]   [3, 75]       Я в моменте   \n",
       "829320  65851540  [10692414]           [1554548]  [11, 20]            Юность   \n",
       "\n",
       "          genre_names        artist_names         album_names  popularity  \\\n",
       "940964  [pop, ruspop]   [HammAli & Navai]            [Птичка]     45841.0   \n",
       "980395  [pop, ruspop]     [Люся Чеботина]           [The End]     45334.0   \n",
       "935913  [pop, ruspop]   [Galibri & Mavik]  [Федерико Феллини]     44788.0   \n",
       "946020  [rusrap, rap]  [Джарахов, Markul]       [Я в моменте]     44403.0   \n",
       "829320  [pop, ruspop]             [Dabro]            [Юность]     42314.0   \n",
       "\n",
       "           score  \n",
       "940964  0.717176  \n",
       "980395  0.709244  \n",
       "935913  0.700702  \n",
       "946020  0.694679  \n",
       "829320  0.661997  "
      ]
     },
     "execution_count": 10,
     "metadata": {},
     "output_type": "execute_result"
    }
   ],
   "source": [
    "items['score'] = (items['popularity']/items['popularity'].sum())*1000\n",
    "items.sort_values(by=\"score\",ascending=False).head(5) "
   ]
  },
  {
   "cell_type": "code",
   "execution_count": 11,
   "id": "7690c86f-7aa9-46ed-bba5-2c837626411e",
   "metadata": {},
   "outputs": [
    {
     "data": {
      "text/html": [
       "<div>\n",
       "<style scoped>\n",
       "    .dataframe tbody tr th:only-of-type {\n",
       "        vertical-align: middle;\n",
       "    }\n",
       "\n",
       "    .dataframe tbody tr th {\n",
       "        vertical-align: top;\n",
       "    }\n",
       "\n",
       "    .dataframe thead th {\n",
       "        text-align: right;\n",
       "    }\n",
       "</style>\n",
       "<table border=\"1\" class=\"dataframe\">\n",
       "  <thead>\n",
       "    <tr style=\"text-align: right;\">\n",
       "      <th></th>\n",
       "      <th>track_id</th>\n",
       "      <th>albums</th>\n",
       "      <th>artists</th>\n",
       "      <th>genres</th>\n",
       "      <th>name</th>\n",
       "      <th>genre_names</th>\n",
       "      <th>artist_names</th>\n",
       "      <th>album_names</th>\n",
       "      <th>popularity</th>\n",
       "      <th>score</th>\n",
       "    </tr>\n",
       "  </thead>\n",
       "  <tbody>\n",
       "    <tr>\n",
       "      <th>0</th>\n",
       "      <td>83063895</td>\n",
       "      <td>[15598104]</td>\n",
       "      <td>[5129397]</td>\n",
       "      <td>[11, 20]</td>\n",
       "      <td>Птичка</td>\n",
       "      <td>[pop, ruspop]</td>\n",
       "      <td>[HammAli &amp; Navai]</td>\n",
       "      <td>[Птичка]</td>\n",
       "      <td>45841.0</td>\n",
       "      <td>0.717176</td>\n",
       "    </tr>\n",
       "    <tr>\n",
       "      <th>1</th>\n",
       "      <td>93126179</td>\n",
       "      <td>[18729695]</td>\n",
       "      <td>[4664209]</td>\n",
       "      <td>[11, 20]</td>\n",
       "      <td>Солнце Монако</td>\n",
       "      <td>[pop, ruspop]</td>\n",
       "      <td>[Люся Чеботина]</td>\n",
       "      <td>[The End]</td>\n",
       "      <td>45334.0</td>\n",
       "      <td>0.709244</td>\n",
       "    </tr>\n",
       "    <tr>\n",
       "      <th>2</th>\n",
       "      <td>81848875</td>\n",
       "      <td>[15213275]</td>\n",
       "      <td>[10318860]</td>\n",
       "      <td>[11, 20]</td>\n",
       "      <td>Федерико Феллини</td>\n",
       "      <td>[pop, ruspop]</td>\n",
       "      <td>[Galibri &amp; Mavik]</td>\n",
       "      <td>[Федерико Феллини]</td>\n",
       "      <td>44788.0</td>\n",
       "      <td>0.700702</td>\n",
       "    </tr>\n",
       "    <tr>\n",
       "      <th>3</th>\n",
       "      <td>84382282</td>\n",
       "      <td>[15985737]</td>\n",
       "      <td>[5056591, 2938031]</td>\n",
       "      <td>[3, 75]</td>\n",
       "      <td>Я в моменте</td>\n",
       "      <td>[rusrap, rap]</td>\n",
       "      <td>[Джарахов, Markul]</td>\n",
       "      <td>[Я в моменте]</td>\n",
       "      <td>44403.0</td>\n",
       "      <td>0.694679</td>\n",
       "    </tr>\n",
       "    <tr>\n",
       "      <th>4</th>\n",
       "      <td>65851540</td>\n",
       "      <td>[10692414]</td>\n",
       "      <td>[1554548]</td>\n",
       "      <td>[11, 20]</td>\n",
       "      <td>Юность</td>\n",
       "      <td>[pop, ruspop]</td>\n",
       "      <td>[Dabro]</td>\n",
       "      <td>[Юность]</td>\n",
       "      <td>42314.0</td>\n",
       "      <td>0.661997</td>\n",
       "    </tr>\n",
       "  </tbody>\n",
       "</table>\n",
       "</div>"
      ],
      "text/plain": [
       "   track_id      albums             artists    genres              name  \\\n",
       "0  83063895  [15598104]           [5129397]  [11, 20]            Птичка   \n",
       "1  93126179  [18729695]           [4664209]  [11, 20]     Солнце Монако   \n",
       "2  81848875  [15213275]          [10318860]  [11, 20]  Федерико Феллини   \n",
       "3  84382282  [15985737]  [5056591, 2938031]   [3, 75]       Я в моменте   \n",
       "4  65851540  [10692414]           [1554548]  [11, 20]            Юность   \n",
       "\n",
       "     genre_names        artist_names         album_names  popularity     score  \n",
       "0  [pop, ruspop]   [HammAli & Navai]            [Птичка]     45841.0  0.717176  \n",
       "1  [pop, ruspop]     [Люся Чеботина]           [The End]     45334.0  0.709244  \n",
       "2  [pop, ruspop]   [Galibri & Mavik]  [Федерико Феллини]     44788.0  0.700702  \n",
       "3  [rusrap, rap]  [Джарахов, Markul]       [Я в моменте]     44403.0  0.694679  \n",
       "4  [pop, ruspop]             [Dabro]            [Юность]     42314.0  0.661997  "
      ]
     },
     "execution_count": 11,
     "metadata": {},
     "output_type": "execute_result"
    }
   ],
   "source": [
    "top_popular = items.sort_values(by=\"score\",ascending=False).head(100).reset_index(drop=True)\n",
    "top_popular.head(5) "
   ]
  },
  {
   "cell_type": "code",
   "execution_count": 12,
   "id": "7d5bf1ca",
   "metadata": {},
   "outputs": [],
   "source": [
    "top_popular.to_parquet(\"./recsys/recommendations/top_popular.parquet\")"
   ]
  },
  {
   "cell_type": "markdown",
   "id": "2ad231f2-6158-421a-b7fa-01d8bc3ed572",
   "metadata": {},
   "source": [
    "# Персональные"
   ]
  },
  {
   "cell_type": "markdown",
   "id": "86159460-cd9d-4b63-8248-604ea3c9aebf",
   "metadata": {},
   "source": [
    "Рассчитаем персональные рекомендации."
   ]
  },
  {
   "cell_type": "code",
   "execution_count": null,
   "id": "d2944822-569c-4f9b-82dc-70a7fa2d542e",
   "metadata": {},
   "outputs": [],
   "source": [
    "user_encoder = sklearn.preprocessing.LabelEncoder()\n",
    "user_encoder.fit(events[\"user_id\"])\n",
    "events_train[\"user_id_enc\"] = user_encoder.transform(events_train[\"user_id\"])\n",
    "events_test[\"user_id_enc\"] = user_encoder.transform(events_test[\"user_id\"])\n",
    "\n",
    "item_encoder = sklearn.preprocessing.LabelEncoder()\n",
    "item_encoder.fit(items[\"track_id\"])\n",
    "items[\"track_id_enc\"] = item_encoder.transform(items[\"track_id\"])\n",
    "events_train[\"track_id_enc\"] = item_encoder.transform(events_train[\"track_id\"])\n",
    "events_test[\"track_id_enc\"] = item_encoder.transform(events_test[\"track_id\"])"
   ]
  },
  {
   "cell_type": "code",
   "execution_count": 14,
   "id": "1df7e018",
   "metadata": {},
   "outputs": [
    {
     "data": {
      "text/html": [
       "<div>\n",
       "<style scoped>\n",
       "    .dataframe tbody tr th:only-of-type {\n",
       "        vertical-align: middle;\n",
       "    }\n",
       "\n",
       "    .dataframe tbody tr th {\n",
       "        vertical-align: top;\n",
       "    }\n",
       "\n",
       "    .dataframe thead th {\n",
       "        text-align: right;\n",
       "    }\n",
       "</style>\n",
       "<table border=\"1\" class=\"dataframe\">\n",
       "  <thead>\n",
       "    <tr style=\"text-align: right;\">\n",
       "      <th></th>\n",
       "      <th>user_id</th>\n",
       "      <th>track_id</th>\n",
       "      <th>track_seq</th>\n",
       "      <th>started_at</th>\n",
       "      <th>rating</th>\n",
       "      <th>user_id_enc</th>\n",
       "      <th>track_id_enc</th>\n",
       "    </tr>\n",
       "  </thead>\n",
       "  <tbody>\n",
       "    <tr>\n",
       "      <th>31</th>\n",
       "      <td>3</td>\n",
       "      <td>68348391</td>\n",
       "      <td>32</td>\n",
       "      <td>2022-12-14</td>\n",
       "      <td>2.0</td>\n",
       "      <td>0</td>\n",
       "      <td>848375</td>\n",
       "    </tr>\n",
       "    <tr>\n",
       "      <th>197</th>\n",
       "      <td>4</td>\n",
       "      <td>59535907</td>\n",
       "      <td>198</td>\n",
       "      <td>2022-11-03</td>\n",
       "      <td>59.0</td>\n",
       "      <td>1</td>\n",
       "      <td>772727</td>\n",
       "    </tr>\n",
       "    <tr>\n",
       "      <th>198</th>\n",
       "      <td>4</td>\n",
       "      <td>60102026</td>\n",
       "      <td>199</td>\n",
       "      <td>2022-11-03</td>\n",
       "      <td>58.0</td>\n",
       "      <td>1</td>\n",
       "      <td>777786</td>\n",
       "    </tr>\n",
       "    <tr>\n",
       "      <th>199</th>\n",
       "      <td>4</td>\n",
       "      <td>61424101</td>\n",
       "      <td>200</td>\n",
       "      <td>2022-11-03</td>\n",
       "      <td>57.0</td>\n",
       "      <td>1</td>\n",
       "      <td>789238</td>\n",
       "    </tr>\n",
       "    <tr>\n",
       "      <th>200</th>\n",
       "      <td>4</td>\n",
       "      <td>61619676</td>\n",
       "      <td>201</td>\n",
       "      <td>2022-11-05</td>\n",
       "      <td>56.0</td>\n",
       "      <td>1</td>\n",
       "      <td>790871</td>\n",
       "    </tr>\n",
       "  </tbody>\n",
       "</table>\n",
       "</div>"
      ],
      "text/plain": [
       "     user_id  track_id  track_seq  started_at  rating  user_id_enc  \\\n",
       "31         3  68348391         32  2022-12-14     2.0            0   \n",
       "197        4  59535907        198  2022-11-03    59.0            1   \n",
       "198        4  60102026        199  2022-11-03    58.0            1   \n",
       "199        4  61424101        200  2022-11-03    57.0            1   \n",
       "200        4  61619676        201  2022-11-05    56.0            1   \n",
       "\n",
       "     track_id_enc  \n",
       "31         848375  \n",
       "197        772727  \n",
       "198        777786  \n",
       "199        789238  \n",
       "200        790871  "
      ]
     },
     "execution_count": 14,
     "metadata": {},
     "output_type": "execute_result"
    }
   ],
   "source": [
    "events_train.head()"
   ]
  },
  {
   "cell_type": "code",
   "execution_count": 15,
   "id": "1e8cdb58-3a8c-45ad-8e5f-7f950314aa56",
   "metadata": {},
   "outputs": [],
   "source": [
    "user_item_matrix_train = scipy.sparse.csr_matrix((\n",
    "    events_train[\"rating\"],\n",
    "    (events_train['user_id_enc'], events_train['track_id_enc'])),\n",
    "    dtype=np.int8)"
   ]
  },
  {
   "cell_type": "code",
   "execution_count": 16,
   "id": "3a1e25d6",
   "metadata": {},
   "outputs": [
    {
     "name": "stderr",
     "output_type": "stream",
     "text": [
      "/home/mle-user/mle_projects/mle-recsys-project-start/.venv_recsys_start/lib/python3.10/site-packages/implicit/cpu/als.py:95: RuntimeWarning: OpenBLAS is configured to use 4 threads. It is highly recommended to disable its internal threadpool by setting the environment variable 'OPENBLAS_NUM_THREADS=1' or by calling 'threadpoolctl.threadpool_limits(1, \"blas\")'. Having OpenBLAS use a threadpool can lead to severe performance issues here.\n",
      "  check_blas_config()\n",
      "100%|██████████| 50/50 [13:12<00:00, 15.86s/it]\n"
     ]
    }
   ],
   "source": [
    "als_model = AlternatingLeastSquares(factors=50, iterations=50, regularization=0.05, random_state=0)\n",
    "als_model.fit(user_item_matrix_train) "
   ]
  },
  {
   "cell_type": "code",
   "execution_count": 17,
   "id": "2f3da726",
   "metadata": {},
   "outputs": [],
   "source": [
    "user_ids_encoded = range(len(user_encoder.classes_))\n",
    "\n",
    "als_recommendations = als_model.recommend(\n",
    "    user_ids_encoded, \n",
    "    user_item_matrix_train[user_ids_encoded], \n",
    "    filter_already_liked_items=False, N=50)"
   ]
  },
  {
   "cell_type": "code",
   "execution_count": 18,
   "id": "bfb916fe",
   "metadata": {},
   "outputs": [],
   "source": [
    "item_ids_enc = als_recommendations[0]\n",
    "als_scores = als_recommendations[1]\n",
    "\n",
    "als_recommendations = pd.DataFrame({\n",
    "    \"user_id_enc\": user_ids_encoded,\n",
    "    \"track_id_enc\": item_ids_enc.tolist(), \n",
    "    \"score\": als_scores.tolist()})\n",
    "als_recommendations = als_recommendations.explode([\"track_id_enc\", \"score\"], ignore_index=True)\n",
    "\n",
    "als_recommendations[\"track_id_enc\"] = als_recommendations[\"track_id_enc\"].astype(\"int\")\n",
    "als_recommendations[\"score\"] = als_recommendations[\"score\"].astype(\"float\")\n",
    "\n",
    "als_recommendations[\"user_id\"] = user_encoder.inverse_transform(als_recommendations[\"user_id_enc\"])\n",
    "als_recommendations[\"item_id\"] = item_encoder.inverse_transform(als_recommendations[\"track_id_enc\"])\n",
    "als_recommendations = als_recommendations.drop(columns=[\"user_id_enc\", \"track_id_enc\"])"
   ]
  },
  {
   "cell_type": "code",
   "execution_count": 19,
   "id": "97d9d3dd",
   "metadata": {},
   "outputs": [
    {
     "data": {
      "text/html": [
       "<div>\n",
       "<style scoped>\n",
       "    .dataframe tbody tr th:only-of-type {\n",
       "        vertical-align: middle;\n",
       "    }\n",
       "\n",
       "    .dataframe tbody tr th {\n",
       "        vertical-align: top;\n",
       "    }\n",
       "\n",
       "    .dataframe thead th {\n",
       "        text-align: right;\n",
       "    }\n",
       "</style>\n",
       "<table border=\"1\" class=\"dataframe\">\n",
       "  <thead>\n",
       "    <tr style=\"text-align: right;\">\n",
       "      <th></th>\n",
       "      <th>user_id</th>\n",
       "      <th>item_id</th>\n",
       "      <th>score</th>\n",
       "    </tr>\n",
       "  </thead>\n",
       "  <tbody>\n",
       "    <tr>\n",
       "      <th>0</th>\n",
       "      <td>3</td>\n",
       "      <td>68348390</td>\n",
       "      <td>0.009621</td>\n",
       "    </tr>\n",
       "    <tr>\n",
       "      <th>1</th>\n",
       "      <td>3</td>\n",
       "      <td>68348389</td>\n",
       "      <td>0.009436</td>\n",
       "    </tr>\n",
       "    <tr>\n",
       "      <th>2</th>\n",
       "      <td>3</td>\n",
       "      <td>68348391</td>\n",
       "      <td>0.008584</td>\n",
       "    </tr>\n",
       "    <tr>\n",
       "      <th>3</th>\n",
       "      <td>3</td>\n",
       "      <td>68878561</td>\n",
       "      <td>0.007992</td>\n",
       "    </tr>\n",
       "    <tr>\n",
       "      <th>4</th>\n",
       "      <td>3</td>\n",
       "      <td>68070362</td>\n",
       "      <td>0.007861</td>\n",
       "    </tr>\n",
       "  </tbody>\n",
       "</table>\n",
       "</div>"
      ],
      "text/plain": [
       "   user_id   item_id     score\n",
       "0        3  68348390  0.009621\n",
       "1        3  68348389  0.009436\n",
       "2        3  68348391  0.008584\n",
       "3        3  68878561  0.007992\n",
       "4        3  68070362  0.007861"
      ]
     },
     "execution_count": 19,
     "metadata": {},
     "output_type": "execute_result"
    }
   ],
   "source": [
    "als_recommendations = als_recommendations[[\"user_id\", \"item_id\", \"score\"]]\n",
    "als_recommendations.head(5)"
   ]
  },
  {
   "cell_type": "code",
   "execution_count": 20,
   "id": "a413a67e",
   "metadata": {},
   "outputs": [
    {
     "data": {
      "text/html": [
       "<div>\n",
       "<style scoped>\n",
       "    .dataframe tbody tr th:only-of-type {\n",
       "        vertical-align: middle;\n",
       "    }\n",
       "\n",
       "    .dataframe tbody tr th {\n",
       "        vertical-align: top;\n",
       "    }\n",
       "\n",
       "    .dataframe thead th {\n",
       "        text-align: right;\n",
       "    }\n",
       "</style>\n",
       "<table border=\"1\" class=\"dataframe\">\n",
       "  <thead>\n",
       "    <tr style=\"text-align: right;\">\n",
       "      <th></th>\n",
       "      <th>user_id</th>\n",
       "      <th>track_id</th>\n",
       "      <th>score</th>\n",
       "    </tr>\n",
       "  </thead>\n",
       "  <tbody>\n",
       "    <tr>\n",
       "      <th>0</th>\n",
       "      <td>3</td>\n",
       "      <td>68348390</td>\n",
       "      <td>0.009621</td>\n",
       "    </tr>\n",
       "    <tr>\n",
       "      <th>1</th>\n",
       "      <td>3</td>\n",
       "      <td>68348389</td>\n",
       "      <td>0.009436</td>\n",
       "    </tr>\n",
       "    <tr>\n",
       "      <th>2</th>\n",
       "      <td>3</td>\n",
       "      <td>68348391</td>\n",
       "      <td>0.008584</td>\n",
       "    </tr>\n",
       "    <tr>\n",
       "      <th>3</th>\n",
       "      <td>3</td>\n",
       "      <td>68878561</td>\n",
       "      <td>0.007992</td>\n",
       "    </tr>\n",
       "    <tr>\n",
       "      <th>4</th>\n",
       "      <td>3</td>\n",
       "      <td>68070362</td>\n",
       "      <td>0.007861</td>\n",
       "    </tr>\n",
       "  </tbody>\n",
       "</table>\n",
       "</div>"
      ],
      "text/plain": [
       "   user_id  track_id     score\n",
       "0        3  68348390  0.009621\n",
       "1        3  68348389  0.009436\n",
       "2        3  68348391  0.008584\n",
       "3        3  68878561  0.007992\n",
       "4        3  68070362  0.007861"
      ]
     },
     "execution_count": 20,
     "metadata": {},
     "output_type": "execute_result"
    }
   ],
   "source": [
    "als_recommendations = als_recommendations.rename(columns = {\"item_id\":\"track_id\"})\n",
    "als_recommendations.head(5)"
   ]
  },
  {
   "cell_type": "code",
   "execution_count": 21,
   "id": "8a1f6e33",
   "metadata": {},
   "outputs": [],
   "source": [
    "als_recommendations.to_parquet(\"./recsys/recommendations/personal_als.parquet\")"
   ]
  },
  {
   "cell_type": "code",
   "execution_count": 22,
   "id": "c7fd9308",
   "metadata": {},
   "outputs": [],
   "source": [
    "user_item_matrix_test = scipy.sparse.csr_matrix((\n",
    "    events_test[\"rating\"],\n",
    "    (events_test['user_id_enc'], events_test['track_id_enc'])),\n",
    "    dtype=np.int8)"
   ]
  },
  {
   "cell_type": "code",
   "execution_count": 23,
   "id": "97b357dd",
   "metadata": {},
   "outputs": [
    {
     "name": "stderr",
     "output_type": "stream",
     "text": [
      "100%|██████████| 50/50 [05:23<00:00,  6.47s/it]\n"
     ]
    }
   ],
   "source": [
    "als_model = AlternatingLeastSquares(factors=50, iterations=50, regularization=0.05, random_state=0)\n",
    "als_model.fit(user_item_matrix_test) "
   ]
  },
  {
   "cell_type": "code",
   "execution_count": 24,
   "id": "ef67f059",
   "metadata": {},
   "outputs": [],
   "source": [
    "user_ids_encoded = range(len(user_encoder.classes_))\n",
    "\n",
    "als_recommendations_test = als_model.recommend(\n",
    "    user_ids_encoded, \n",
    "    user_item_matrix_test[user_ids_encoded], \n",
    "    filter_already_liked_items=False, N=50)"
   ]
  },
  {
   "cell_type": "code",
   "execution_count": 25,
   "id": "5802cb4a",
   "metadata": {},
   "outputs": [],
   "source": [
    "item_ids_enc = als_recommendations_test[0]\n",
    "als_scores = als_recommendations_test[1]\n",
    "\n",
    "als_recommendations_test = pd.DataFrame({\n",
    "    \"user_id_enc\": user_ids_encoded,\n",
    "    \"track_id_enc\": item_ids_enc.tolist(), \n",
    "    \"score\": als_scores.tolist()})\n",
    "als_recommendations_test = als_recommendations_test.explode([\"track_id_enc\", \"score\"], ignore_index=True)\n",
    "\n",
    "als_recommendations_test[\"track_id_enc\"] = als_recommendations_test[\"track_id_enc\"].astype(\"int\")\n",
    "als_recommendations_test[\"score\"] = als_recommendations_test[\"score\"].astype(\"float\")\n",
    "\n",
    "als_recommendations_test[\"user_id\"] = user_encoder.inverse_transform(als_recommendations_test[\"user_id_enc\"])\n",
    "als_recommendations_test[\"track_id\"] = item_encoder.inverse_transform(als_recommendations_test[\"track_id_enc\"])\n",
    "als_recommendations_test = als_recommendations_test.drop(columns=[\"user_id_enc\", \"track_id_enc\"])"
   ]
  },
  {
   "cell_type": "code",
   "execution_count": 26,
   "id": "006cce17",
   "metadata": {},
   "outputs": [
    {
     "data": {
      "text/html": [
       "<div>\n",
       "<style scoped>\n",
       "    .dataframe tbody tr th:only-of-type {\n",
       "        vertical-align: middle;\n",
       "    }\n",
       "\n",
       "    .dataframe tbody tr th {\n",
       "        vertical-align: top;\n",
       "    }\n",
       "\n",
       "    .dataframe thead th {\n",
       "        text-align: right;\n",
       "    }\n",
       "</style>\n",
       "<table border=\"1\" class=\"dataframe\">\n",
       "  <thead>\n",
       "    <tr style=\"text-align: right;\">\n",
       "      <th></th>\n",
       "      <th>user_id</th>\n",
       "      <th>track_id</th>\n",
       "      <th>score</th>\n",
       "    </tr>\n",
       "  </thead>\n",
       "  <tbody>\n",
       "    <tr>\n",
       "      <th>0</th>\n",
       "      <td>3</td>\n",
       "      <td>78194999</td>\n",
       "      <td>0.008977</td>\n",
       "    </tr>\n",
       "    <tr>\n",
       "      <th>1</th>\n",
       "      <td>3</td>\n",
       "      <td>78426489</td>\n",
       "      <td>0.008427</td>\n",
       "    </tr>\n",
       "    <tr>\n",
       "      <th>2</th>\n",
       "      <td>3</td>\n",
       "      <td>76434671</td>\n",
       "      <td>0.008340</td>\n",
       "    </tr>\n",
       "    <tr>\n",
       "      <th>3</th>\n",
       "      <td>3</td>\n",
       "      <td>75642961</td>\n",
       "      <td>0.008131</td>\n",
       "    </tr>\n",
       "    <tr>\n",
       "      <th>4</th>\n",
       "      <td>3</td>\n",
       "      <td>75944934</td>\n",
       "      <td>0.007619</td>\n",
       "    </tr>\n",
       "  </tbody>\n",
       "</table>\n",
       "</div>"
      ],
      "text/plain": [
       "   user_id  track_id     score\n",
       "0        3  78194999  0.008977\n",
       "1        3  78426489  0.008427\n",
       "2        3  76434671  0.008340\n",
       "3        3  75642961  0.008131\n",
       "4        3  75944934  0.007619"
      ]
     },
     "execution_count": 26,
     "metadata": {},
     "output_type": "execute_result"
    }
   ],
   "source": [
    "als_recommendations_test = als_recommendations_test[[\"user_id\", \"track_id\", \"score\"]]\n",
    "als_recommendations_test.head(5)"
   ]
  },
  {
   "cell_type": "code",
   "execution_count": 27,
   "id": "0a128bd9",
   "metadata": {},
   "outputs": [],
   "source": [
    "als_recommendations_test.to_parquet(\"./recsys/recommendations/personal_als_test.parquet\")"
   ]
  },
  {
   "cell_type": "markdown",
   "id": "5f09dc7e-7c91-4355-860a-b9cfb9f33f15",
   "metadata": {},
   "source": [
    "# Похожие"
   ]
  },
  {
   "cell_type": "markdown",
   "id": "1dfcb683-b440-40a8-9975-894156a53872",
   "metadata": {},
   "source": [
    "Рассчитаем похожие, они позже пригодятся для онлайн-рекомендаций."
   ]
  },
  {
   "cell_type": "code",
   "execution_count": 28,
   "id": "a75d07ee-4b12-4ce5-aa85-e45cb7a7a4f0",
   "metadata": {},
   "outputs": [
    {
     "data": {
      "text/html": [
       "<div>\n",
       "<style scoped>\n",
       "    .dataframe tbody tr th:only-of-type {\n",
       "        vertical-align: middle;\n",
       "    }\n",
       "\n",
       "    .dataframe tbody tr th {\n",
       "        vertical-align: top;\n",
       "    }\n",
       "\n",
       "    .dataframe thead th {\n",
       "        text-align: right;\n",
       "    }\n",
       "</style>\n",
       "<table border=\"1\" class=\"dataframe\">\n",
       "  <thead>\n",
       "    <tr style=\"text-align: right;\">\n",
       "      <th></th>\n",
       "      <th>track_id_enc</th>\n",
       "      <th>sim_track_id_enc</th>\n",
       "      <th>score</th>\n",
       "    </tr>\n",
       "  </thead>\n",
       "  <tbody>\n",
       "    <tr>\n",
       "      <th>0</th>\n",
       "      <td>848375</td>\n",
       "      <td>[848375, 848371, 852166, 852160, 848374, 84836...</td>\n",
       "      <td>[1.0000001192092896, 0.9773719310760498, 0.975...</td>\n",
       "    </tr>\n",
       "    <tr>\n",
       "      <th>1</th>\n",
       "      <td>772727</td>\n",
       "      <td>[772727, 764538, 751972, 788802, 743508, 80316...</td>\n",
       "      <td>[1.0000001192092896, 0.9542165398597717, 0.948...</td>\n",
       "    </tr>\n",
       "    <tr>\n",
       "      <th>2</th>\n",
       "      <td>777786</td>\n",
       "      <td>[777786, 803097, 778942, 777407, 781163, 76830...</td>\n",
       "      <td>[1.0000001192092896, 0.9115850329399109, 0.904...</td>\n",
       "    </tr>\n",
       "    <tr>\n",
       "      <th>3</th>\n",
       "      <td>789238</td>\n",
       "      <td>[789238, 800184, 775428, 763018, 824124, 80838...</td>\n",
       "      <td>[0.9999999403953552, 0.9310317039489746, 0.929...</td>\n",
       "    </tr>\n",
       "    <tr>\n",
       "      <th>4</th>\n",
       "      <td>790871</td>\n",
       "      <td>[791695, 788943, 765579, 790871, 743267, 84163...</td>\n",
       "      <td>[1.0000001192092896, 1.0000001192092896, 1.000...</td>\n",
       "    </tr>\n",
       "    <tr>\n",
       "      <th>...</th>\n",
       "      <td>...</td>\n",
       "      <td>...</td>\n",
       "      <td>...</td>\n",
       "    </tr>\n",
       "    <tr>\n",
       "      <th>895114</th>\n",
       "      <td>146080</td>\n",
       "      <td>[10, 9, 8, 7, 6, 5, 4, 3, 2, 1, 0]</td>\n",
       "      <td>[0.0, 0.0, 0.0, 0.0, 0.0, 0.0, 0.0, 0.0, 0.0, ...</td>\n",
       "    </tr>\n",
       "    <tr>\n",
       "      <th>895115</th>\n",
       "      <td>183967</td>\n",
       "      <td>[126377, 415557, 991, 126389, 23958, 492592, 1...</td>\n",
       "      <td>[1.0000001192092896, 1.0, 1.0, 0.9999999403953...</td>\n",
       "    </tr>\n",
       "    <tr>\n",
       "      <th>895116</th>\n",
       "      <td>588187</td>\n",
       "      <td>[10, 9, 8, 7, 6, 5, 4, 3, 2, 1, 0]</td>\n",
       "      <td>[0.0, 0.0, 0.0, 0.0, 0.0, 0.0, 0.0, 0.0, 0.0, ...</td>\n",
       "    </tr>\n",
       "    <tr>\n",
       "      <th>895117</th>\n",
       "      <td>756515</td>\n",
       "      <td>[10, 9, 8, 7, 6, 5, 4, 3, 2, 1, 0]</td>\n",
       "      <td>[0.0, 0.0, 0.0, 0.0, 0.0, 0.0, 0.0, 0.0, 0.0, ...</td>\n",
       "    </tr>\n",
       "    <tr>\n",
       "      <th>895118</th>\n",
       "      <td>199932</td>\n",
       "      <td>[10, 9, 8, 7, 6, 5, 4, 3, 2, 1, 0]</td>\n",
       "      <td>[0.0, 0.0, 0.0, 0.0, 0.0, 0.0, 0.0, 0.0, 0.0, ...</td>\n",
       "    </tr>\n",
       "  </tbody>\n",
       "</table>\n",
       "<p>895119 rows × 3 columns</p>\n",
       "</div>"
      ],
      "text/plain": [
       "        track_id_enc                                   sim_track_id_enc  \\\n",
       "0             848375  [848375, 848371, 852166, 852160, 848374, 84836...   \n",
       "1             772727  [772727, 764538, 751972, 788802, 743508, 80316...   \n",
       "2             777786  [777786, 803097, 778942, 777407, 781163, 76830...   \n",
       "3             789238  [789238, 800184, 775428, 763018, 824124, 80838...   \n",
       "4             790871  [791695, 788943, 765579, 790871, 743267, 84163...   \n",
       "...              ...                                                ...   \n",
       "895114        146080                 [10, 9, 8, 7, 6, 5, 4, 3, 2, 1, 0]   \n",
       "895115        183967  [126377, 415557, 991, 126389, 23958, 492592, 1...   \n",
       "895116        588187                 [10, 9, 8, 7, 6, 5, 4, 3, 2, 1, 0]   \n",
       "895117        756515                 [10, 9, 8, 7, 6, 5, 4, 3, 2, 1, 0]   \n",
       "895118        199932                 [10, 9, 8, 7, 6, 5, 4, 3, 2, 1, 0]   \n",
       "\n",
       "                                                    score  \n",
       "0       [1.0000001192092896, 0.9773719310760498, 0.975...  \n",
       "1       [1.0000001192092896, 0.9542165398597717, 0.948...  \n",
       "2       [1.0000001192092896, 0.9115850329399109, 0.904...  \n",
       "3       [0.9999999403953552, 0.9310317039489746, 0.929...  \n",
       "4       [1.0000001192092896, 1.0000001192092896, 1.000...  \n",
       "...                                                   ...  \n",
       "895114  [0.0, 0.0, 0.0, 0.0, 0.0, 0.0, 0.0, 0.0, 0.0, ...  \n",
       "895115  [1.0000001192092896, 1.0, 1.0, 0.9999999403953...  \n",
       "895116  [0.0, 0.0, 0.0, 0.0, 0.0, 0.0, 0.0, 0.0, 0.0, ...  \n",
       "895117  [0.0, 0.0, 0.0, 0.0, 0.0, 0.0, 0.0, 0.0, 0.0, ...  \n",
       "895118  [0.0, 0.0, 0.0, 0.0, 0.0, 0.0, 0.0, 0.0, 0.0, ...  \n",
       "\n",
       "[895119 rows x 3 columns]"
      ]
     },
     "execution_count": 28,
     "metadata": {},
     "output_type": "execute_result"
    }
   ],
   "source": [
    "train_item_ids_enc = events_train['track_id_enc'].unique()\n",
    "\n",
    "max_similar_items = 10\n",
    "\n",
    "similar_items = als_model.similar_items(train_item_ids_enc, N=max_similar_items+1)\n",
    "\n",
    "sim_item_item_ids_enc = similar_items[0]\n",
    "sim_item_scores = similar_items[1]\n",
    "\n",
    "similar_items = pd.DataFrame({\n",
    "    \"track_id_enc\": train_item_ids_enc,\n",
    "    \"sim_track_id_enc\": sim_item_item_ids_enc.tolist(), \n",
    "    \"score\": sim_item_scores.tolist()})\n",
    "similar_items"
   ]
  },
  {
   "cell_type": "code",
   "execution_count": 29,
   "id": "ce370904-4c49-4152-8706-416074ea9b9a",
   "metadata": {},
   "outputs": [
    {
     "data": {
      "text/html": [
       "<div>\n",
       "<style scoped>\n",
       "    .dataframe tbody tr th:only-of-type {\n",
       "        vertical-align: middle;\n",
       "    }\n",
       "\n",
       "    .dataframe tbody tr th {\n",
       "        vertical-align: top;\n",
       "    }\n",
       "\n",
       "    .dataframe thead th {\n",
       "        text-align: right;\n",
       "    }\n",
       "</style>\n",
       "<table border=\"1\" class=\"dataframe\">\n",
       "  <thead>\n",
       "    <tr style=\"text-align: right;\">\n",
       "      <th></th>\n",
       "      <th>track_id_enc</th>\n",
       "      <th>sim_track_id_enc</th>\n",
       "      <th>score</th>\n",
       "    </tr>\n",
       "  </thead>\n",
       "  <tbody>\n",
       "    <tr>\n",
       "      <th>0</th>\n",
       "      <td>848375</td>\n",
       "      <td>848375</td>\n",
       "      <td>1.0</td>\n",
       "    </tr>\n",
       "    <tr>\n",
       "      <th>1</th>\n",
       "      <td>848375</td>\n",
       "      <td>848371</td>\n",
       "      <td>0.977372</td>\n",
       "    </tr>\n",
       "    <tr>\n",
       "      <th>2</th>\n",
       "      <td>848375</td>\n",
       "      <td>852166</td>\n",
       "      <td>0.975442</td>\n",
       "    </tr>\n",
       "    <tr>\n",
       "      <th>3</th>\n",
       "      <td>848375</td>\n",
       "      <td>852160</td>\n",
       "      <td>0.970236</td>\n",
       "    </tr>\n",
       "    <tr>\n",
       "      <th>4</th>\n",
       "      <td>848375</td>\n",
       "      <td>848374</td>\n",
       "      <td>0.96826</td>\n",
       "    </tr>\n",
       "  </tbody>\n",
       "</table>\n",
       "</div>"
      ],
      "text/plain": [
       "   track_id_enc sim_track_id_enc     score\n",
       "0        848375           848375       1.0\n",
       "1        848375           848371  0.977372\n",
       "2        848375           852166  0.975442\n",
       "3        848375           852160  0.970236\n",
       "4        848375           848374   0.96826"
      ]
     },
     "execution_count": 29,
     "metadata": {},
     "output_type": "execute_result"
    }
   ],
   "source": [
    "similar_items = similar_items.explode([\"sim_track_id_enc\", \"score\"], ignore_index=True)\n",
    "similar_items.head()"
   ]
  },
  {
   "cell_type": "code",
   "execution_count": 30,
   "id": "cae5d4cc",
   "metadata": {},
   "outputs": [
    {
     "data": {
      "text/html": [
       "<div>\n",
       "<style scoped>\n",
       "    .dataframe tbody tr th:only-of-type {\n",
       "        vertical-align: middle;\n",
       "    }\n",
       "\n",
       "    .dataframe tbody tr th {\n",
       "        vertical-align: top;\n",
       "    }\n",
       "\n",
       "    .dataframe thead th {\n",
       "        text-align: right;\n",
       "    }\n",
       "</style>\n",
       "<table border=\"1\" class=\"dataframe\">\n",
       "  <thead>\n",
       "    <tr style=\"text-align: right;\">\n",
       "      <th></th>\n",
       "      <th>track_id_enc</th>\n",
       "      <th>sim_track_id_enc</th>\n",
       "      <th>score</th>\n",
       "    </tr>\n",
       "  </thead>\n",
       "  <tbody>\n",
       "    <tr>\n",
       "      <th>0</th>\n",
       "      <td>848375</td>\n",
       "      <td>848375</td>\n",
       "      <td>1.000000</td>\n",
       "    </tr>\n",
       "    <tr>\n",
       "      <th>1</th>\n",
       "      <td>848375</td>\n",
       "      <td>848371</td>\n",
       "      <td>0.977372</td>\n",
       "    </tr>\n",
       "    <tr>\n",
       "      <th>2</th>\n",
       "      <td>848375</td>\n",
       "      <td>852166</td>\n",
       "      <td>0.975442</td>\n",
       "    </tr>\n",
       "    <tr>\n",
       "      <th>3</th>\n",
       "      <td>848375</td>\n",
       "      <td>852160</td>\n",
       "      <td>0.970236</td>\n",
       "    </tr>\n",
       "    <tr>\n",
       "      <th>4</th>\n",
       "      <td>848375</td>\n",
       "      <td>848374</td>\n",
       "      <td>0.968260</td>\n",
       "    </tr>\n",
       "  </tbody>\n",
       "</table>\n",
       "</div>"
      ],
      "text/plain": [
       "   track_id_enc  sim_track_id_enc     score\n",
       "0        848375            848375  1.000000\n",
       "1        848375            848371  0.977372\n",
       "2        848375            852166  0.975442\n",
       "3        848375            852160  0.970236\n",
       "4        848375            848374  0.968260"
      ]
     },
     "execution_count": 30,
     "metadata": {},
     "output_type": "execute_result"
    }
   ],
   "source": [
    "similar_items[\"sim_track_id_enc\"] = similar_items[\"sim_track_id_enc\"].astype(\"int\")\n",
    "similar_items[\"score\"] = similar_items[\"score\"].astype(\"float\")\n",
    "similar_items.head()"
   ]
  },
  {
   "cell_type": "code",
   "execution_count": 31,
   "id": "a70bd185",
   "metadata": {},
   "outputs": [
    {
     "data": {
      "text/html": [
       "<div>\n",
       "<style scoped>\n",
       "    .dataframe tbody tr th:only-of-type {\n",
       "        vertical-align: middle;\n",
       "    }\n",
       "\n",
       "    .dataframe tbody tr th {\n",
       "        vertical-align: top;\n",
       "    }\n",
       "\n",
       "    .dataframe thead th {\n",
       "        text-align: right;\n",
       "    }\n",
       "</style>\n",
       "<table border=\"1\" class=\"dataframe\">\n",
       "  <thead>\n",
       "    <tr style=\"text-align: right;\">\n",
       "      <th></th>\n",
       "      <th>score</th>\n",
       "      <th>track_id_1</th>\n",
       "      <th>track_id_2</th>\n",
       "    </tr>\n",
       "  </thead>\n",
       "  <tbody>\n",
       "    <tr>\n",
       "      <th>1</th>\n",
       "      <td>0.977372</td>\n",
       "      <td>68348391</td>\n",
       "      <td>68348387</td>\n",
       "    </tr>\n",
       "    <tr>\n",
       "      <th>2</th>\n",
       "      <td>0.975442</td>\n",
       "      <td>68348391</td>\n",
       "      <td>68878565</td>\n",
       "    </tr>\n",
       "    <tr>\n",
       "      <th>3</th>\n",
       "      <td>0.970236</td>\n",
       "      <td>68348391</td>\n",
       "      <td>68878539</td>\n",
       "    </tr>\n",
       "    <tr>\n",
       "      <th>4</th>\n",
       "      <td>0.968260</td>\n",
       "      <td>68348391</td>\n",
       "      <td>68348390</td>\n",
       "    </tr>\n",
       "    <tr>\n",
       "      <th>5</th>\n",
       "      <td>0.968010</td>\n",
       "      <td>68348391</td>\n",
       "      <td>68348384</td>\n",
       "    </tr>\n",
       "  </tbody>\n",
       "</table>\n",
       "</div>"
      ],
      "text/plain": [
       "      score  track_id_1  track_id_2\n",
       "1  0.977372    68348391    68348387\n",
       "2  0.975442    68348391    68878565\n",
       "3  0.970236    68348391    68878539\n",
       "4  0.968260    68348391    68348390\n",
       "5  0.968010    68348391    68348384"
      ]
     },
     "execution_count": 31,
     "metadata": {},
     "output_type": "execute_result"
    }
   ],
   "source": [
    "similar_items[\"track_id_1\"] = item_encoder.inverse_transform(similar_items[\"track_id_enc\"])\n",
    "similar_items[\"track_id_2\"] = item_encoder.inverse_transform(similar_items[\"sim_track_id_enc\"])\n",
    "similar_items = similar_items.drop(columns=[\"track_id_enc\", \"sim_track_id_enc\"])\n",
    "\n",
    "similar_items = similar_items.query(\"track_id_1 != track_id_2\")\n",
    "similar_items.head()"
   ]
  },
  {
   "cell_type": "markdown",
   "id": "e2eeb69e",
   "metadata": {},
   "source": [
    "<div class=\"alert alert-success\" style=\"border-radius: 15px; box-shadow: 4px 4px 4px; border: 1px solid \">\n",
    "<b> Комментарий ревьюера  ✔️</b>\n",
    "    \n",
    "Использование similar_items из ALS для расчета похожих треков полезно для дальнейших онлайн-рекомендаций, молодец!\n",
    "    \n",
    "Однако стоит добавить проверку на качество и надежность рекомендаций, так как неочевидные похожие треки могут снизить качество рекомендаций. Возможно, стоит оставить только те пары, у которых score выше определенного порога.</div>\n"
   ]
  },
  {
   "cell_type": "code",
   "execution_count": 32,
   "id": "fffd6c81",
   "metadata": {},
   "outputs": [],
   "source": [
    "similar_items.to_parquet(\"./recsys/recommendations/similar.parquet\")"
   ]
  },
  {
   "cell_type": "code",
   "execution_count": 33,
   "id": "6cd24615",
   "metadata": {},
   "outputs": [],
   "source": [
    "s3_client.upload_file('./recsys/recommendations/top_popular.parquet', S3_BUCKET_NAME, 'recsys/recommendations/top_popular.parquet')\n",
    "s3_client.upload_file('./recsys/recommendations/personal_als.parquet', S3_BUCKET_NAME, 'recsys/recommendations/personal_als.parquet')\n",
    "s3_client.upload_file('./recsys/recommendations/similar.parquet', S3_BUCKET_NAME, 'recsys/recommendations/similar.parquet')"
   ]
  },
  {
   "cell_type": "markdown",
   "id": "0087a3e7-ca9f-42cd-944c-944222c1baef",
   "metadata": {},
   "source": [
    "# Построение признаков"
   ]
  },
  {
   "cell_type": "markdown",
   "id": "e82a32e1-b90b-4eaf-9439-fc8deab9f34b",
   "metadata": {},
   "source": [
    "Построим три признака, можно больше, для ранжирующей модели."
   ]
  },
  {
   "cell_type": "code",
   "execution_count": 34,
   "id": "5e7e287c",
   "metadata": {},
   "outputs": [
    {
     "name": "stdout",
     "output_type": "stream",
     "text": [
      "<class 'pandas.core.frame.DataFrame'>\n",
      "RangeIndex: 58973600 entries, 0 to 58973599\n",
      "Data columns (total 3 columns):\n",
      " #   Column    Dtype  \n",
      "---  ------    -----  \n",
      " 0   user_id   int32  \n",
      " 1   track_id  int64  \n",
      " 2   score     float64\n",
      "dtypes: float64(1), int32(1), int64(1)\n",
      "memory usage: 1.1 GB\n"
     ]
    }
   ],
   "source": [
    "personal_als = pd.read_parquet(\"./recsys/recommendations/personal_als.parquet\")\n",
    "personal_als.info()"
   ]
  },
  {
   "cell_type": "code",
   "execution_count": 35,
   "id": "d6d5a44f",
   "metadata": {},
   "outputs": [
    {
     "name": "stdout",
     "output_type": "stream",
     "text": [
      "<class 'pandas.core.frame.DataFrame'>\n",
      "RangeIndex: 58973600 entries, 0 to 58973599\n",
      "Data columns (total 3 columns):\n",
      " #   Column    Dtype  \n",
      "---  ------    -----  \n",
      " 0   user_id   int32  \n",
      " 1   track_id  int64  \n",
      " 2   score     float64\n",
      "dtypes: float64(1), int32(1), int64(1)\n",
      "memory usage: 1.1 GB\n"
     ]
    }
   ],
   "source": [
    "personal_als_test = pd.read_parquet(\"./recsys/recommendations/personal_als_test.parquet\")\n",
    "personal_als_test.info()"
   ]
  },
  {
   "cell_type": "code",
   "execution_count": 36,
   "id": "00f84c35-f544-4c3d-ad53-9b1d2b684c75",
   "metadata": {},
   "outputs": [
    {
     "data": {
      "text/html": [
       "<div>\n",
       "<style scoped>\n",
       "    .dataframe tbody tr th:only-of-type {\n",
       "        vertical-align: middle;\n",
       "    }\n",
       "\n",
       "    .dataframe tbody tr th {\n",
       "        vertical-align: top;\n",
       "    }\n",
       "\n",
       "    .dataframe thead th {\n",
       "        text-align: right;\n",
       "    }\n",
       "</style>\n",
       "<table border=\"1\" class=\"dataframe\">\n",
       "  <thead>\n",
       "    <tr style=\"text-align: right;\">\n",
       "      <th></th>\n",
       "      <th>count_tracks</th>\n",
       "    </tr>\n",
       "    <tr>\n",
       "      <th>user_id</th>\n",
       "      <th></th>\n",
       "    </tr>\n",
       "  </thead>\n",
       "  <tbody>\n",
       "    <tr>\n",
       "      <th>3</th>\n",
       "      <td>1</td>\n",
       "    </tr>\n",
       "    <tr>\n",
       "      <th>4</th>\n",
       "      <td>47</td>\n",
       "    </tr>\n",
       "    <tr>\n",
       "      <th>5</th>\n",
       "      <td>17</td>\n",
       "    </tr>\n",
       "    <tr>\n",
       "      <th>7</th>\n",
       "      <td>10</td>\n",
       "    </tr>\n",
       "    <tr>\n",
       "      <th>9</th>\n",
       "      <td>22</td>\n",
       "    </tr>\n",
       "  </tbody>\n",
       "</table>\n",
       "</div>"
      ],
      "text/plain": [
       "         count_tracks\n",
       "user_id              \n",
       "3                   1\n",
       "4                  47\n",
       "5                  17\n",
       "7                  10\n",
       "9                  22"
      ]
     },
     "execution_count": 36,
     "metadata": {},
     "output_type": "execute_result"
    }
   ],
   "source": [
    "user_features = events_train.groupby(\"user_id\").agg(\n",
    "    count_tracks=(\"track_id\", \"count\"))\n",
    "user_features.head()"
   ]
  },
  {
   "cell_type": "code",
   "execution_count": 37,
   "id": "9eff5c10",
   "metadata": {},
   "outputs": [
    {
     "data": {
      "text/html": [
       "<div>\n",
       "<style scoped>\n",
       "    .dataframe tbody tr th:only-of-type {\n",
       "        vertical-align: middle;\n",
       "    }\n",
       "\n",
       "    .dataframe tbody tr th {\n",
       "        vertical-align: top;\n",
       "    }\n",
       "\n",
       "    .dataframe thead th {\n",
       "        text-align: right;\n",
       "    }\n",
       "</style>\n",
       "<table border=\"1\" class=\"dataframe\">\n",
       "  <thead>\n",
       "    <tr style=\"text-align: right;\">\n",
       "      <th></th>\n",
       "      <th>count_tracks</th>\n",
       "    </tr>\n",
       "    <tr>\n",
       "      <th>user_id</th>\n",
       "      <th></th>\n",
       "    </tr>\n",
       "  </thead>\n",
       "  <tbody>\n",
       "    <tr>\n",
       "      <th>3</th>\n",
       "      <td>1</td>\n",
       "    </tr>\n",
       "    <tr>\n",
       "      <th>4</th>\n",
       "      <td>12</td>\n",
       "    </tr>\n",
       "    <tr>\n",
       "      <th>5</th>\n",
       "      <td>4</td>\n",
       "    </tr>\n",
       "    <tr>\n",
       "      <th>7</th>\n",
       "      <td>3</td>\n",
       "    </tr>\n",
       "    <tr>\n",
       "      <th>9</th>\n",
       "      <td>7</td>\n",
       "    </tr>\n",
       "  </tbody>\n",
       "</table>\n",
       "</div>"
      ],
      "text/plain": [
       "         count_tracks\n",
       "user_id              \n",
       "3                   1\n",
       "4                  12\n",
       "5                   4\n",
       "7                   3\n",
       "9                   7"
      ]
     },
     "execution_count": 37,
     "metadata": {},
     "output_type": "execute_result"
    }
   ],
   "source": [
    "user_features_test = events_test.groupby(\"user_id\").agg(\n",
    "    count_tracks=(\"track_id\", \"count\"))\n",
    "user_features_test.head()"
   ]
  },
  {
   "cell_type": "code",
   "execution_count": 38,
   "id": "3631304c",
   "metadata": {},
   "outputs": [
    {
     "data": {
      "text/html": [
       "<div>\n",
       "<style scoped>\n",
       "    .dataframe tbody tr th:only-of-type {\n",
       "        vertical-align: middle;\n",
       "    }\n",
       "\n",
       "    .dataframe tbody tr th {\n",
       "        vertical-align: top;\n",
       "    }\n",
       "\n",
       "    .dataframe thead th {\n",
       "        text-align: right;\n",
       "    }\n",
       "</style>\n",
       "<table border=\"1\" class=\"dataframe\">\n",
       "  <thead>\n",
       "    <tr style=\"text-align: right;\">\n",
       "      <th></th>\n",
       "      <th>user_id</th>\n",
       "      <th>track_id</th>\n",
       "      <th>score</th>\n",
       "      <th>count_tracks</th>\n",
       "    </tr>\n",
       "  </thead>\n",
       "  <tbody>\n",
       "    <tr>\n",
       "      <th>0</th>\n",
       "      <td>3</td>\n",
       "      <td>78194999</td>\n",
       "      <td>0.008977</td>\n",
       "      <td>1.0</td>\n",
       "    </tr>\n",
       "    <tr>\n",
       "      <th>1</th>\n",
       "      <td>3</td>\n",
       "      <td>78426489</td>\n",
       "      <td>0.008427</td>\n",
       "      <td>1.0</td>\n",
       "    </tr>\n",
       "    <tr>\n",
       "      <th>2</th>\n",
       "      <td>3</td>\n",
       "      <td>76434671</td>\n",
       "      <td>0.008340</td>\n",
       "      <td>1.0</td>\n",
       "    </tr>\n",
       "    <tr>\n",
       "      <th>3</th>\n",
       "      <td>3</td>\n",
       "      <td>75642961</td>\n",
       "      <td>0.008131</td>\n",
       "      <td>1.0</td>\n",
       "    </tr>\n",
       "    <tr>\n",
       "      <th>4</th>\n",
       "      <td>3</td>\n",
       "      <td>75944934</td>\n",
       "      <td>0.007619</td>\n",
       "      <td>1.0</td>\n",
       "    </tr>\n",
       "  </tbody>\n",
       "</table>\n",
       "</div>"
      ],
      "text/plain": [
       "   user_id  track_id     score  count_tracks\n",
       "0        3  78194999  0.008977           1.0\n",
       "1        3  78426489  0.008427           1.0\n",
       "2        3  76434671  0.008340           1.0\n",
       "3        3  75642961  0.008131           1.0\n",
       "4        3  75944934  0.007619           1.0"
      ]
     },
     "execution_count": 38,
     "metadata": {},
     "output_type": "execute_result"
    }
   ],
   "source": [
    "candidates_for_test = personal_als_test.merge(user_features_test, on=\"user_id\", how=\"left\")\n",
    "candidates_for_test.head()"
   ]
  },
  {
   "cell_type": "code",
   "execution_count": 39,
   "id": "b5e1502b",
   "metadata": {},
   "outputs": [
    {
     "data": {
      "text/html": [
       "<div>\n",
       "<style scoped>\n",
       "    .dataframe tbody tr th:only-of-type {\n",
       "        vertical-align: middle;\n",
       "    }\n",
       "\n",
       "    .dataframe tbody tr th {\n",
       "        vertical-align: top;\n",
       "    }\n",
       "\n",
       "    .dataframe thead th {\n",
       "        text-align: right;\n",
       "    }\n",
       "</style>\n",
       "<table border=\"1\" class=\"dataframe\">\n",
       "  <thead>\n",
       "    <tr style=\"text-align: right;\">\n",
       "      <th></th>\n",
       "      <th>user_id</th>\n",
       "      <th>track_id</th>\n",
       "      <th>score</th>\n",
       "      <th>count_tracks</th>\n",
       "    </tr>\n",
       "  </thead>\n",
       "  <tbody>\n",
       "    <tr>\n",
       "      <th>0</th>\n",
       "      <td>3</td>\n",
       "      <td>68348390</td>\n",
       "      <td>0.009621</td>\n",
       "      <td>1.0</td>\n",
       "    </tr>\n",
       "    <tr>\n",
       "      <th>1</th>\n",
       "      <td>3</td>\n",
       "      <td>68348389</td>\n",
       "      <td>0.009436</td>\n",
       "      <td>1.0</td>\n",
       "    </tr>\n",
       "    <tr>\n",
       "      <th>2</th>\n",
       "      <td>3</td>\n",
       "      <td>68348391</td>\n",
       "      <td>0.008584</td>\n",
       "      <td>1.0</td>\n",
       "    </tr>\n",
       "    <tr>\n",
       "      <th>3</th>\n",
       "      <td>3</td>\n",
       "      <td>68878561</td>\n",
       "      <td>0.007992</td>\n",
       "      <td>1.0</td>\n",
       "    </tr>\n",
       "    <tr>\n",
       "      <th>4</th>\n",
       "      <td>3</td>\n",
       "      <td>68070362</td>\n",
       "      <td>0.007861</td>\n",
       "      <td>1.0</td>\n",
       "    </tr>\n",
       "  </tbody>\n",
       "</table>\n",
       "</div>"
      ],
      "text/plain": [
       "   user_id  track_id     score  count_tracks\n",
       "0        3  68348390  0.009621           1.0\n",
       "1        3  68348389  0.009436           1.0\n",
       "2        3  68348391  0.008584           1.0\n",
       "3        3  68878561  0.007992           1.0\n",
       "4        3  68070362  0.007861           1.0"
      ]
     },
     "execution_count": 39,
     "metadata": {},
     "output_type": "execute_result"
    }
   ],
   "source": [
    "candidates_for_train = personal_als.merge(user_features, on=\"user_id\", how=\"left\")\n",
    "candidates_for_train.head()"
   ]
  },
  {
   "cell_type": "code",
   "execution_count": 40,
   "id": "63d15a90",
   "metadata": {},
   "outputs": [
    {
     "data": {
      "text/html": [
       "<div>\n",
       "<style scoped>\n",
       "    .dataframe tbody tr th:only-of-type {\n",
       "        vertical-align: middle;\n",
       "    }\n",
       "\n",
       "    .dataframe tbody tr th {\n",
       "        vertical-align: top;\n",
       "    }\n",
       "\n",
       "    .dataframe thead th {\n",
       "        text-align: right;\n",
       "    }\n",
       "</style>\n",
       "<table border=\"1\" class=\"dataframe\">\n",
       "  <thead>\n",
       "    <tr style=\"text-align: right;\">\n",
       "      <th></th>\n",
       "      <th>id</th>\n",
       "      <th>genre_popularity</th>\n",
       "      <th>genre_name</th>\n",
       "      <th>genre_rank</th>\n",
       "    </tr>\n",
       "  </thead>\n",
       "  <tbody>\n",
       "    <tr>\n",
       "      <th>102</th>\n",
       "      <td>102</td>\n",
       "      <td>11969409.0</td>\n",
       "      <td>allrock</td>\n",
       "      <td>90.0</td>\n",
       "    </tr>\n",
       "    <tr>\n",
       "      <th>75</th>\n",
       "      <td>75</td>\n",
       "      <td>5128480.0</td>\n",
       "      <td>rap</td>\n",
       "      <td>89.0</td>\n",
       "    </tr>\n",
       "    <tr>\n",
       "      <th>54</th>\n",
       "      <td>54</td>\n",
       "      <td>2659230.0</td>\n",
       "      <td>posthardcore</td>\n",
       "      <td>88.0</td>\n",
       "    </tr>\n",
       "    <tr>\n",
       "      <th>77</th>\n",
       "      <td>77</td>\n",
       "      <td>1181875.0</td>\n",
       "      <td>education</td>\n",
       "      <td>87.0</td>\n",
       "    </tr>\n",
       "    <tr>\n",
       "      <th>50</th>\n",
       "      <td>50</td>\n",
       "      <td>1128816.0</td>\n",
       "      <td>punk</td>\n",
       "      <td>86.0</td>\n",
       "    </tr>\n",
       "    <tr>\n",
       "      <th>...</th>\n",
       "      <td>...</td>\n",
       "      <td>...</td>\n",
       "      <td>...</td>\n",
       "      <td>...</td>\n",
       "    </tr>\n",
       "    <tr>\n",
       "      <th>72</th>\n",
       "      <td>72</td>\n",
       "      <td>0.0</td>\n",
       "      <td>business</td>\n",
       "      <td>1.0</td>\n",
       "    </tr>\n",
       "    <tr>\n",
       "      <th>71</th>\n",
       "      <td>71</td>\n",
       "      <td>0.0</td>\n",
       "      <td>arts</td>\n",
       "      <td>1.0</td>\n",
       "    </tr>\n",
       "    <tr>\n",
       "      <th>70</th>\n",
       "      <td>70</td>\n",
       "      <td>0.0</td>\n",
       "      <td>indie</td>\n",
       "      <td>1.0</td>\n",
       "    </tr>\n",
       "    <tr>\n",
       "      <th>69</th>\n",
       "      <td>69</td>\n",
       "      <td>0.0</td>\n",
       "      <td>classicalmusic</td>\n",
       "      <td>1.0</td>\n",
       "    </tr>\n",
       "    <tr>\n",
       "      <th>57</th>\n",
       "      <td>57</td>\n",
       "      <td>0.0</td>\n",
       "      <td>argentinetango</td>\n",
       "      <td>1.0</td>\n",
       "    </tr>\n",
       "  </tbody>\n",
       "</table>\n",
       "<p>166 rows × 4 columns</p>\n",
       "</div>"
      ],
      "text/plain": [
       "      id  genre_popularity      genre_name  genre_rank\n",
       "102  102        11969409.0         allrock        90.0\n",
       "75    75         5128480.0             rap        89.0\n",
       "54    54         2659230.0    posthardcore        88.0\n",
       "77    77         1181875.0       education        87.0\n",
       "50    50         1128816.0            punk        86.0\n",
       "..   ...               ...             ...         ...\n",
       "72    72               0.0        business         1.0\n",
       "71    71               0.0            arts         1.0\n",
       "70    70               0.0           indie         1.0\n",
       "69    69               0.0  classicalmusic         1.0\n",
       "57    57               0.0  argentinetango         1.0\n",
       "\n",
       "[166 rows x 4 columns]"
      ]
     },
     "execution_count": 40,
     "metadata": {},
     "output_type": "execute_result"
    }
   ],
   "source": [
    "genre_popularity['genre_rank'] = genre_popularity['genre_popularity'].rank(method='dense', ascending=True)\n",
    "genre_popularity.sort_values(by=\"genre_rank\",ascending=False)"
   ]
  },
  {
   "cell_type": "code",
   "execution_count": 41,
   "id": "cf0b3482",
   "metadata": {},
   "outputs": [
    {
     "data": {
      "text/html": [
       "<div>\n",
       "<style scoped>\n",
       "    .dataframe tbody tr th:only-of-type {\n",
       "        vertical-align: middle;\n",
       "    }\n",
       "\n",
       "    .dataframe tbody tr th {\n",
       "        vertical-align: top;\n",
       "    }\n",
       "\n",
       "    .dataframe thead th {\n",
       "        text-align: right;\n",
       "    }\n",
       "</style>\n",
       "<table border=\"1\" class=\"dataframe\">\n",
       "  <thead>\n",
       "    <tr style=\"text-align: right;\">\n",
       "      <th></th>\n",
       "      <th>genre_rank</th>\n",
       "    </tr>\n",
       "  </thead>\n",
       "  <tbody>\n",
       "    <tr>\n",
       "      <th>0</th>\n",
       "      <td>1.0</td>\n",
       "    </tr>\n",
       "    <tr>\n",
       "      <th>1</th>\n",
       "      <td>1.0</td>\n",
       "    </tr>\n",
       "    <tr>\n",
       "      <th>2</th>\n",
       "      <td>1.0</td>\n",
       "    </tr>\n",
       "    <tr>\n",
       "      <th>3</th>\n",
       "      <td>1.0</td>\n",
       "    </tr>\n",
       "    <tr>\n",
       "      <th>4</th>\n",
       "      <td>1.0</td>\n",
       "    </tr>\n",
       "  </tbody>\n",
       "</table>\n",
       "</div>"
      ],
      "text/plain": [
       "   genre_rank\n",
       "0         1.0\n",
       "1         1.0\n",
       "2         1.0\n",
       "3         1.0\n",
       "4         1.0"
      ]
     },
     "execution_count": 41,
     "metadata": {},
     "output_type": "execute_result"
    }
   ],
   "source": [
    "genre_features = genre_popularity.drop(columns=['id','genre_popularity','genre_name'])\n",
    "genre_features.head()"
   ]
  },
  {
   "cell_type": "code",
   "execution_count": null,
   "id": "3ff49a1f",
   "metadata": {},
   "outputs": [],
   "source": [
    "items['genre_rank'] = np.NAN\n",
    "for k,item in items['genres'].items():\n",
    "    pop = 0\n",
    "    for i in range(len(item)):\n",
    "        for k_a, i_a in genre_features.items():\n",
    "            if item[i] in i_a.keys():\n",
    "                if pop <= i_a[item[i]]:\n",
    "                    pop = i_a[item[i]]\n",
    "    items['genre_rank'][k] = pop "
   ]
  },
  {
   "cell_type": "code",
   "execution_count": 43,
   "id": "d9afb52d",
   "metadata": {},
   "outputs": [
    {
     "data": {
      "text/html": [
       "<div>\n",
       "<style scoped>\n",
       "    .dataframe tbody tr th:only-of-type {\n",
       "        vertical-align: middle;\n",
       "    }\n",
       "\n",
       "    .dataframe tbody tr th {\n",
       "        vertical-align: top;\n",
       "    }\n",
       "\n",
       "    .dataframe thead th {\n",
       "        text-align: right;\n",
       "    }\n",
       "</style>\n",
       "<table border=\"1\" class=\"dataframe\">\n",
       "  <thead>\n",
       "    <tr style=\"text-align: right;\">\n",
       "      <th></th>\n",
       "      <th>user_id</th>\n",
       "      <th>track_id</th>\n",
       "      <th>score</th>\n",
       "      <th>count_tracks</th>\n",
       "      <th>genre_rank</th>\n",
       "    </tr>\n",
       "  </thead>\n",
       "  <tbody>\n",
       "    <tr>\n",
       "      <th>0</th>\n",
       "      <td>3</td>\n",
       "      <td>68348390</td>\n",
       "      <td>0.009621</td>\n",
       "      <td>1.0</td>\n",
       "      <td>89.0</td>\n",
       "    </tr>\n",
       "    <tr>\n",
       "      <th>1</th>\n",
       "      <td>3</td>\n",
       "      <td>68348389</td>\n",
       "      <td>0.009436</td>\n",
       "      <td>1.0</td>\n",
       "      <td>89.0</td>\n",
       "    </tr>\n",
       "    <tr>\n",
       "      <th>2</th>\n",
       "      <td>3</td>\n",
       "      <td>68348391</td>\n",
       "      <td>0.008584</td>\n",
       "      <td>1.0</td>\n",
       "      <td>89.0</td>\n",
       "    </tr>\n",
       "    <tr>\n",
       "      <th>3</th>\n",
       "      <td>3</td>\n",
       "      <td>68878561</td>\n",
       "      <td>0.007992</td>\n",
       "      <td>1.0</td>\n",
       "      <td>89.0</td>\n",
       "    </tr>\n",
       "    <tr>\n",
       "      <th>4</th>\n",
       "      <td>3</td>\n",
       "      <td>68070362</td>\n",
       "      <td>0.007861</td>\n",
       "      <td>1.0</td>\n",
       "      <td>89.0</td>\n",
       "    </tr>\n",
       "  </tbody>\n",
       "</table>\n",
       "</div>"
      ],
      "text/plain": [
       "   user_id  track_id     score  count_tracks  genre_rank\n",
       "0        3  68348390  0.009621           1.0        89.0\n",
       "1        3  68348389  0.009436           1.0        89.0\n",
       "2        3  68348391  0.008584           1.0        89.0\n",
       "3        3  68878561  0.007992           1.0        89.0\n",
       "4        3  68070362  0.007861           1.0        89.0"
      ]
     },
     "execution_count": 43,
     "metadata": {},
     "output_type": "execute_result"
    }
   ],
   "source": [
    "candidates_for_train = candidates_for_train.merge(items[['track_id','genre_rank']], on=\"track_id\", how=\"left\")\n",
    "candidates_for_train.head()"
   ]
  },
  {
   "cell_type": "code",
   "execution_count": 44,
   "id": "450a88c9",
   "metadata": {},
   "outputs": [
    {
     "data": {
      "text/html": [
       "<div>\n",
       "<style scoped>\n",
       "    .dataframe tbody tr th:only-of-type {\n",
       "        vertical-align: middle;\n",
       "    }\n",
       "\n",
       "    .dataframe tbody tr th {\n",
       "        vertical-align: top;\n",
       "    }\n",
       "\n",
       "    .dataframe thead th {\n",
       "        text-align: right;\n",
       "    }\n",
       "</style>\n",
       "<table border=\"1\" class=\"dataframe\">\n",
       "  <thead>\n",
       "    <tr style=\"text-align: right;\">\n",
       "      <th></th>\n",
       "      <th>user_id</th>\n",
       "      <th>track_id</th>\n",
       "      <th>score</th>\n",
       "      <th>count_tracks</th>\n",
       "      <th>genre_rank</th>\n",
       "    </tr>\n",
       "  </thead>\n",
       "  <tbody>\n",
       "    <tr>\n",
       "      <th>0</th>\n",
       "      <td>3</td>\n",
       "      <td>78194999</td>\n",
       "      <td>0.008977</td>\n",
       "      <td>1.0</td>\n",
       "      <td>89.0</td>\n",
       "    </tr>\n",
       "    <tr>\n",
       "      <th>1</th>\n",
       "      <td>3</td>\n",
       "      <td>78426489</td>\n",
       "      <td>0.008427</td>\n",
       "      <td>1.0</td>\n",
       "      <td>1.0</td>\n",
       "    </tr>\n",
       "    <tr>\n",
       "      <th>2</th>\n",
       "      <td>3</td>\n",
       "      <td>76434671</td>\n",
       "      <td>0.008340</td>\n",
       "      <td>1.0</td>\n",
       "      <td>1.0</td>\n",
       "    </tr>\n",
       "    <tr>\n",
       "      <th>3</th>\n",
       "      <td>3</td>\n",
       "      <td>75642961</td>\n",
       "      <td>0.008131</td>\n",
       "      <td>1.0</td>\n",
       "      <td>83.0</td>\n",
       "    </tr>\n",
       "    <tr>\n",
       "      <th>4</th>\n",
       "      <td>3</td>\n",
       "      <td>75944934</td>\n",
       "      <td>0.007619</td>\n",
       "      <td>1.0</td>\n",
       "      <td>89.0</td>\n",
       "    </tr>\n",
       "  </tbody>\n",
       "</table>\n",
       "</div>"
      ],
      "text/plain": [
       "   user_id  track_id     score  count_tracks  genre_rank\n",
       "0        3  78194999  0.008977           1.0        89.0\n",
       "1        3  78426489  0.008427           1.0         1.0\n",
       "2        3  76434671  0.008340           1.0         1.0\n",
       "3        3  75642961  0.008131           1.0        83.0\n",
       "4        3  75944934  0.007619           1.0        89.0"
      ]
     },
     "execution_count": 44,
     "metadata": {},
     "output_type": "execute_result"
    }
   ],
   "source": [
    "candidates_for_test = candidates_for_test.merge(items[['track_id','genre_rank']], on=\"track_id\", how=\"left\")\n",
    "candidates_for_test.head()"
   ]
  },
  {
   "cell_type": "code",
   "execution_count": 45,
   "id": "a490a127",
   "metadata": {},
   "outputs": [],
   "source": [
    "candidates_for_test.to_parquet(\"./recsys/recommendations/candidates_for_test.parquet\")\n",
    "candidates_for_train.to_parquet(\"./recsys/recommendations/candidates_for_train.parquet\")"
   ]
  },
  {
   "cell_type": "code",
   "execution_count": 8,
   "id": "f01f9f5b",
   "metadata": {},
   "outputs": [],
   "source": [
    "candidates_for_train = pd.read_parquet(\"./recsys/recommendations/candidates_for_train.parquet\")"
   ]
  },
  {
   "cell_type": "markdown",
   "id": "36d4f818",
   "metadata": {},
   "source": [
    "Признаки: Количество прослушаных треков у пользователя, als_score и пополярность жанра (если у трека два жанра, то выбирается большая)"
   ]
  },
  {
   "cell_type": "markdown",
   "id": "528616e1",
   "metadata": {},
   "source": [
    "<div class=\"alert alert-warning\" style=\"border-radius: 15px; box-shadow: 4px 4px 4px; border: 1px solid \">\n",
    "<b> Комментарий ревьюера  ⚠️</b>\n",
    "    \n",
    "Рекомендуется добавить больше подробностей по использованию этих признаков в дальнейшем, чтобы было ясно, как именно эти данные будут способствовать ранжированию.\n",
    "</div>\n"
   ]
  },
  {
   "cell_type": "markdown",
   "id": "47bcf88d-b236-46f0-a6f3-38ddd64895fe",
   "metadata": {},
   "source": [
    "# Ранжирование рекомендаций"
   ]
  },
  {
   "cell_type": "markdown",
   "id": "e8cd8223-3418-4493-8c87-1f76286ebda0",
   "metadata": {},
   "source": [
    "Построим ранжирующую модель, чтобы сделать рекомендации более точными. Отранжируем рекомендации."
   ]
  },
  {
   "cell_type": "code",
   "execution_count": 6,
   "id": "79f1dd92-32a9-463d-827e-8bb9ee5bbb54",
   "metadata": {},
   "outputs": [
    {
     "name": "stderr",
     "output_type": "stream",
     "text": [
      "/tmp/ipykernel_4786/1735681661.py:1: SettingWithCopyWarning: \n",
      "A value is trying to be set on a copy of a slice from a DataFrame.\n",
      "Try using .loc[row_indexer,col_indexer] = value instead\n",
      "\n",
      "See the caveats in the documentation: https://pandas.pydata.org/pandas-docs/stable/user_guide/indexing.html#returning-a-view-versus-a-copy\n",
      "  events_train[\"target\"] = 1\n"
     ]
    },
    {
     "data": {
      "text/html": [
       "<div>\n",
       "<style scoped>\n",
       "    .dataframe tbody tr th:only-of-type {\n",
       "        vertical-align: middle;\n",
       "    }\n",
       "\n",
       "    .dataframe tbody tr th {\n",
       "        vertical-align: top;\n",
       "    }\n",
       "\n",
       "    .dataframe thead th {\n",
       "        text-align: right;\n",
       "    }\n",
       "</style>\n",
       "<table border=\"1\" class=\"dataframe\">\n",
       "  <thead>\n",
       "    <tr style=\"text-align: right;\">\n",
       "      <th></th>\n",
       "      <th>user_id</th>\n",
       "      <th>track_id</th>\n",
       "      <th>track_seq</th>\n",
       "      <th>started_at</th>\n",
       "      <th>rating</th>\n",
       "      <th>target</th>\n",
       "    </tr>\n",
       "  </thead>\n",
       "  <tbody>\n",
       "    <tr>\n",
       "      <th>31</th>\n",
       "      <td>3</td>\n",
       "      <td>68348391</td>\n",
       "      <td>32</td>\n",
       "      <td>2022-12-14</td>\n",
       "      <td>2.0</td>\n",
       "      <td>1</td>\n",
       "    </tr>\n",
       "    <tr>\n",
       "      <th>197</th>\n",
       "      <td>4</td>\n",
       "      <td>59535907</td>\n",
       "      <td>198</td>\n",
       "      <td>2022-11-03</td>\n",
       "      <td>59.0</td>\n",
       "      <td>1</td>\n",
       "    </tr>\n",
       "    <tr>\n",
       "      <th>198</th>\n",
       "      <td>4</td>\n",
       "      <td>60102026</td>\n",
       "      <td>199</td>\n",
       "      <td>2022-11-03</td>\n",
       "      <td>58.0</td>\n",
       "      <td>1</td>\n",
       "    </tr>\n",
       "    <tr>\n",
       "      <th>199</th>\n",
       "      <td>4</td>\n",
       "      <td>61424101</td>\n",
       "      <td>200</td>\n",
       "      <td>2022-11-03</td>\n",
       "      <td>57.0</td>\n",
       "      <td>1</td>\n",
       "    </tr>\n",
       "    <tr>\n",
       "      <th>200</th>\n",
       "      <td>4</td>\n",
       "      <td>61619676</td>\n",
       "      <td>201</td>\n",
       "      <td>2022-11-05</td>\n",
       "      <td>56.0</td>\n",
       "      <td>1</td>\n",
       "    </tr>\n",
       "  </tbody>\n",
       "</table>\n",
       "</div>"
      ],
      "text/plain": [
       "     user_id  track_id  track_seq  started_at  rating  target\n",
       "31         3  68348391         32  2022-12-14     2.0       1\n",
       "197        4  59535907        198  2022-11-03    59.0       1\n",
       "198        4  60102026        199  2022-11-03    58.0       1\n",
       "199        4  61424101        200  2022-11-03    57.0       1\n",
       "200        4  61619676        201  2022-11-05    56.0       1"
      ]
     },
     "execution_count": 6,
     "metadata": {},
     "output_type": "execute_result"
    }
   ],
   "source": [
    "events_train[\"target\"] = 1\n",
    "events_train.head()"
   ]
  },
  {
   "cell_type": "code",
   "execution_count": 9,
   "id": "d6e38245",
   "metadata": {},
   "outputs": [
    {
     "data": {
      "text/html": [
       "<div>\n",
       "<style scoped>\n",
       "    .dataframe tbody tr th:only-of-type {\n",
       "        vertical-align: middle;\n",
       "    }\n",
       "\n",
       "    .dataframe tbody tr th {\n",
       "        vertical-align: top;\n",
       "    }\n",
       "\n",
       "    .dataframe thead th {\n",
       "        text-align: right;\n",
       "    }\n",
       "</style>\n",
       "<table border=\"1\" class=\"dataframe\">\n",
       "  <thead>\n",
       "    <tr style=\"text-align: right;\">\n",
       "      <th></th>\n",
       "      <th>user_id</th>\n",
       "      <th>track_id</th>\n",
       "      <th>score</th>\n",
       "      <th>count_tracks</th>\n",
       "      <th>genre_rank</th>\n",
       "      <th>target</th>\n",
       "    </tr>\n",
       "  </thead>\n",
       "  <tbody>\n",
       "    <tr>\n",
       "      <th>0</th>\n",
       "      <td>3</td>\n",
       "      <td>68348390</td>\n",
       "      <td>0.009621</td>\n",
       "      <td>1.0</td>\n",
       "      <td>89.0</td>\n",
       "      <td>NaN</td>\n",
       "    </tr>\n",
       "    <tr>\n",
       "      <th>1</th>\n",
       "      <td>3</td>\n",
       "      <td>68348389</td>\n",
       "      <td>0.009436</td>\n",
       "      <td>1.0</td>\n",
       "      <td>89.0</td>\n",
       "      <td>NaN</td>\n",
       "    </tr>\n",
       "    <tr>\n",
       "      <th>2</th>\n",
       "      <td>3</td>\n",
       "      <td>68348391</td>\n",
       "      <td>0.008584</td>\n",
       "      <td>1.0</td>\n",
       "      <td>89.0</td>\n",
       "      <td>1.0</td>\n",
       "    </tr>\n",
       "    <tr>\n",
       "      <th>3</th>\n",
       "      <td>3</td>\n",
       "      <td>68878561</td>\n",
       "      <td>0.007992</td>\n",
       "      <td>1.0</td>\n",
       "      <td>89.0</td>\n",
       "      <td>NaN</td>\n",
       "    </tr>\n",
       "    <tr>\n",
       "      <th>4</th>\n",
       "      <td>3</td>\n",
       "      <td>68070362</td>\n",
       "      <td>0.007861</td>\n",
       "      <td>1.0</td>\n",
       "      <td>89.0</td>\n",
       "      <td>NaN</td>\n",
       "    </tr>\n",
       "  </tbody>\n",
       "</table>\n",
       "</div>"
      ],
      "text/plain": [
       "   user_id  track_id     score  count_tracks  genre_rank  target\n",
       "0        3  68348390  0.009621           1.0        89.0     NaN\n",
       "1        3  68348389  0.009436           1.0        89.0     NaN\n",
       "2        3  68348391  0.008584           1.0        89.0     1.0\n",
       "3        3  68878561  0.007992           1.0        89.0     NaN\n",
       "4        3  68070362  0.007861           1.0        89.0     NaN"
      ]
     },
     "execution_count": 9,
     "metadata": {},
     "output_type": "execute_result"
    }
   ],
   "source": [
    "candidates_for_train = candidates_for_train.merge(events_train[[\"user_id\", \"track_id\", \"target\"]],\n",
    "                              on=['user_id','track_id'], \n",
    "                              how=\"left\")\n",
    "candidates_for_train.head()"
   ]
  },
  {
   "cell_type": "code",
   "execution_count": 10,
   "id": "ede5cc05",
   "metadata": {},
   "outputs": [],
   "source": [
    "candidates_for_train[\"target\"] = candidates_for_train[\"target\"].fillna(0).astype(\"int\")"
   ]
  },
  {
   "cell_type": "code",
   "execution_count": 11,
   "id": "34b1c755",
   "metadata": {},
   "outputs": [],
   "source": [
    "candidates_for_train = candidates_for_train.groupby(\"user_id\").filter(lambda x: x[\"target\"].sum() > 0)"
   ]
  },
  {
   "cell_type": "code",
   "execution_count": 12,
   "id": "9189183d",
   "metadata": {},
   "outputs": [],
   "source": [
    "candidates_for_train.to_parquet(\"./recsys/recommendations/candidates_for_train.parquet\")"
   ]
  },
  {
   "cell_type": "code",
   "execution_count": 3,
   "id": "63523ee5",
   "metadata": {},
   "outputs": [
    {
     "name": "stdout",
     "output_type": "stream",
     "text": [
      "<class 'pandas.core.frame.DataFrame'>\n",
      "Index: 51213750 entries, 0 to 58973599\n",
      "Data columns (total 6 columns):\n",
      " #   Column        Dtype  \n",
      "---  ------        -----  \n",
      " 0   user_id       int32  \n",
      " 1   track_id      int64  \n",
      " 2   score         float64\n",
      " 3   count_tracks  float64\n",
      " 4   genre_rank    float64\n",
      " 5   target        int64  \n",
      "dtypes: float64(3), int32(1), int64(2)\n",
      "memory usage: 2.5 GB\n"
     ]
    }
   ],
   "source": [
    "candidates_for_train = pd.read_parquet(\"./recsys/recommendations/candidates_for_train.parquet\")\n",
    "candidates_for_train.info()"
   ]
  },
  {
   "cell_type": "code",
   "execution_count": 4,
   "id": "6dbe4db4-1ac5-44da-a13c-8e7f9768ab73",
   "metadata": {},
   "outputs": [
    {
     "name": "stdout",
     "output_type": "stream",
     "text": [
      "0:\tlearn: 0.5950044\ttotal: 4.37s\tremaining: 14m 29s\n",
      "100:\tlearn: 0.3219332\ttotal: 6m 9s\tremaining: 6m 1s\n",
      "199:\tlearn: 0.3215186\ttotal: 11m 57s\tremaining: 0us\n"
     ]
    },
    {
     "data": {
      "text/plain": [
       "<catboost.core.CatBoostClassifier at 0x7f246032a680>"
      ]
     },
     "execution_count": 4,
     "metadata": {},
     "output_type": "execute_result"
    }
   ],
   "source": [
    "features = ['score', 'count_tracks', 'genre_rank']\n",
    "target = 'target'\n",
    "\n",
    "train_data = Pool(\n",
    "    data=candidates_for_train[features], \n",
    "    label=candidates_for_train[target])\n",
    "\n",
    "cb_model = CatBoostClassifier(\n",
    "    iterations=200,\n",
    "    learning_rate=0.1,\n",
    "    depth=6,\n",
    "    loss_function='Logloss',\n",
    "    verbose=100,\n",
    "    random_seed=0,\n",
    ")\n",
    "\n",
    "cb_model.fit(train_data) "
   ]
  },
  {
   "cell_type": "code",
   "execution_count": 5,
   "id": "9fff442f",
   "metadata": {},
   "outputs": [],
   "source": [
    "candidates_for_test = pd.read_parquet(\"./recsys/recommendations/candidates_for_test.parquet\")"
   ]
  },
  {
   "cell_type": "code",
   "execution_count": 6,
   "id": "4e44ec95",
   "metadata": {},
   "outputs": [],
   "source": [
    "inference_data = Pool(data=candidates_for_test[features])\n",
    "predictions = cb_model.predict_proba(inference_data)\n",
    "\n",
    "candidates_for_test[\"cb_score\"] = predictions[:, 1]\n",
    "\n",
    "candidates_for_test = candidates_for_test.sort_values([\"user_id\", \"cb_score\"], ascending=[True, False])\n",
    "candidates_for_test[\"rank\"] = candidates_for_test.groupby(\"user_id\")['cb_score'].rank(method='dense', ascending=False)\n",
    "candidates_for_test['rank'] = np.where(candidates_for_test['rank'] > 100, 100, candidates_for_test['rank'])\n",
    "\n",
    "max_recommendations_per_user = 100\n",
    "final_recommendations = candidates_for_test\\\n",
    "        .groupby(\"user_id\") \\\n",
    "        .head(100)"
   ]
  },
  {
   "cell_type": "code",
   "execution_count": 7,
   "id": "a1eb24d9",
   "metadata": {},
   "outputs": [],
   "source": [
    "final_recommendations.to_parquet(\"./recsys/recommendations/recommendations.parquet\")"
   ]
  },
  {
   "cell_type": "code",
   "execution_count": 66,
   "id": "d046f692",
   "metadata": {},
   "outputs": [],
   "source": [
    "s3_client.upload_file('./recsys/recommendations/recommendations.parquet', S3_BUCKET_NAME, 'recsys/recommendations/recommendations.parquet')"
   ]
  },
  {
   "cell_type": "code",
   "execution_count": 8,
   "id": "16e4e942",
   "metadata": {},
   "outputs": [
    {
     "data": {
      "text/html": [
       "<div>\n",
       "<style scoped>\n",
       "    .dataframe tbody tr th:only-of-type {\n",
       "        vertical-align: middle;\n",
       "    }\n",
       "\n",
       "    .dataframe tbody tr th {\n",
       "        vertical-align: top;\n",
       "    }\n",
       "\n",
       "    .dataframe thead th {\n",
       "        text-align: right;\n",
       "    }\n",
       "</style>\n",
       "<table border=\"1\" class=\"dataframe\">\n",
       "  <thead>\n",
       "    <tr style=\"text-align: right;\">\n",
       "      <th></th>\n",
       "      <th>user_id</th>\n",
       "      <th>track_id</th>\n",
       "      <th>score</th>\n",
       "      <th>count_tracks</th>\n",
       "      <th>genre_rank</th>\n",
       "      <th>cb_score</th>\n",
       "      <th>rank</th>\n",
       "    </tr>\n",
       "  </thead>\n",
       "  <tbody>\n",
       "    <tr>\n",
       "      <th>0</th>\n",
       "      <td>3</td>\n",
       "      <td>78194999</td>\n",
       "      <td>0.008977</td>\n",
       "      <td>1.0</td>\n",
       "      <td>89.0</td>\n",
       "      <td>0.031185</td>\n",
       "      <td>1.0</td>\n",
       "    </tr>\n",
       "    <tr>\n",
       "      <th>4</th>\n",
       "      <td>3</td>\n",
       "      <td>75944934</td>\n",
       "      <td>0.007619</td>\n",
       "      <td>1.0</td>\n",
       "      <td>89.0</td>\n",
       "      <td>0.029039</td>\n",
       "      <td>2.0</td>\n",
       "    </tr>\n",
       "    <tr>\n",
       "      <th>7</th>\n",
       "      <td>3</td>\n",
       "      <td>84382282</td>\n",
       "      <td>0.007052</td>\n",
       "      <td>1.0</td>\n",
       "      <td>89.0</td>\n",
       "      <td>0.027700</td>\n",
       "      <td>3.0</td>\n",
       "    </tr>\n",
       "    <tr>\n",
       "      <th>13</th>\n",
       "      <td>3</td>\n",
       "      <td>78608850</td>\n",
       "      <td>0.006225</td>\n",
       "      <td>1.0</td>\n",
       "      <td>89.0</td>\n",
       "      <td>0.027700</td>\n",
       "      <td>3.0</td>\n",
       "    </tr>\n",
       "    <tr>\n",
       "      <th>16</th>\n",
       "      <td>3</td>\n",
       "      <td>75630144</td>\n",
       "      <td>0.006041</td>\n",
       "      <td>1.0</td>\n",
       "      <td>89.0</td>\n",
       "      <td>0.027700</td>\n",
       "      <td>3.0</td>\n",
       "    </tr>\n",
       "  </tbody>\n",
       "</table>\n",
       "</div>"
      ],
      "text/plain": [
       "    user_id  track_id     score  count_tracks  genre_rank  cb_score  rank\n",
       "0         3  78194999  0.008977           1.0        89.0  0.031185   1.0\n",
       "4         3  75944934  0.007619           1.0        89.0  0.029039   2.0\n",
       "7         3  84382282  0.007052           1.0        89.0  0.027700   3.0\n",
       "13        3  78608850  0.006225           1.0        89.0  0.027700   3.0\n",
       "16        3  75630144  0.006041           1.0        89.0  0.027700   3.0"
      ]
     },
     "execution_count": 8,
     "metadata": {},
     "output_type": "execute_result"
    }
   ],
   "source": [
    "final_recommendations.head()"
   ]
  },
  {
   "cell_type": "markdown",
   "id": "b3c84071-45b5-4a15-a683-e0ab034a3128",
   "metadata": {},
   "source": [
    "# Оценка качества"
   ]
  },
  {
   "cell_type": "markdown",
   "id": "1b107fe4-554e-42b1-87d9-c435a52bb77a",
   "metadata": {},
   "source": [
    "Проверим оценку качества трёх типов рекомендаций: \n",
    "\n",
    "- топ популярных,\n",
    "- персональных, полученных при помощи ALS,\n",
    "- итоговых\n",
    "  \n",
    "по четырем метрикам: recall, precision, coverage, novelty."
   ]
  },
  {
   "cell_type": "code",
   "execution_count": 9,
   "id": "f9e6e40c",
   "metadata": {},
   "outputs": [],
   "source": [
    "final_recommendations = pd.read_parquet(\"./recsys/recommendations/recommendations.parquet\")"
   ]
  },
  {
   "cell_type": "code",
   "execution_count": 11,
   "id": "04b0953d",
   "metadata": {},
   "outputs": [
    {
     "data": {
      "text/html": [
       "<div>\n",
       "<style scoped>\n",
       "    .dataframe tbody tr th:only-of-type {\n",
       "        vertical-align: middle;\n",
       "    }\n",
       "\n",
       "    .dataframe tbody tr th {\n",
       "        vertical-align: top;\n",
       "    }\n",
       "\n",
       "    .dataframe thead th {\n",
       "        text-align: right;\n",
       "    }\n",
       "</style>\n",
       "<table border=\"1\" class=\"dataframe\">\n",
       "  <thead>\n",
       "    <tr style=\"text-align: right;\">\n",
       "      <th></th>\n",
       "      <th>user_id</th>\n",
       "      <th>track_id</th>\n",
       "      <th>score</th>\n",
       "      <th>count_tracks</th>\n",
       "      <th>genre_rank</th>\n",
       "      <th>cb_score</th>\n",
       "      <th>rank</th>\n",
       "    </tr>\n",
       "  </thead>\n",
       "  <tbody>\n",
       "    <tr>\n",
       "      <th>0</th>\n",
       "      <td>3</td>\n",
       "      <td>78194999</td>\n",
       "      <td>0.008977</td>\n",
       "      <td>1.0</td>\n",
       "      <td>89.0</td>\n",
       "      <td>0.031185</td>\n",
       "      <td>1.0</td>\n",
       "    </tr>\n",
       "    <tr>\n",
       "      <th>4</th>\n",
       "      <td>3</td>\n",
       "      <td>75944934</td>\n",
       "      <td>0.007619</td>\n",
       "      <td>1.0</td>\n",
       "      <td>89.0</td>\n",
       "      <td>0.029039</td>\n",
       "      <td>2.0</td>\n",
       "    </tr>\n",
       "    <tr>\n",
       "      <th>7</th>\n",
       "      <td>3</td>\n",
       "      <td>84382282</td>\n",
       "      <td>0.007052</td>\n",
       "      <td>1.0</td>\n",
       "      <td>89.0</td>\n",
       "      <td>0.027700</td>\n",
       "      <td>3.0</td>\n",
       "    </tr>\n",
       "    <tr>\n",
       "      <th>13</th>\n",
       "      <td>3</td>\n",
       "      <td>78608850</td>\n",
       "      <td>0.006225</td>\n",
       "      <td>1.0</td>\n",
       "      <td>89.0</td>\n",
       "      <td>0.027700</td>\n",
       "      <td>3.0</td>\n",
       "    </tr>\n",
       "    <tr>\n",
       "      <th>16</th>\n",
       "      <td>3</td>\n",
       "      <td>75630144</td>\n",
       "      <td>0.006041</td>\n",
       "      <td>1.0</td>\n",
       "      <td>89.0</td>\n",
       "      <td>0.027700</td>\n",
       "      <td>3.0</td>\n",
       "    </tr>\n",
       "  </tbody>\n",
       "</table>\n",
       "</div>"
      ],
      "text/plain": [
       "    user_id  track_id     score  count_tracks  genre_rank  cb_score  rank\n",
       "0         3  78194999  0.008977           1.0        89.0  0.031185   1.0\n",
       "4         3  75944934  0.007619           1.0        89.0  0.029039   2.0\n",
       "7         3  84382282  0.007052           1.0        89.0  0.027700   3.0\n",
       "13        3  78608850  0.006225           1.0        89.0  0.027700   3.0\n",
       "16        3  75630144  0.006041           1.0        89.0  0.027700   3.0"
      ]
     },
     "execution_count": 11,
     "metadata": {},
     "output_type": "execute_result"
    }
   ],
   "source": [
    "final_recommendations.head()"
   ]
  },
  {
   "cell_type": "code",
   "execution_count": 6,
   "id": "94d6f388-aecb-443e-8647-14014e932d4d",
   "metadata": {},
   "outputs": [],
   "source": [
    "def process_events_recs_for_binary_metrics(events_train, events_test, recs, top_k=None):\n",
    "\n",
    "\n",
    "    events_test[\"gt\"] = True\n",
    "    common_users = set(events_test[\"user_id\"]) & set(recs[\"user_id\"])\n",
    "\n",
    "    \n",
    "    events_for_common_users = events_test[events_test[\"user_id\"].isin(common_users)].copy()\n",
    "    recs_for_common_users = recs[recs[\"user_id\"].isin(common_users)].copy()\n",
    "\n",
    "    recs_for_common_users = recs_for_common_users.sort_values([\"track_id\", \"cb_score\"], ascending=[True, False])\n",
    "    events_for_common_users = events_for_common_users[events_for_common_users[\"track_id\"].isin(events_train[\"track_id\"].unique())]\n",
    "\n",
    "    if top_k is not None:\n",
    "        recs_for_common_users = recs_for_common_users.groupby(\"user_id\").head(top_k)\n",
    "    \n",
    "    events_recs_common = events_for_common_users[[\"user_id\", \"track_id\", \"gt\"]].merge(\n",
    "        recs_for_common_users[[\"user_id\", \"track_id\", \"cb_score\"]], \n",
    "        on=[\"user_id\", \"track_id\"], how=\"outer\")    \n",
    "\n",
    "    events_recs_common[\"gt\"] = events_recs_common[\"gt\"].fillna(False)\n",
    "    events_recs_common[\"pr\"] = ~events_recs_common[\"cb_score\"].isnull()\n",
    "    \n",
    "    events_recs_common[\"tp\"] = events_recs_common[\"gt\"] & events_recs_common[\"pr\"]\n",
    "    events_recs_common[\"fp\"] = ~events_recs_common[\"gt\"] & events_recs_common[\"pr\"]\n",
    "    events_recs_common[\"fn\"] = events_recs_common[\"gt\"] & ~events_recs_common[\"pr\"]\n",
    "\n",
    "    return events_recs_common"
   ]
  },
  {
   "cell_type": "code",
   "execution_count": 7,
   "id": "26df411f-14c1-4848-8797-f37afe449cc6",
   "metadata": {},
   "outputs": [],
   "source": [
    "def compute_cls_metrics(events_recs_for_binary_metric):\n",
    "    \n",
    "    groupper = events_recs_for_binary_metric.groupby(\"user_id\")\n",
    "\n",
    "    # precision = tp / (tp + fp)\n",
    "    precision = groupper[\"tp\"].sum()/(groupper[\"tp\"].sum()+groupper[\"fp\"].sum())\n",
    "    precision = precision.fillna(0).mean()\n",
    "    \n",
    "    # recall = tp / (tp + fn)\n",
    "    recall = groupper[\"tp\"].sum()/(groupper[\"tp\"].sum()+groupper[\"fn\"].sum())# ваш код здесь #\n",
    "    recall = recall.fillna(0).mean()\n",
    "    return precision, recall"
   ]
  },
  {
   "cell_type": "code",
   "execution_count": 12,
   "id": "741a6510",
   "metadata": {},
   "outputs": [
    {
     "name": "stderr",
     "output_type": "stream",
     "text": [
      "/tmp/ipykernel_2183/612795073.py:4: SettingWithCopyWarning: \n",
      "A value is trying to be set on a copy of a slice from a DataFrame.\n",
      "Try using .loc[row_indexer,col_indexer] = value instead\n",
      "\n",
      "See the caveats in the documentation: https://pandas.pydata.org/pandas-docs/stable/user_guide/indexing.html#returning-a-view-versus-a-copy\n",
      "  events_test[\"gt\"] = True\n"
     ]
    },
    {
     "name": "stdout",
     "output_type": "stream",
     "text": [
      "precision: 0.041, recall: 0.006\n"
     ]
    }
   ],
   "source": [
    "cb_events_recs_for_binary_metrics_5 = process_events_recs_for_binary_metrics(\n",
    "    events_train,\n",
    "    events_test,\n",
    "    final_recommendations,\n",
    "    top_k=5)\n",
    "\n",
    "cb_precision_5, cb_recall_5 = compute_cls_metrics(cb_events_recs_for_binary_metrics_5)\n",
    "\n",
    "print(f\"precision: {cb_precision_5:.3f}, recall: {cb_recall_5:.3f}\")"
   ]
  },
  {
   "cell_type": "code",
   "execution_count": 44,
   "id": "5beb0cf1",
   "metadata": {},
   "outputs": [
    {
     "data": {
      "text/plain": [
       "18894"
      ]
     },
     "execution_count": 44,
     "metadata": {},
     "output_type": "execute_result"
    }
   ],
   "source": [
    "sm = final_recommendations['track_id'].nunique()\n",
    "sm\n"
   ]
  },
  {
   "cell_type": "code",
   "execution_count": 45,
   "id": "3b773aea",
   "metadata": {},
   "outputs": [
    {
     "name": "stdout",
     "output_type": "stream",
     "text": [
      "coverage: 0.02\n"
     ]
    }
   ],
   "source": [
    "cov_items = sm/items.shape[0]\n",
    "print(f\"coverage: {cov_items:.2f}\") "
   ]
  },
  {
   "cell_type": "code",
   "execution_count": null,
   "id": "f1e5b48c",
   "metadata": {},
   "outputs": [],
   "source": [
    "events_test[\"listened\"] = True\n",
    "final_recommendations = final_recommendations.merge(events_test[[\"user_id\", \"track_id\", \"listened\"]], on=[\"user_id\", \"track_id\"], how=\"left\")\n",
    "final_recommendations[\"listened\"] = final_recommendations[\"listened\"].fillna(False).astype(\"bool\")\n",
    "final_recommendations = final_recommendations.sort_values(by='cb_score', ascending=False)\n",
    "final_recommendations[\"rank\"] = final_recommendations.groupby(\"user_id\").cumcount() + 1"
   ]
  },
  {
   "cell_type": "code",
   "execution_count": 54,
   "id": "ff59cad1",
   "metadata": {},
   "outputs": [
    {
     "name": "stdout",
     "output_type": "stream",
     "text": [
      "novelty: 1.00\n"
     ]
    }
   ],
   "source": [
    "novelty_5 = (1-final_recommendations.query(\"rank <= 5\").groupby(\"user_id\")[\"listened\"].mean())\n",
    "print(f\"novelty: {novelty_5.mean():.2f}\") "
   ]
  },
  {
   "cell_type": "markdown",
   "id": "f1c8d38c-32b0-46a4-96f0-cd01dac708bc",
   "metadata": {},
   "source": [
    "# === Выводы, метрики ==="
   ]
  },
  {
   "cell_type": "markdown",
   "id": "f7d7d5d8-7d1e-4fdf-a6cd-83e5ce92c684",
   "metadata": {},
   "source": [
    "Основные выводы при работе над расчётом рекомендаций, рассчитанные метрики."
   ]
  },
  {
   "cell_type": "code",
   "execution_count": 55,
   "id": "6403097d-db36-46d9-8952-613c9bd51b05",
   "metadata": {},
   "outputs": [
    {
     "name": "stdout",
     "output_type": "stream",
     "text": [
      "precision: 0.041, recall: 0.006, coverage: 0.02, novelty: 1.00\n"
     ]
    }
   ],
   "source": [
    "print(f\"precision: {cb_precision_5:.3f}, recall: {cb_recall_5:.3f}, coverage: {cov_items:.2f}, novelty: {novelty_5.mean():.2f}\")"
   ]
  },
  {
   "cell_type": "markdown",
   "id": "269614a0",
   "metadata": {},
   "source": [
    "precision: 0.041, recall: 0.006, coverage: 0.02, novelty: 1.00  \n",
    "Вывод: Метрики слабые, на это повлияло сокращение events до двух месяцев, что показывает метрика покрытие. Сократил чтобы тратилось меньше времени на обработку рекомендаций, возможно стояло сокращать по количеству пользователей. Но из-за этого предлагаются новые треки, что показывает метрика новизны."
   ]
  },
  {
   "cell_type": "markdown",
   "id": "ab65bb6c",
   "metadata": {},
   "source": [
    "<div class=\"alert alert-success\" style=\"border-radius: 15px; box-shadow: 4px 4px 4px; border: 1px solid \">\n",
    "<b> Комментарий ревьюера  ✔️</b>\n",
    "    \n",
    "Никита, ты проделал хорошо работу над созданием ранжирующей модели рекомендаций. Тебе удалось грамотно структурировать обработку данных, применить модель, а также проработать все этапы – от подготовки данных до расчетов метрик.\n",
    "\n",
    "Метрики оказались неоднозначными: высокая новизна говорит о предложении новых треков, но низкие значения precision и recall (0.041 и 0.006) сигнализируют о необходимости доработок. Ты также сделал верное замечание о сокращении объема данных по временным рамкам, чтобы снизить затраты времени, однако это привело к уменьшению покрытия. В будущем стоит попробовать сокращение по количеству пользователей, что, возможно, улучшит метрики покрытия и точности.\n",
    "\n",
    "В целом, твоя работа демонстрирует хорошие знания подходов к построению рекомендательных систем и дальнейшие перспективы для улучшения в оптимизации данных и параметров модели. Желаю тебе удачи в будущих спринтах!\n",
    "\n",
    "</div>\n",
    "\n"
   ]
  },
  {
   "cell_type": "code",
   "execution_count": null,
   "id": "8b4da4fb",
   "metadata": {},
   "outputs": [],
   "source": []
  }
 ],
 "metadata": {
  "kernelspec": {
   "display_name": "Python 3 (ipykernel)",
   "language": "python",
   "name": "python3"
  },
  "language_info": {
   "codemirror_mode": {
    "name": "ipython",
    "version": 3
   },
   "file_extension": ".py",
   "mimetype": "text/x-python",
   "name": "python",
   "nbconvert_exporter": "python",
   "pygments_lexer": "ipython3",
   "version": "3.9.5"
  },
  "toc": {
   "base_numbering": 1,
   "nav_menu": {},
   "number_sections": true,
   "sideBar": true,
   "skip_h1_title": true,
   "title_cell": "Table of Contents",
   "title_sidebar": "Contents",
   "toc_cell": false,
   "toc_position": {},
   "toc_section_display": true,
   "toc_window_display": false
  }
 },
 "nbformat": 4,
 "nbformat_minor": 5
}
